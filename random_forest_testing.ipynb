{
 "cells": [
  {
   "cell_type": "markdown",
   "metadata": {},
   "source": [
    "### Imports"
   ]
  },
  {
   "cell_type": "code",
   "execution_count": 1,
   "metadata": {
    "ExecuteTime": {
     "end_time": "2016-06-08T11:04:56.704356",
     "start_time": "2016-06-08T11:04:32.487720"
    },
    "collapsed": true,
    "run_control": {
     "frozen": false,
     "read_only": false
    }
   },
   "outputs": [],
   "source": [
    "from sklearn.ensemble import RandomForestClassifier, ExtraTreesClassifier\n",
    "from sklearn.cross_validation import train_test_split, cross_val_score\n",
    "import pandas as pd\n",
    "import numpy as np\n",
    "import os\n",
    "import json\n",
    "import string\n",
    "from collections import Counter"
   ]
  },
  {
   "cell_type": "markdown",
   "metadata": {},
   "source": [
    "### On full DSSP files"
   ]
  },
  {
   "cell_type": "code",
   "execution_count": 2,
   "metadata": {
    "ExecuteTime": {
     "end_time": "2016-06-08T11:04:58.909546",
     "start_time": "2016-06-08T11:04:58.811695"
    },
    "collapsed": false,
    "run_control": {
     "frozen": false,
     "read_only": false
    }
   },
   "outputs": [],
   "source": [
    "topdir, _, files = next(os.walk('clean_dssp_csv/'))"
   ]
  },
  {
   "cell_type": "code",
   "execution_count": 3,
   "metadata": {
    "ExecuteTime": {
     "end_time": "2016-06-08T11:06:08.835361",
     "start_time": "2016-06-08T11:05:00.472391"
    },
    "collapsed": false,
    "run_control": {
     "frozen": false,
     "read_only": false
    }
   },
   "outputs": [],
   "source": [
    "df = pd.DataFrame()\n",
    "\n",
    "for fi in files:\n",
    "    data = pd.read_csv(topdir+fi)\n",
    "    df = df.append(data)"
   ]
  },
  {
   "cell_type": "code",
   "execution_count": 4,
   "metadata": {
    "ExecuteTime": {
     "end_time": "2016-06-08T11:06:09.385490",
     "start_time": "2016-06-08T11:06:08.838243"
    },
    "collapsed": false,
    "run_control": {
     "frozen": false,
     "read_only": false
    }
   },
   "outputs": [
    {
     "data": {
      "text/plain": [
       "(268675, 32)"
      ]
     },
     "execution_count": 4,
     "metadata": {},
     "output_type": "execute_result"
    }
   ],
   "source": [
    "df.shape"
   ]
  },
  {
   "cell_type": "code",
   "execution_count": 5,
   "metadata": {
    "ExecuteTime": {
     "end_time": "2016-06-08T11:06:09.975419",
     "start_time": "2016-06-08T11:06:09.388524"
    },
    "collapsed": false,
    "run_control": {
     "frozen": false,
     "read_only": false
    }
   },
   "outputs": [
    {
     "data": {
      "text/html": [
       "<div>\n",
       "<table border=\"1\" class=\"dataframe\">\n",
       "  <thead>\n",
       "    <tr style=\"text-align: right;\">\n",
       "      <th></th>\n",
       "      <th>DSSP</th>\n",
       "      <th>PDB</th>\n",
       "      <th>CHAIN</th>\n",
       "      <th>AA</th>\n",
       "      <th>SS</th>\n",
       "      <th>3H</th>\n",
       "      <th>4H</th>\n",
       "      <th>5H</th>\n",
       "      <th>BEND</th>\n",
       "      <th>CHIR</th>\n",
       "      <th>...</th>\n",
       "      <th>ON2I</th>\n",
       "      <th>ON2E</th>\n",
       "      <th>TCO</th>\n",
       "      <th>KAPPA</th>\n",
       "      <th>ALPHA</th>\n",
       "      <th>PHI</th>\n",
       "      <th>PSI</th>\n",
       "      <th>X-CA</th>\n",
       "      <th>Y-CA</th>\n",
       "      <th>Z-CA</th>\n",
       "    </tr>\n",
       "  </thead>\n",
       "  <tbody>\n",
       "    <tr>\n",
       "      <th>0</th>\n",
       "      <td>1</td>\n",
       "      <td>1.0</td>\n",
       "      <td>A</td>\n",
       "      <td>V</td>\n",
       "      <td>C</td>\n",
       "      <td>?</td>\n",
       "      <td>?</td>\n",
       "      <td>?</td>\n",
       "      <td>?</td>\n",
       "      <td>?</td>\n",
       "      <td>...</td>\n",
       "      <td>428</td>\n",
       "      <td>-0.0</td>\n",
       "      <td>0.000</td>\n",
       "      <td>360.0</td>\n",
       "      <td>360.0</td>\n",
       "      <td>360.0</td>\n",
       "      <td>157.5</td>\n",
       "      <td>10.2</td>\n",
       "      <td>20.8</td>\n",
       "      <td>6.8</td>\n",
       "    </tr>\n",
       "    <tr>\n",
       "      <th>1</th>\n",
       "      <td>2</td>\n",
       "      <td>2.0</td>\n",
       "      <td>A</td>\n",
       "      <td>L</td>\n",
       "      <td>C</td>\n",
       "      <td>?</td>\n",
       "      <td>?</td>\n",
       "      <td>?</td>\n",
       "      <td>?</td>\n",
       "      <td>-</td>\n",
       "      <td>...</td>\n",
       "      <td>0</td>\n",
       "      <td>0.0</td>\n",
       "      <td>-0.785</td>\n",
       "      <td>360.0</td>\n",
       "      <td>-142.6</td>\n",
       "      <td>-89.6</td>\n",
       "      <td>124.7</td>\n",
       "      <td>6.6</td>\n",
       "      <td>21.5</td>\n",
       "      <td>7.8</td>\n",
       "    </tr>\n",
       "    <tr>\n",
       "      <th>2</th>\n",
       "      <td>3</td>\n",
       "      <td>3.0</td>\n",
       "      <td>A</td>\n",
       "      <td>S</td>\n",
       "      <td>C</td>\n",
       "      <td>?</td>\n",
       "      <td>&gt;</td>\n",
       "      <td>?</td>\n",
       "      <td>?</td>\n",
       "      <td>-</td>\n",
       "      <td>...</td>\n",
       "      <td>5</td>\n",
       "      <td>-0.3</td>\n",
       "      <td>-0.260</td>\n",
       "      <td>26.2</td>\n",
       "      <td>-103.3</td>\n",
       "      <td>-75.8</td>\n",
       "      <td>167.2</td>\n",
       "      <td>4.8</td>\n",
       "      <td>23.2</td>\n",
       "      <td>4.9</td>\n",
       "    </tr>\n",
       "    <tr>\n",
       "      <th>3</th>\n",
       "      <td>4</td>\n",
       "      <td>4.0</td>\n",
       "      <td>A</td>\n",
       "      <td>P</td>\n",
       "      <td>H</td>\n",
       "      <td>?</td>\n",
       "      <td>&gt;</td>\n",
       "      <td>?</td>\n",
       "      <td>S</td>\n",
       "      <td>+</td>\n",
       "      <td>...</td>\n",
       "      <td>5</td>\n",
       "      <td>-0.2</td>\n",
       "      <td>0.929</td>\n",
       "      <td>126.4</td>\n",
       "      <td>49.2</td>\n",
       "      <td>-56.6</td>\n",
       "      <td>-43.6</td>\n",
       "      <td>2.3</td>\n",
       "      <td>26.0</td>\n",
       "      <td>5.3</td>\n",
       "    </tr>\n",
       "    <tr>\n",
       "      <th>4</th>\n",
       "      <td>5</td>\n",
       "      <td>5.0</td>\n",
       "      <td>A</td>\n",
       "      <td>A</td>\n",
       "      <td>H</td>\n",
       "      <td>?</td>\n",
       "      <td>&gt;</td>\n",
       "      <td>?</td>\n",
       "      <td>S</td>\n",
       "      <td>+</td>\n",
       "      <td>...</td>\n",
       "      <td>5</td>\n",
       "      <td>-0.2</td>\n",
       "      <td>0.920</td>\n",
       "      <td>109.3</td>\n",
       "      <td>52.7</td>\n",
       "      <td>-66.7</td>\n",
       "      <td>-37.7</td>\n",
       "      <td>-0.5</td>\n",
       "      <td>23.4</td>\n",
       "      <td>4.5</td>\n",
       "    </tr>\n",
       "  </tbody>\n",
       "</table>\n",
       "<p>5 rows × 32 columns</p>\n",
       "</div>"
      ],
      "text/plain": [
       "   DSSP  PDB CHAIN AA SS 3H 4H 5H BEND CHIR  ...  ON2I ON2E    TCO  KAPPA  \\\n",
       "0     1  1.0     A  V  C  ?  ?  ?    ?    ?  ...   428 -0.0  0.000  360.0   \n",
       "1     2  2.0     A  L  C  ?  ?  ?    ?    -  ...     0  0.0 -0.785  360.0   \n",
       "2     3  3.0     A  S  C  ?  >  ?    ?    -  ...     5 -0.3 -0.260   26.2   \n",
       "3     4  4.0     A  P  H  ?  >  ?    S    +  ...     5 -0.2  0.929  126.4   \n",
       "4     5  5.0     A  A  H  ?  >  ?    S    +  ...     5 -0.2  0.920  109.3   \n",
       "\n",
       "   ALPHA    PHI    PSI  X-CA  Y-CA  Z-CA  \n",
       "0  360.0  360.0  157.5  10.2  20.8   6.8  \n",
       "1 -142.6  -89.6  124.7   6.6  21.5   7.8  \n",
       "2 -103.3  -75.8  167.2   4.8  23.2   4.9  \n",
       "3   49.2  -56.6  -43.6   2.3  26.0   5.3  \n",
       "4   52.7  -66.7  -37.7  -0.5  23.4   4.5  \n",
       "\n",
       "[5 rows x 32 columns]"
      ]
     },
     "execution_count": 5,
     "metadata": {},
     "output_type": "execute_result"
    }
   ],
   "source": [
    "df.head()"
   ]
  },
  {
   "cell_type": "code",
   "execution_count": 17,
   "metadata": {
    "ExecuteTime": {
     "end_time": "2016-06-08T15:52:15.708509",
     "start_time": "2016-06-08T15:52:15.454072"
    },
    "collapsed": false
   },
   "outputs": [
    {
     "name": "stdout",
     "output_type": "stream",
     "text": [
      "Counter({'H': 92221, 'C': 53458, 'E': 51024, 'T': 31321, 'S': 24113, 'G': 11450, 'B': 3861, 'I': 1227})\n"
     ]
    }
   ],
   "source": [
    "print Counter(df['SS'].values)"
   ]
  },
  {
   "cell_type": "code",
   "execution_count": 7,
   "metadata": {
    "ExecuteTime": {
     "end_time": "2016-06-08T11:06:10.089238",
     "start_time": "2016-06-08T11:06:10.081045"
    },
    "collapsed": false,
    "run_control": {
     "frozen": false,
     "read_only": false
    },
    "scrolled": true
   },
   "outputs": [
    {
     "name": "stdout",
     "output_type": "stream",
     "text": [
      "{'!': 0, '#': 2, '\"': 1, '%': 4, '$': 3, \"'\": 6, '&': 5, ')': 8, '(': 7, '+': 10, '*': 9, '-': 12, ',': 11, '/': 14, '.': 13, ';': 16, ':': 15, '=': 18, '<': 17, '?': 20, '>': 19, 'A': 32, '@': 21, 'C': 34, 'B': 33, 'E': 36, 'D': 35, 'G': 38, 'F': 37, 'I': 40, 'H': 39, 'K': 42, 'J': 41, 'M': 44, 'L': 43, 'O': 46, 'N': 45, 'Q': 48, 'P': 47, 'S': 50, 'R': 49, 'U': 52, 'T': 51, 'W': 54, 'V': 53, 'Y': 56, 'X': 55, '[': 22, 'Z': 57, ']': 24, '\\\\': 23, '_': 26, '^': 25, 'a': 58, '`': 27, 'c': 60, 'b': 59, 'e': 62, 'd': 61, 'g': 64, 'f': 63, 'i': 66, 'h': 65, 'k': 68, 'j': 67, 'm': 70, 'l': 69, 'o': 72, 'n': 71, 'q': 74, 'p': 73, 's': 76, 'r': 75, 'u': 78, 't': 77, 'w': 80, 'v': 79, 'y': 82, 'x': 81, '{': 28, 'z': 83, '}': 30, '|': 29, '~': 31}\n"
     ]
    }
   ],
   "source": [
    "encoding = {l:n for n, l in enumerate(list(string.punctuation)+list(string.letters))}\n",
    "print encoding"
   ]
  },
  {
   "cell_type": "code",
   "execution_count": 8,
   "metadata": {
    "ExecuteTime": {
     "end_time": "2016-06-08T11:06:36.646087",
     "start_time": "2016-06-08T11:06:36.308053"
    },
    "collapsed": false,
    "run_control": {
     "frozen": false,
     "read_only": false
    }
   },
   "outputs": [
    {
     "data": {
      "text/html": [
       "<div>\n",
       "<table border=\"1\" class=\"dataframe\">\n",
       "  <thead>\n",
       "    <tr style=\"text-align: right;\">\n",
       "      <th></th>\n",
       "      <th>DSSP</th>\n",
       "      <th>PDB</th>\n",
       "      <th>AA</th>\n",
       "      <th>3H</th>\n",
       "      <th>4H</th>\n",
       "      <th>5H</th>\n",
       "      <th>BEND</th>\n",
       "      <th>CHIR</th>\n",
       "      <th>BB1</th>\n",
       "      <th>BB2</th>\n",
       "      <th>...</th>\n",
       "      <th>ON2I</th>\n",
       "      <th>ON2E</th>\n",
       "      <th>TCO</th>\n",
       "      <th>KAPPA</th>\n",
       "      <th>ALPHA</th>\n",
       "      <th>PHI</th>\n",
       "      <th>PSI</th>\n",
       "      <th>X-CA</th>\n",
       "      <th>Y-CA</th>\n",
       "      <th>Z-CA</th>\n",
       "    </tr>\n",
       "  </thead>\n",
       "  <tbody>\n",
       "    <tr>\n",
       "      <th>0</th>\n",
       "      <td>1</td>\n",
       "      <td>1.0</td>\n",
       "      <td>V</td>\n",
       "      <td>?</td>\n",
       "      <td>?</td>\n",
       "      <td>?</td>\n",
       "      <td>?</td>\n",
       "      <td>?</td>\n",
       "      <td>?</td>\n",
       "      <td>?</td>\n",
       "      <td>...</td>\n",
       "      <td>428</td>\n",
       "      <td>-0.0</td>\n",
       "      <td>0.000</td>\n",
       "      <td>360.0</td>\n",
       "      <td>360.0</td>\n",
       "      <td>360.0</td>\n",
       "      <td>157.5</td>\n",
       "      <td>10.2</td>\n",
       "      <td>20.8</td>\n",
       "      <td>6.8</td>\n",
       "    </tr>\n",
       "    <tr>\n",
       "      <th>1</th>\n",
       "      <td>2</td>\n",
       "      <td>2.0</td>\n",
       "      <td>L</td>\n",
       "      <td>?</td>\n",
       "      <td>?</td>\n",
       "      <td>?</td>\n",
       "      <td>?</td>\n",
       "      <td>-</td>\n",
       "      <td>?</td>\n",
       "      <td>?</td>\n",
       "      <td>...</td>\n",
       "      <td>0</td>\n",
       "      <td>0.0</td>\n",
       "      <td>-0.785</td>\n",
       "      <td>360.0</td>\n",
       "      <td>-142.6</td>\n",
       "      <td>-89.6</td>\n",
       "      <td>124.7</td>\n",
       "      <td>6.6</td>\n",
       "      <td>21.5</td>\n",
       "      <td>7.8</td>\n",
       "    </tr>\n",
       "    <tr>\n",
       "      <th>2</th>\n",
       "      <td>3</td>\n",
       "      <td>3.0</td>\n",
       "      <td>S</td>\n",
       "      <td>?</td>\n",
       "      <td>&gt;</td>\n",
       "      <td>?</td>\n",
       "      <td>?</td>\n",
       "      <td>-</td>\n",
       "      <td>?</td>\n",
       "      <td>?</td>\n",
       "      <td>...</td>\n",
       "      <td>5</td>\n",
       "      <td>-0.3</td>\n",
       "      <td>-0.260</td>\n",
       "      <td>26.2</td>\n",
       "      <td>-103.3</td>\n",
       "      <td>-75.8</td>\n",
       "      <td>167.2</td>\n",
       "      <td>4.8</td>\n",
       "      <td>23.2</td>\n",
       "      <td>4.9</td>\n",
       "    </tr>\n",
       "    <tr>\n",
       "      <th>3</th>\n",
       "      <td>4</td>\n",
       "      <td>4.0</td>\n",
       "      <td>P</td>\n",
       "      <td>?</td>\n",
       "      <td>&gt;</td>\n",
       "      <td>?</td>\n",
       "      <td>S</td>\n",
       "      <td>+</td>\n",
       "      <td>?</td>\n",
       "      <td>?</td>\n",
       "      <td>...</td>\n",
       "      <td>5</td>\n",
       "      <td>-0.2</td>\n",
       "      <td>0.929</td>\n",
       "      <td>126.4</td>\n",
       "      <td>49.2</td>\n",
       "      <td>-56.6</td>\n",
       "      <td>-43.6</td>\n",
       "      <td>2.3</td>\n",
       "      <td>26.0</td>\n",
       "      <td>5.3</td>\n",
       "    </tr>\n",
       "    <tr>\n",
       "      <th>4</th>\n",
       "      <td>5</td>\n",
       "      <td>5.0</td>\n",
       "      <td>A</td>\n",
       "      <td>?</td>\n",
       "      <td>&gt;</td>\n",
       "      <td>?</td>\n",
       "      <td>S</td>\n",
       "      <td>+</td>\n",
       "      <td>?</td>\n",
       "      <td>?</td>\n",
       "      <td>...</td>\n",
       "      <td>5</td>\n",
       "      <td>-0.2</td>\n",
       "      <td>0.920</td>\n",
       "      <td>109.3</td>\n",
       "      <td>52.7</td>\n",
       "      <td>-66.7</td>\n",
       "      <td>-37.7</td>\n",
       "      <td>-0.5</td>\n",
       "      <td>23.4</td>\n",
       "      <td>4.5</td>\n",
       "    </tr>\n",
       "  </tbody>\n",
       "</table>\n",
       "<p>5 rows × 30 columns</p>\n",
       "</div>"
      ],
      "text/plain": [
       "   DSSP  PDB AA 3H 4H 5H BEND CHIR BB1 BB2  ...   ON2I  ON2E    TCO  KAPPA  \\\n",
       "0     1  1.0  V  ?  ?  ?    ?    ?   ?   ?  ...    428  -0.0  0.000  360.0   \n",
       "1     2  2.0  L  ?  ?  ?    ?    -   ?   ?  ...      0   0.0 -0.785  360.0   \n",
       "2     3  3.0  S  ?  >  ?    ?    -   ?   ?  ...      5  -0.3 -0.260   26.2   \n",
       "3     4  4.0  P  ?  >  ?    S    +   ?   ?  ...      5  -0.2  0.929  126.4   \n",
       "4     5  5.0  A  ?  >  ?    S    +   ?   ?  ...      5  -0.2  0.920  109.3   \n",
       "\n",
       "   ALPHA    PHI    PSI  X-CA  Y-CA  Z-CA  \n",
       "0  360.0  360.0  157.5  10.2  20.8   6.8  \n",
       "1 -142.6  -89.6  124.7   6.6  21.5   7.8  \n",
       "2 -103.3  -75.8  167.2   4.8  23.2   4.9  \n",
       "3   49.2  -56.6  -43.6   2.3  26.0   5.3  \n",
       "4   52.7  -66.7  -37.7  -0.5  23.4   4.5  \n",
       "\n",
       "[5 rows x 30 columns]"
      ]
     },
     "execution_count": 8,
     "metadata": {},
     "output_type": "execute_result"
    }
   ],
   "source": [
    "features = df.copy().drop(['SS', 'CHAIN'], axis=1)\n",
    "features.head()"
   ]
  },
  {
   "cell_type": "code",
   "execution_count": 9,
   "metadata": {
    "ExecuteTime": {
     "end_time": "2016-06-08T11:06:50.886080",
     "start_time": "2016-06-08T11:06:43.613062"
    },
    "collapsed": false,
    "run_control": {
     "frozen": false,
     "read_only": false
    }
   },
   "outputs": [],
   "source": [
    "X = [[encoding[c] if c in encoding else float(c) for c in row] for row in features.values]"
   ]
  },
  {
   "cell_type": "code",
   "execution_count": 10,
   "metadata": {
    "ExecuteTime": {
     "end_time": "2016-06-08T11:06:50.946781",
     "start_time": "2016-06-08T11:06:50.888311"
    },
    "collapsed": true,
    "run_control": {
     "frozen": false,
     "read_only": false
    }
   },
   "outputs": [],
   "source": [
    "y = df.copy()['SS']"
   ]
  },
  {
   "cell_type": "code",
   "execution_count": 11,
   "metadata": {
    "ExecuteTime": {
     "end_time": "2016-06-08T11:06:51.111519",
     "start_time": "2016-06-08T11:06:50.950576"
    },
    "collapsed": false,
    "run_control": {
     "frozen": false,
     "read_only": false
    },
    "scrolled": true
   },
   "outputs": [
    {
     "name": "stdout",
     "output_type": "stream",
     "text": [
      "Counter({'H': 92221, 'C': 53458, 'E': 51024, 'T': 31321, 'S': 24113, 'G': 11450, 'B': 3861, 'I': 1227})\n"
     ]
    }
   ],
   "source": [
    "print Counter(y)"
   ]
  },
  {
   "cell_type": "code",
   "execution_count": 12,
   "metadata": {
    "ExecuteTime": {
     "end_time": "2016-06-08T11:07:27.843980",
     "start_time": "2016-06-08T11:07:27.466204"
    },
    "collapsed": true,
    "run_control": {
     "frozen": false,
     "read_only": false
    }
   },
   "outputs": [],
   "source": [
    "# without\n",
    "X_train, X_test, y_train, y_test = train_test_split(X, y)\n",
    "\n",
    "# with stratification\n",
    "# X_train, X_test, y_train, y_test = train_test_split(X, y, stratify=y)"
   ]
  },
  {
   "cell_type": "code",
   "execution_count": 23,
   "metadata": {
    "ExecuteTime": {
     "end_time": "2016-06-08T15:59:33.805274",
     "start_time": "2016-06-08T15:59:33.786844"
    },
    "collapsed": true,
    "run_control": {
     "frozen": false,
     "read_only": false
    }
   },
   "outputs": [],
   "source": [
    "rf = RandomForestClassifier()\n",
    "erf = ExtraTreesClassifier()"
   ]
  },
  {
   "cell_type": "code",
   "execution_count": 14,
   "metadata": {
    "ExecuteTime": {
     "end_time": "2016-06-08T11:07:53.761348",
     "start_time": "2016-06-08T11:07:29.448884"
    },
    "collapsed": false,
    "run_control": {
     "frozen": false,
     "read_only": false
    }
   },
   "outputs": [
    {
     "data": {
      "text/plain": [
       "ExtraTreesClassifier(bootstrap=False, class_weight=None, criterion='gini',\n",
       "           max_depth=None, max_features='auto', max_leaf_nodes=None,\n",
       "           min_samples_leaf=1, min_samples_split=2,\n",
       "           min_weight_fraction_leaf=0.0, n_estimators=10, n_jobs=1,\n",
       "           oob_score=False, random_state=None, verbose=0, warm_start=False)"
      ]
     },
     "execution_count": 14,
     "metadata": {},
     "output_type": "execute_result"
    }
   ],
   "source": [
    "rf.fit(X_train, y_train)\n",
    "erf.fit(X_train, y_train)"
   ]
  },
  {
   "cell_type": "code",
   "execution_count": 15,
   "metadata": {
    "ExecuteTime": {
     "end_time": "2016-06-08T11:10:07.071441",
     "start_time": "2016-06-08T11:09:11.468166"
    },
    "collapsed": false,
    "run_control": {
     "frozen": false,
     "read_only": false
    }
   },
   "outputs": [
    {
     "name": "stdout",
     "output_type": "stream",
     "text": [
      "0.938423800379\n",
      "0.936421360263\n"
     ]
    }
   ],
   "source": [
    "print cross_val_score(RandomForestClassifier(), X, y).mean()\n",
    "print cross_val_score(ExtraTreesClassifier(), X, y).mean()"
   ]
  },
  {
   "cell_type": "code",
   "execution_count": 16,
   "metadata": {
    "ExecuteTime": {
     "end_time": "2016-06-08T11:10:23.143267",
     "start_time": "2016-06-08T11:10:23.124890"
    },
    "collapsed": false,
    "run_control": {
     "frozen": false,
     "read_only": false
    }
   },
   "outputs": [
    {
     "data": {
      "text/plain": [
       "array(['BEND', 'TCO', 'PSI', 'BSL', 'KAPPA', 'BP1', '3H', 'ALPHA', '4H',\n",
       "       'ON1I', 'CHIR', 'PHI', 'ON1E', 'NO1I', 'BP2', 'BB1', 'NO2E', 'NO1E',\n",
       "       '5H', 'BB2', 'ON2I', 'ON2E', 'PDB', 'ACC', 'AA', 'NO2I', 'Y-CA',\n",
       "       'Z-CA', 'X-CA', 'DSSP'], dtype=object)"
      ]
     },
     "execution_count": 16,
     "metadata": {},
     "output_type": "execute_result"
    }
   ],
   "source": [
    "# get an idea of the feature importances \n",
    "# NOTE: AA feature is one of the lowest signal features ... great\n",
    "ind = np.argsort(rf.feature_importances_)[::-1]\n",
    "features.columns.values[ind]"
   ]
  },
  {
   "cell_type": "markdown",
   "metadata": {},
   "source": [
    "### Now try with just AA sequence files"
   ]
  },
  {
   "cell_type": "code",
   "execution_count": 25,
   "metadata": {
    "ExecuteTime": {
     "end_time": "2016-06-08T16:00:05.793830",
     "start_time": "2016-06-08T16:00:05.692742"
    },
    "collapsed": false
   },
   "outputs": [
    {
     "data": {
      "text/plain": [
       "(268675, 1)"
      ]
     },
     "execution_count": 25,
     "metadata": {},
     "output_type": "execute_result"
    }
   ],
   "source": [
    "seq = np.asarray([encoding[v] for v in df['AA'].values])\n",
    "seq = seq.reshape(-1, 1)\n",
    "seq.shape"
   ]
  },
  {
   "cell_type": "code",
   "execution_count": 26,
   "metadata": {
    "ExecuteTime": {
     "end_time": "2016-06-08T16:00:07.297259",
     "start_time": "2016-06-08T16:00:07.123165"
    },
    "collapsed": false
   },
   "outputs": [],
   "source": [
    "X_train, X_test, y_train, y_test = train_test_split(seq, y)"
   ]
  },
  {
   "cell_type": "code",
   "execution_count": 27,
   "metadata": {
    "ExecuteTime": {
     "end_time": "2016-06-08T16:00:11.663177",
     "start_time": "2016-06-08T16:00:10.520739"
    },
    "collapsed": false
   },
   "outputs": [
    {
     "data": {
      "text/plain": [
       "RandomForestClassifier(bootstrap=True, class_weight=None, criterion='gini',\n",
       "            max_depth=None, max_features='auto', max_leaf_nodes=None,\n",
       "            min_samples_leaf=1, min_samples_split=2,\n",
       "            min_weight_fraction_leaf=0.0, n_estimators=10, n_jobs=1,\n",
       "            oob_score=False, random_state=None, verbose=0,\n",
       "            warm_start=False)"
      ]
     },
     "execution_count": 27,
     "metadata": {},
     "output_type": "execute_result"
    }
   ],
   "source": [
    "rf.fit(X_train, y_train)"
   ]
  },
  {
   "cell_type": "code",
   "execution_count": 28,
   "metadata": {
    "ExecuteTime": {
     "end_time": "2016-06-08T16:00:36.209600",
     "start_time": "2016-06-08T16:00:35.028866"
    },
    "collapsed": false
   },
   "outputs": [
    {
     "data": {
      "text/plain": [
       "array([ 0.3727224 ,  0.36768056,  0.37180632])"
      ]
     },
     "execution_count": 28,
     "metadata": {},
     "output_type": "execute_result"
    }
   ],
   "source": [
    "cross_val_score(rf, X_test, y_test)"
   ]
  },
  {
   "cell_type": "code",
   "execution_count": 31,
   "metadata": {
    "ExecuteTime": {
     "end_time": "2016-06-08T16:04:02.142397",
     "start_time": "2016-06-08T16:04:02.090991"
    },
    "collapsed": false
   },
   "outputs": [
    {
     "data": {
      "text/plain": [
       "Counter({'B': 1012,\n",
       "         'C': 13328,\n",
       "         'E': 12573,\n",
       "         'G': 2788,\n",
       "         'H': 23202,\n",
       "         'I': 307,\n",
       "         'S': 6060,\n",
       "         'T': 7899})"
      ]
     },
     "execution_count": 31,
     "metadata": {},
     "output_type": "execute_result"
    }
   ],
   "source": [
    "Counter(y_test)"
   ]
  },
  {
   "cell_type": "code",
   "execution_count": 30,
   "metadata": {
    "ExecuteTime": {
     "end_time": "2016-06-08T16:01:02.691694",
     "start_time": "2016-06-08T16:01:02.541972"
    },
    "collapsed": false
   },
   "outputs": [
    {
     "data": {
      "text/plain": [
       "Counter({'B': 1, 'C': 6763, 'E': 8901, 'G': 3, 'H': 46332, 'T': 5169})"
      ]
     },
     "execution_count": 30,
     "metadata": {},
     "output_type": "execute_result"
    }
   ],
   "source": [
    "Counter(rf.predict(X_test))"
   ]
  },
  {
   "cell_type": "markdown",
   "metadata": {},
   "source": [
    " "
   ]
  }
 ],
 "metadata": {
  "kernelspec": {
   "display_name": "Python 2",
   "language": "python",
   "name": "python2"
  },
  "language_info": {
   "codemirror_mode": {
    "name": "ipython",
    "version": 2
   },
   "file_extension": ".py",
   "mimetype": "text/x-python",
   "name": "python",
   "nbconvert_exporter": "python",
   "pygments_lexer": "ipython2",
   "version": "2.7.11"
  }
 },
 "nbformat": 4,
 "nbformat_minor": 0
}
