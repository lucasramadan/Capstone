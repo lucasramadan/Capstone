{
 "cells": [
  {
   "cell_type": "code",
   "execution_count": 1,
   "metadata": {
    "ExecuteTime": {
     "end_time": "2016-07-07T17:42:47.549168",
     "start_time": "2016-07-07T17:42:36.634197"
    },
    "collapsed": true,
    "run_control": {
     "frozen": false,
     "read_only": false
    }
   },
   "outputs": [],
   "source": [
    "from __future__ import print_function\n",
    "import pandas as pd\n",
    "import numpy as np\n",
    "import os"
   ]
  },
  {
   "cell_type": "code",
   "execution_count": 2,
   "metadata": {
    "ExecuteTime": {
     "end_time": "2016-07-07T17:42:47.558490",
     "start_time": "2016-07-07T17:42:47.552825"
    },
    "collapsed": true,
    "run_control": {
     "frozen": false,
     "read_only": false
    }
   },
   "outputs": [],
   "source": [
    "data_dir = 'verbose_dssp_csv/'\n",
    "labels_dir = 'one_hot_labels/'"
   ]
  },
  {
   "cell_type": "code",
   "execution_count": 8,
   "metadata": {
    "ExecuteTime": {
     "end_time": "2016-07-07T17:43:11.754130",
     "start_time": "2016-07-07T17:43:11.667315"
    },
    "collapsed": false,
    "run_control": {
     "frozen": false,
     "read_only": false
    }
   },
   "outputs": [],
   "source": [
    "data_top, data_inner, data_files = os.walk(data_dir).next()\n",
    "labels_top, labels_inner, labels_files = os.walk(labels_dir).next()"
   ]
  },
  {
   "cell_type": "code",
   "execution_count": 9,
   "metadata": {
    "ExecuteTime": {
     "end_time": "2016-07-07T17:43:12.438405",
     "start_time": "2016-07-07T17:43:12.432848"
    },
    "collapsed": false,
    "run_control": {
     "frozen": false,
     "read_only": false
    }
   },
   "outputs": [
    {
     "name": "stdout",
     "output_type": "stream",
     "text": [
      "['1a3n.csv', '1b3n.csv', '1c3n.csv', '1d3n.csv', '1g3n.csv']\n"
     ]
    }
   ],
   "source": [
    "print(labels_files[:5])"
   ]
  },
  {
   "cell_type": "code",
   "execution_count": 10,
   "metadata": {
    "ExecuteTime": {
     "end_time": "2016-07-07T17:43:12.899992",
     "start_time": "2016-07-07T17:43:12.893369"
    },
    "collapsed": false,
    "run_control": {
     "frozen": false,
     "read_only": false
    }
   },
   "outputs": [],
   "source": [
    "nineteen = [fi for fi in data_files if fi.startswith('(19)_')]"
   ]
  },
  {
   "cell_type": "code",
   "execution_count": 11,
   "metadata": {
    "ExecuteTime": {
     "end_time": "2016-07-07T17:43:14.046649",
     "start_time": "2016-07-07T17:43:14.041386"
    },
    "collapsed": false,
    "run_control": {
     "frozen": false,
     "read_only": false
    }
   },
   "outputs": [
    {
     "name": "stdout",
     "output_type": "stream",
     "text": [
      "['(19)_1a3n.csv', '(19)_1b3n.csv', '(19)_1c3n.csv', '(19)_1d3n.csv', '(19)_1g3n.csv']\n"
     ]
    }
   ],
   "source": [
    "print(nineteen[:5])"
   ]
  },
  {
   "cell_type": "code",
   "execution_count": 14,
   "metadata": {
    "ExecuteTime": {
     "end_time": "2016-07-07T17:43:36.854558",
     "start_time": "2016-07-07T17:43:36.849055"
    },
    "collapsed": true,
    "run_control": {
     "frozen": false,
     "read_only": false
    }
   },
   "outputs": [],
   "source": [
    "def get_fn(fn):\n",
    "    s = fn.index('_') + 1\n",
    "    return fn[s:]"
   ]
  },
  {
   "cell_type": "code",
   "execution_count": 16,
   "metadata": {
    "ExecuteTime": {
     "end_time": "2016-07-07T17:43:37.458901",
     "start_time": "2016-07-07T17:43:37.453546"
    },
    "collapsed": false,
    "run_control": {
     "frozen": false,
     "read_only": false
    }
   },
   "outputs": [],
   "source": [
    "assert all([get_fn(df) == lf for df, lf in zip(data_files, labels_files)])"
   ]
  },
  {
   "cell_type": "code",
   "execution_count": 17,
   "metadata": {
    "ExecuteTime": {
     "end_time": "2016-07-07T17:46:55.899128",
     "start_time": "2016-07-07T17:46:48.834259"
    },
    "collapsed": false,
    "run_control": {
     "frozen": false,
     "read_only": false
    }
   },
   "outputs": [
    {
     "name": "stdout",
     "output_type": "stream",
     "text": [
      "progress: 100.0%"
     ]
    }
   ],
   "source": [
    "n_files = len(labels_files) - 1\n",
    "max_len = 0\n",
    "\n",
    "for i, lf in enumerate(labels_files):\n",
    "\tprog = str(round(i*100.0/n_files, 2))\n",
    "\tprint('\\rprogress: '+prog+'%', end='')\n",
    "\n",
    "\tlabel_data = pd.read_csv(labels_top + lf)\n",
    "\tn_obs, n_labels = label_data.shape\n",
    "\n",
    "\tif n_obs > max_len:\n",
    "\t\tmax_len = n_obs"
   ]
  },
  {
   "cell_type": "code",
   "execution_count": 18,
   "metadata": {
    "ExecuteTime": {
     "end_time": "2016-07-07T17:47:03.192967",
     "start_time": "2016-07-07T17:47:03.169736"
    },
    "collapsed": false
   },
   "outputs": [
    {
     "data": {
      "text/plain": [
       "8462"
      ]
     },
     "execution_count": 18,
     "metadata": {},
     "output_type": "execute_result"
    }
   ],
   "source": [
    "max_len"
   ]
  },
  {
   "cell_type": "markdown",
   "metadata": {},
   "source": [
    "### Example"
   ]
  },
  {
   "cell_type": "code",
   "execution_count": 19,
   "metadata": {
    "ExecuteTime": {
     "end_time": "2016-07-07T17:47:41.724450",
     "start_time": "2016-07-07T17:47:41.458385"
    },
    "collapsed": true,
    "run_control": {
     "frozen": false,
     "read_only": false
    }
   },
   "outputs": [],
   "source": [
    "data = pd.read_csv(data_top+nineteen[0])"
   ]
  },
  {
   "cell_type": "code",
   "execution_count": 20,
   "metadata": {
    "ExecuteTime": {
     "end_time": "2016-07-07T17:47:42.131564",
     "start_time": "2016-07-07T17:47:42.123867"
    },
    "collapsed": false,
    "run_control": {
     "frozen": false,
     "read_only": false
    }
   },
   "outputs": [],
   "source": [
    "lab = pd.read_csv(labels_top+labels_files[0])"
   ]
  },
  {
   "cell_type": "code",
   "execution_count": 22,
   "metadata": {
    "ExecuteTime": {
     "end_time": "2016-07-07T17:47:51.374271",
     "start_time": "2016-07-07T17:47:51.346619"
    },
    "collapsed": false,
    "run_control": {
     "frozen": false,
     "read_only": false
    }
   },
   "outputs": [
    {
     "name": "stdout",
     "output_type": "stream",
     "text": [
      "8462 572\n"
     ]
    },
    {
     "ename": "NameError",
     "evalue": "name 'z' is not defined",
     "output_type": "error",
     "traceback": [
      "\u001b[0;31m---------------------------------------------------------------------------\u001b[0m",
      "\u001b[0;31mNameError\u001b[0m                                 Traceback (most recent call last)",
      "\u001b[0;32m<ipython-input-22-cbdef9b22879>\u001b[0m in \u001b[0;36m<module>\u001b[0;34m()\u001b[0m\n\u001b[1;32m      1\u001b[0m \u001b[0;32mprint\u001b[0m\u001b[0;34m(\u001b[0m\u001b[0mmax_len\u001b[0m\u001b[0;34m,\u001b[0m \u001b[0mdata\u001b[0m\u001b[0;34m.\u001b[0m\u001b[0mshape\u001b[0m\u001b[0;34m[\u001b[0m\u001b[0;36m0\u001b[0m\u001b[0;34m]\u001b[0m\u001b[0;34m)\u001b[0m\u001b[0;34m\u001b[0m\u001b[0m\n\u001b[1;32m      2\u001b[0m \u001b[0mdiff\u001b[0m \u001b[0;34m=\u001b[0m \u001b[0mmax_len\u001b[0m \u001b[0;34m-\u001b[0m \u001b[0mdata\u001b[0m\u001b[0;34m.\u001b[0m\u001b[0mshape\u001b[0m\u001b[0;34m[\u001b[0m\u001b[0;36m0\u001b[0m\u001b[0;34m]\u001b[0m\u001b[0;34m\u001b[0m\u001b[0m\n\u001b[0;32m----> 3\u001b[0;31m \u001b[0mreq\u001b[0m \u001b[0;34m=\u001b[0m \u001b[0mnp\u001b[0m\u001b[0;34m.\u001b[0m\u001b[0masarray\u001b[0m\u001b[0;34m(\u001b[0m\u001b[0;34m[\u001b[0m\u001b[0mz\u001b[0m \u001b[0;32mfor\u001b[0m \u001b[0m_\u001b[0m \u001b[0;32min\u001b[0m \u001b[0mxrange\u001b[0m\u001b[0;34m(\u001b[0m\u001b[0mdiff\u001b[0m\u001b[0;34m)\u001b[0m\u001b[0;34m]\u001b[0m\u001b[0;34m)\u001b[0m\u001b[0;34m\u001b[0m\u001b[0m\n\u001b[0m\u001b[1;32m      4\u001b[0m \u001b[0mreq\u001b[0m\u001b[0;34m.\u001b[0m\u001b[0mshape\u001b[0m\u001b[0;34m\u001b[0m\u001b[0m\n",
      "\u001b[0;31mNameError\u001b[0m: name 'z' is not defined"
     ]
    }
   ],
   "source": [
    "print(max_len, data.shape[0])\n",
    "diff = max_len - data.shape[0]\n",
    "req = np.asarray([z for _ in xrange(diff)])\n",
    "req.shape"
   ]
  },
  {
   "cell_type": "code",
   "execution_count": 57,
   "metadata": {
    "ExecuteTime": {
     "end_time": "2016-07-07T13:25:08.256471",
     "start_time": "2016-07-07T13:25:08.248905"
    },
    "collapsed": false,
    "run_control": {
     "frozen": false,
     "read_only": false
    }
   },
   "outputs": [
    {
     "data": {
      "text/plain": [
       "(572, 912)"
      ]
     },
     "execution_count": 57,
     "metadata": {},
     "output_type": "execute_result"
    }
   ],
   "source": [
    "data.shape"
   ]
  },
  {
   "cell_type": "code",
   "execution_count": 59,
   "metadata": {
    "ExecuteTime": {
     "end_time": "2016-07-07T13:25:30.335019",
     "start_time": "2016-07-07T13:25:30.295416"
    },
    "collapsed": false,
    "run_control": {
     "frozen": false,
     "read_only": false
    }
   },
   "outputs": [
    {
     "data": {
      "text/plain": [
       "(8462, 912)"
      ]
     },
     "execution_count": 59,
     "metadata": {},
     "output_type": "execute_result"
    }
   ],
   "source": [
    "masked_ex = np.append(req, data.values, axis=0)\n",
    "masked_ex.shape"
   ]
  },
  {
   "cell_type": "code",
   "execution_count": 60,
   "metadata": {
    "ExecuteTime": {
     "end_time": "2016-07-07T13:25:36.000843",
     "start_time": "2016-07-07T13:25:35.992150"
    },
    "collapsed": false,
    "run_control": {
     "frozen": false,
     "read_only": false
    }
   },
   "outputs": [
    {
     "data": {
      "text/plain": [
       "array([[0, 0, 0, ..., 0, 0, 0],\n",
       "       [0, 0, 0, ..., 0, 0, 0],\n",
       "       [0, 0, 0, ..., 0, 0, 0],\n",
       "       ..., \n",
       "       [0, 0, 0, ..., 0, 0, 0],\n",
       "       [0, 0, 0, ..., 0, 0, 0],\n",
       "       [0, 0, 0, ..., 0, 0, 0]])"
      ]
     },
     "execution_count": 60,
     "metadata": {},
     "output_type": "execute_result"
    }
   ],
   "source": [
    "masked_ex[:10]"
   ]
  },
  {
   "cell_type": "markdown",
   "metadata": {},
   "source": [
    "### On all files"
   ]
  },
  {
   "cell_type": "code",
   "execution_count": 62,
   "metadata": {
    "ExecuteTime": {
     "end_time": "2016-07-07T13:51:36.505559",
     "start_time": "2016-07-07T13:51:36.347628"
    },
    "collapsed": false,
    "run_control": {
     "frozen": false,
     "read_only": false
    }
   },
   "outputs": [],
   "source": [
    "! mkdir masked_tensor_verbose"
   ]
  },
  {
   "cell_type": "code",
   "execution_count": 63,
   "metadata": {
    "ExecuteTime": {
     "end_time": "2016-07-07T13:51:42.258680",
     "start_time": "2016-07-07T13:51:42.131305"
    },
    "collapsed": false,
    "run_control": {
     "frozen": false,
     "read_only": false
    }
   },
   "outputs": [
    {
     "name": "stdout",
     "output_type": "stream",
     "text": [
      "(19)_combined.npy.zip           \u001b[34mcombined_labels\u001b[m\u001b[m\r\n",
      "(19)_combined_verbose.csv.zip   \u001b[34mcombined_positional_dssp_csv\u001b[m\u001b[m\r\n",
      "(19)_scaled_complete_tensor.npy \u001b[34mcombined_scaled_tensor_dssp_npy\u001b[m\u001b[m\r\n",
      "Create Recurrent Data.ipynb     \u001b[34mcombined_tensor_dssp_npy\u001b[m\u001b[m\r\n",
      "DSSP_File_Format.md             \u001b[34mcombined_verbose_dssp_csv\u001b[m\u001b[m\r\n",
      "Data_Description.md             \u001b[34mdssp.data\u001b[m\u001b[m\r\n",
      "\u001b[34mData_Processing\u001b[m\u001b[m                 dssp.data.zip\r\n",
      "\u001b[34mData_Processing_Scripts\u001b[m\u001b[m         \u001b[34mimgs\u001b[m\u001b[m\r\n",
      "\u001b[34mEncodings\u001b[m\u001b[m                       \u001b[34mmasked_tensor_verbose\u001b[m\u001b[m\r\n",
      "NN_Modeling.py                  \u001b[34mone_hot_labels\u001b[m\u001b[m\r\n",
      "\u001b[34mNeural_Network_Modeling\u001b[m\u001b[m         one_hot_labels.csv.zip\r\n",
      "\u001b[34mParallelized_Scripts\u001b[m\u001b[m            \u001b[34mpositional_dssp_csv\u001b[m\u001b[m\r\n",
      "Protein_Masking.ipynb           \u001b[34mraw_dssp_csv\u001b[m\u001b[m\r\n",
      "README.md                       reorder_verbose.sh\r\n",
      "Resources.md                    save_npz.py\r\n",
      "TODO.md                         \u001b[34mscaled_tensor_dssp_npy\u001b[m\u001b[m\r\n",
      "Untitled.ipynb                  \u001b[34mtensor_dssp_npy\u001b[m\u001b[m\r\n",
      "\u001b[34marticles\u001b[m\u001b[m                        \u001b[34mtrainings\u001b[m\u001b[m\r\n",
      "aws_login.sh                    \u001b[34mverbose_dssp_csv\u001b[m\u001b[m\r\n",
      "\u001b[34mclean_dssp_csv\u001b[m\u001b[m\r\n"
     ]
    }
   ],
   "source": [
    "! ls"
   ]
  },
  {
   "cell_type": "code",
   "execution_count": 94,
   "metadata": {
    "ExecuteTime": {
     "end_time": "2016-07-07T16:36:00.164807",
     "start_time": "2016-07-07T16:10:11.021847"
    },
    "collapsed": false,
    "run_control": {
     "frozen": false,
     "read_only": false
    }
   },
   "outputs": [
    {
     "name": "stdout",
     "output_type": "stream",
     "text": [
      "(19)_3nzt.csv---(498, 912)---(7964, 912)"
     ]
    }
   ],
   "source": [
    "z = [0]*fs\n",
    "zl = [0]*label_space\n",
    "\n",
    "new_dir = 'masked_tensor_verbose/'\n",
    "\n",
    "# mask each protein \n",
    "for lab, (fi, l) in zip(labels, lens):\n",
    "    # check to safeguard against different file orderings\n",
    "    assert lab == get_fn(fi)\n",
    "    \n",
    "    # get data in \n",
    "    data = pd.read_csv(top+fi).values\n",
    "    label = pd.read_csv(t+lab).values\n",
    "    \n",
    "    # couple of specific conditions to catch anomolies\n",
    "    if (data.shape[0] == 0) or (data.shape[0] == m):\n",
    "        continue\n",
    "    \n",
    "    # calculate difference\n",
    "    diff = m - data.shape[0]\n",
    "    \n",
    "    # make number of zero rows required\n",
    "    data_req = np.asarray([z for _ in xrange(diff)])\n",
    "    label_req = np.asarray([zl for _ in xrange(diff)])\n",
    "\n",
    "    print('\\r'+fi+'---'+str(data.shape)+'---'+str(data_req.shape), end='')\n",
    "    \n",
    "    # append \n",
    "    d = np.append(data_req, data, axis=0)\n",
    "    l = np.append(label_req, label, axis=0)\n",
    "    \n",
    "    # craft filename\n",
    "    fn = new_dir + fi[:fi.index('.csv')] + '.npz'\n",
    "    np.savez(fn, x=d, y=l)"
   ]
  },
  {
   "cell_type": "markdown",
   "metadata": {},
   "source": [
    "### Now create one whole combined array"
   ]
  },
  {
   "cell_type": "code",
   "execution_count": 95,
   "metadata": {
    "ExecuteTime": {
     "end_time": "2016-07-07T16:43:51.221912",
     "start_time": "2016-07-07T16:43:50.898344"
    },
    "collapsed": false,
    "run_control": {
     "frozen": false,
     "read_only": false
    }
   },
   "outputs": [],
   "source": [
    "data_top, data_inner, data_files = os.walk('masked_tensor_verbose/').next()"
   ]
  },
  {
   "cell_type": "code",
   "execution_count": 101,
   "metadata": {
    "ExecuteTime": {
     "end_time": "2016-07-07T16:45:01.122593",
     "start_time": "2016-07-07T16:45:01.114945"
    },
    "collapsed": false,
    "run_control": {
     "frozen": false,
     "read_only": false
    }
   },
   "outputs": [
    {
     "data": {
      "text/plain": [
       "['(11)_1a3n.csv',\n",
       " '(11)_1b3n.csv',\n",
       " '(11)_1c3n.csv',\n",
       " '(11)_1d3n.csv',\n",
       " '(11)_1g3n.csv',\n",
       " '(11)_1h3n.csv',\n",
       " '(11)_1i3n.csv',\n",
       " '(11)_1j3n.csv',\n",
       " '(11)_1k3n.csv',\n",
       " '(11)_1l3n.csv']"
      ]
     },
     "execution_count": 101,
     "metadata": {},
     "output_type": "execute_result"
    }
   ],
   "source": [
    "files[:10]"
   ]
  },
  {
   "cell_type": "code",
   "execution_count": 96,
   "metadata": {
    "ExecuteTime": {
     "end_time": "2016-07-07T16:43:55.105548",
     "start_time": "2016-07-07T16:43:53.296557"
    },
    "collapsed": false,
    "run_control": {
     "frozen": false,
     "read_only": false
    }
   },
   "outputs": [],
   "source": [
    "with open(data_top+data_files[0]) as f:\n",
    "    loaded = np.load(f)\n",
    "    ex_y = loaded['y']\n",
    "    ex_x = loaded['x']"
   ]
  },
  {
   "cell_type": "code",
   "execution_count": 99,
   "metadata": {
    "ExecuteTime": {
     "end_time": "2016-07-07T16:44:19.935172",
     "start_time": "2016-07-07T16:44:19.929556"
    },
    "collapsed": false,
    "run_control": {
     "frozen": false,
     "read_only": false
    }
   },
   "outputs": [
    {
     "name": "stdout",
     "output_type": "stream",
     "text": [
      "(8462, 912)\n",
      "(8462, 8)\n"
     ]
    }
   ],
   "source": [
    "print(ex_x.shape)\n",
    "print(ex_y.shape)"
   ]
  },
  {
   "cell_type": "code",
   "execution_count": 98,
   "metadata": {
    "ExecuteTime": {
     "end_time": "2016-07-07T16:43:56.761838",
     "start_time": "2016-07-07T16:43:56.689279"
    },
    "collapsed": false,
    "run_control": {
     "frozen": false,
     "read_only": false
    }
   },
   "outputs": [
    {
     "ename": "ValueError",
     "evalue": "too many values to unpack",
     "output_type": "error",
     "traceback": [
      "\u001b[0;31m---------------------------------------------------------------------------\u001b[0m",
      "\u001b[0;31mValueError\u001b[0m                                Traceback (most recent call last)",
      "\u001b[0;32m<ipython-input-98-76528a9fbe36>\u001b[0m in \u001b[0;36m<module>\u001b[0;34m()\u001b[0m\n\u001b[0;32m----> 1\u001b[0;31m \u001b[0;32mfor\u001b[0m \u001b[0mi\u001b[0m\u001b[0;34m,\u001b[0m \u001b[0mdf\u001b[0m \u001b[0;32min\u001b[0m \u001b[0mdata_files\u001b[0m\u001b[0;34m:\u001b[0m\u001b[0;34m\u001b[0m\u001b[0m\n\u001b[0m\u001b[1;32m      2\u001b[0m     \u001b[0;32mprint\u001b[0m\u001b[0;34m(\u001b[0m\u001b[0;34m'\\r'\u001b[0m\u001b[0;34m+\u001b[0m\u001b[0mstr\u001b[0m\u001b[0;34m(\u001b[0m\u001b[0mi\u001b[0m\u001b[0;34m)\u001b[0m\u001b[0;34m,\u001b[0m \u001b[0mend\u001b[0m\u001b[0;34m=\u001b[0m\u001b[0;34m''\u001b[0m\u001b[0;34m)\u001b[0m\u001b[0;34m\u001b[0m\u001b[0m\n\u001b[1;32m      3\u001b[0m \u001b[0;34m\u001b[0m\u001b[0m\n",
      "\u001b[0;31mValueError\u001b[0m: too many values to unpack"
     ]
    }
   ],
   "source": [
    "\n",
    "\n",
    "for i, df in enumerate(data_files):\n",
    "    print('\\r'+str(i), end='')\n",
    "    "
   ]
  },
  {
   "cell_type": "code",
   "execution_count": null,
   "metadata": {
    "collapsed": true,
    "run_control": {
     "frozen": false,
     "read_only": false
    }
   },
   "outputs": [],
   "source": []
  }
 ],
 "metadata": {
  "kernelspec": {
   "display_name": "Python 2",
   "language": "python",
   "name": "python2"
  },
  "language_info": {
   "codemirror_mode": {
    "name": "ipython",
    "version": 2
   },
   "file_extension": ".py",
   "mimetype": "text/x-python",
   "name": "python",
   "nbconvert_exporter": "python",
   "pygments_lexer": "ipython2",
   "version": "2.7.11"
  }
 },
 "nbformat": 4,
 "nbformat_minor": 0
}
