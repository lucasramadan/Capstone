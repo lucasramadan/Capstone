{
 "cells": [
  {
   "cell_type": "markdown",
   "metadata": {},
   "source": [
    "### Imports"
   ]
  },
  {
   "cell_type": "code",
   "execution_count": 1,
   "metadata": {
    "ExecuteTime": {
     "end_time": "2016-06-08T11:28:53.754675",
     "start_time": "2016-06-08T11:28:53.747171"
    },
    "collapsed": true,
    "run_control": {
     "frozen": false,
     "read_only": false
    }
   },
   "outputs": [],
   "source": [
    "import json\n",
    "import string"
   ]
  },
  {
   "cell_type": "markdown",
   "metadata": {},
   "source": [
    "### Encodings"
   ]
  },
  {
   "cell_type": "markdown",
   "metadata": {},
   "source": [
    "#### Amino Acid Encoding"
   ]
  },
  {
   "cell_type": "code",
   "execution_count": 2,
   "metadata": {
    "ExecuteTime": {
     "end_time": "2016-06-08T11:28:54.513481",
     "start_time": "2016-06-08T11:28:54.507105"
    },
    "collapsed": true,
    "run_control": {
     "frozen": false,
     "read_only": false
    }
   },
   "outputs": [],
   "source": [
    "# all possible amino acid values\n",
    "aminos = ['-', 'A', 'C', 'D', 'E', 'F', 'G', 'H', 'I', 'K', 'L', 'M', \n",
    "          'N', 'P', 'Q', 'R', 'S', 'T', 'V', 'W', 'X', 'Y']\n",
    "\n",
    "aminos = aminos + list(string.ascii_lowercase)"
   ]
  },
  {
   "cell_type": "code",
   "execution_count": 3,
   "metadata": {
    "ExecuteTime": {
     "end_time": "2016-06-08T11:28:55.077483",
     "start_time": "2016-06-08T11:28:55.069594"
    },
    "collapsed": false,
    "run_control": {
     "frozen": false,
     "read_only": false
    }
   },
   "outputs": [
    {
     "name": "stdout",
     "output_type": "stream",
     "text": [
      "{'-': 0, 'A': 1, 'C': 2, 'E': 4, 'D': 3, 'G': 6, 'F': 5, 'I': 8, 'H': 7, 'K': 9, 'M': 11, 'L': 10, 'N': 12, 'Q': 14, 'P': 13, 'S': 16, 'R': 15, 'T': 17, 'W': 19, 'V': 18, 'Y': 21, 'X': 20, 'a': 22, 'c': 24, 'b': 23, 'e': 26, 'd': 25, 'g': 28, 'f': 27, 'i': 30, 'h': 29, 'k': 32, 'j': 31, 'm': 34, 'l': 33, 'o': 36, 'n': 35, 'q': 38, 'p': 37, 's': 40, 'r': 39, 'u': 42, 't': 41, 'w': 44, 'v': 43, 'y': 46, 'x': 45, 'z': 47}\n"
     ]
    }
   ],
   "source": [
    "# create the amino encoding\n",
    "amino_encoding = {v:k for k, v in enumerate(aminos)}\n",
    "print amino_encoding\n",
    "\n",
    "# save amino encoding as json\n",
    "with open('../amino_encoding.json', 'w') as out:\n",
    "    json.dump(amino_encoding, out)"
   ]
  },
  {
   "cell_type": "markdown",
   "metadata": {},
   "source": [
    "#### Label Encoding"
   ]
  },
  {
   "cell_type": "code",
   "execution_count": 6,
   "metadata": {
    "ExecuteTime": {
     "end_time": "2016-06-08T15:53:42.433228",
     "start_time": "2016-06-08T15:53:42.426284"
    },
    "collapsed": false,
    "run_control": {
     "frozen": false,
     "read_only": false
    }
   },
   "outputs": [
    {
     "name": "stdout",
     "output_type": "stream",
     "text": [
      "{'C': 0, 'B': 4, 'E': 2, 'G': 7, 'I': 5, 'H': 1, 'S': 6, 'T': 3}\n"
     ]
    }
   ],
   "source": [
    "labels = ['C', 'H', 'E', 'T', 'B', 'I', 'S', 'G']\n",
    "\n",
    "label_encoding = {v:k for k, v in enumerate(labels)}\n",
    "\n",
    "print label_encoding\n",
    "\n",
    "# save encoding as json\n",
    "with open('../label_encoding.json', 'w') as out:\n",
    "    json.dump(label_encoding, out)"
   ]
  },
  {
   "cell_type": "markdown",
   "metadata": {},
   "source": [
    "### Take a look at the encoding"
   ]
  },
  {
   "cell_type": "code",
   "execution_count": 8,
   "metadata": {
    "ExecuteTime": {
     "end_time": "2016-06-08T15:55:34.123201",
     "start_time": "2016-06-08T15:55:34.116281"
    },
    "collapsed": true,
    "run_control": {
     "frozen": false,
     "read_only": false
    }
   },
   "outputs": [],
   "source": [
    "# make sure encoding is consistent\n",
    "with open('../label_encoding.json', 'r') as f:\n",
    "    loaded = json.load(f)"
   ]
  },
  {
   "cell_type": "code",
   "execution_count": 9,
   "metadata": {
    "ExecuteTime": {
     "end_time": "2016-06-08T15:55:34.726331",
     "start_time": "2016-06-08T15:55:34.692273"
    },
    "collapsed": false,
    "run_control": {
     "frozen": false,
     "read_only": false
    }
   },
   "outputs": [
    {
     "data": {
      "text/plain": [
       "{u'B': 4, u'C': 0, u'E': 2, u'G': 7, u'H': 1, u'I': 5, u'S': 6, u'T': 3}"
      ]
     },
     "execution_count": 9,
     "metadata": {},
     "output_type": "execute_result"
    }
   ],
   "source": [
    "loaded"
   ]
  },
  {
   "cell_type": "markdown",
   "metadata": {},
   "source": [
    " "
   ]
  }
 ],
 "metadata": {
  "kernelspec": {
   "display_name": "Python 2",
   "language": "python",
   "name": "python2"
  },
  "language_info": {
   "codemirror_mode": {
    "name": "ipython",
    "version": 2
   },
   "file_extension": ".py",
   "mimetype": "text/x-python",
   "name": "python",
   "nbconvert_exporter": "python",
   "pygments_lexer": "ipython2",
   "version": "2.7.11"
  }
 },
 "nbformat": 4,
 "nbformat_minor": 0
}
