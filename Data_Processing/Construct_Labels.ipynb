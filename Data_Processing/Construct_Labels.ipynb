{
 "cells": [
  {
   "cell_type": "markdown",
   "metadata": {},
   "source": [
    "### Imports"
   ]
  },
  {
   "cell_type": "code",
   "execution_count": 13,
   "metadata": {
    "ExecuteTime": {
     "end_time": "2016-06-12T12:50:21.747190",
     "start_time": "2016-06-12T12:50:21.741315"
    },
    "collapsed": true
   },
   "outputs": [],
   "source": [
    "from __future__ import print_function\n",
    "import pandas as pd\n",
    "import numpy as np\n",
    "import os\n",
    "import json"
   ]
  },
  {
   "cell_type": "markdown",
   "metadata": {},
   "source": [
    "### Single File"
   ]
  },
  {
   "cell_type": "code",
   "execution_count": 9,
   "metadata": {
    "ExecuteTime": {
     "end_time": "2016-06-12T12:49:46.304799",
     "start_time": "2016-06-12T12:49:46.286181"
    },
    "collapsed": false
   },
   "outputs": [
    {
     "name": "stdout",
     "output_type": "stream",
     "text": [
      "(692,)\n"
     ]
    }
   ],
   "source": [
    "df = pd.read_csv('../clean_dssp_csv/1i3n.csv')\n",
    "ex_ss = df['SS']\n",
    "print(ex_ss.shape)"
   ]
  },
  {
   "cell_type": "markdown",
   "metadata": {},
   "source": [
    "#### Structural Labels"
   ]
  },
  {
   "cell_type": "code",
   "execution_count": 10,
   "metadata": {
    "ExecuteTime": {
     "end_time": "2016-06-12T12:49:48.067824",
     "start_time": "2016-06-12T12:49:48.061337"
    },
    "collapsed": false
   },
   "outputs": [
    {
     "name": "stdout",
     "output_type": "stream",
     "text": [
      "['C' 'C' 'E' 'E' 'E' 'E' 'E' 'T' 'T' 'T' 'S' 'H' 'H' 'H' 'H']\n"
     ]
    }
   ],
   "source": [
    "print(ex_ss.values[:15])"
   ]
  },
  {
   "cell_type": "markdown",
   "metadata": {},
   "source": [
    "#### Numerical Labels"
   ]
  },
  {
   "cell_type": "code",
   "execution_count": 17,
   "metadata": {
    "ExecuteTime": {
     "end_time": "2016-06-12T12:51:21.101968",
     "start_time": "2016-06-12T12:51:21.094367"
    },
    "collapsed": false
   },
   "outputs": [
    {
     "name": "stdout",
     "output_type": "stream",
     "text": [
      "{u'C': 0, u'B': 4, u'E': 2, u'G': 7, u'I': 5, u'H': 1, u'S': 6, u'T': 3}\n"
     ]
    }
   ],
   "source": [
    "# get encoding\n",
    "with open('../Encodings/label_encoding.json') as f:\n",
    "    enc = json.load(f)\n",
    "\n",
    "print(enc)"
   ]
  },
  {
   "cell_type": "code",
   "execution_count": 18,
   "metadata": {
    "ExecuteTime": {
     "end_time": "2016-06-12T12:51:21.436259",
     "start_time": "2016-06-12T12:51:21.426555"
    },
    "collapsed": false
   },
   "outputs": [
    {
     "name": "stdout",
     "output_type": "stream",
     "text": [
      "[0 0 2 2 2 2 2 3 3 3 6 1 1 1 1]\n"
     ]
    }
   ],
   "source": [
    "# create numerical labels\n",
    "num_labels = np.asarray([enc[v] for v in ex_ss.values])\n",
    "\n",
    "print(num_labels[:15])"
   ]
  },
  {
   "cell_type": "markdown",
   "metadata": {},
   "source": [
    "#### One Hot Labels"
   ]
  },
  {
   "cell_type": "code",
   "execution_count": 19,
   "metadata": {
    "ExecuteTime": {
     "end_time": "2016-06-12T12:53:16.715971",
     "start_time": "2016-06-12T12:53:16.698234"
    },
    "collapsed": true
   },
   "outputs": [],
   "source": [
    "def construct_one_hot(labels):\n",
    "    \"\"\"\n",
    "    INPUT: labels is a single column DataFrame\n",
    "    OUTPUT: data as a dummitized DataFrame\n",
    "    \"\"\"\n",
    "    # initial variables\n",
    "    cols = ['B', 'C', 'E', 'G', 'H', 'I', 'S', 'T']\n",
    "    n = len(cols)\n",
    "    data = []\n",
    "    \n",
    "    # have to reshape if passing in a DF\n",
    "    labels = labels.values.reshape(-1, )\n",
    "    \n",
    "    for l in labels:\n",
    "        row = np.zeros(n, dtype=int)\n",
    "        i = cols.index(l)\n",
    "        row[i] = 1\n",
    "        data.append(row)\n",
    "    \n",
    "    data = np.asarray(data)\n",
    "    df = pd.DataFrame(data, columns=cols)\n",
    "    \n",
    "    return df"
   ]
  },
  {
   "cell_type": "code",
   "execution_count": 21,
   "metadata": {
    "ExecuteTime": {
     "end_time": "2016-06-12T12:54:16.838922",
     "start_time": "2016-06-12T12:54:16.806526"
    },
    "collapsed": false
   },
   "outputs": [
    {
     "data": {
      "text/html": [
       "<div>\n",
       "<table border=\"1\" class=\"dataframe\">\n",
       "  <thead>\n",
       "    <tr style=\"text-align: right;\">\n",
       "      <th></th>\n",
       "      <th>B</th>\n",
       "      <th>C</th>\n",
       "      <th>E</th>\n",
       "      <th>G</th>\n",
       "      <th>H</th>\n",
       "      <th>I</th>\n",
       "      <th>S</th>\n",
       "      <th>T</th>\n",
       "    </tr>\n",
       "  </thead>\n",
       "  <tbody>\n",
       "    <tr>\n",
       "      <th>0</th>\n",
       "      <td>0</td>\n",
       "      <td>1</td>\n",
       "      <td>0</td>\n",
       "      <td>0</td>\n",
       "      <td>0</td>\n",
       "      <td>0</td>\n",
       "      <td>0</td>\n",
       "      <td>0</td>\n",
       "    </tr>\n",
       "    <tr>\n",
       "      <th>1</th>\n",
       "      <td>0</td>\n",
       "      <td>1</td>\n",
       "      <td>0</td>\n",
       "      <td>0</td>\n",
       "      <td>0</td>\n",
       "      <td>0</td>\n",
       "      <td>0</td>\n",
       "      <td>0</td>\n",
       "    </tr>\n",
       "    <tr>\n",
       "      <th>2</th>\n",
       "      <td>0</td>\n",
       "      <td>0</td>\n",
       "      <td>1</td>\n",
       "      <td>0</td>\n",
       "      <td>0</td>\n",
       "      <td>0</td>\n",
       "      <td>0</td>\n",
       "      <td>0</td>\n",
       "    </tr>\n",
       "    <tr>\n",
       "      <th>3</th>\n",
       "      <td>0</td>\n",
       "      <td>0</td>\n",
       "      <td>1</td>\n",
       "      <td>0</td>\n",
       "      <td>0</td>\n",
       "      <td>0</td>\n",
       "      <td>0</td>\n",
       "      <td>0</td>\n",
       "    </tr>\n",
       "    <tr>\n",
       "      <th>4</th>\n",
       "      <td>0</td>\n",
       "      <td>0</td>\n",
       "      <td>1</td>\n",
       "      <td>0</td>\n",
       "      <td>0</td>\n",
       "      <td>0</td>\n",
       "      <td>0</td>\n",
       "      <td>0</td>\n",
       "    </tr>\n",
       "  </tbody>\n",
       "</table>\n",
       "</div>"
      ],
      "text/plain": [
       "   B  C  E  G  H  I  S  T\n",
       "0  0  1  0  0  0  0  0  0\n",
       "1  0  1  0  0  0  0  0  0\n",
       "2  0  0  1  0  0  0  0  0\n",
       "3  0  0  1  0  0  0  0  0\n",
       "4  0  0  1  0  0  0  0  0"
      ]
     },
     "execution_count": 21,
     "metadata": {},
     "output_type": "execute_result"
    }
   ],
   "source": [
    "one_hot_labels = construct_one_hot(df[['SS']])\n",
    "one_hot_labels.head()"
   ]
  },
  {
   "cell_type": "markdown",
   "metadata": {},
   "source": [
    "### On all files"
   ]
  },
  {
   "cell_type": "code",
   "execution_count": 2,
   "metadata": {
    "ExecuteTime": {
     "end_time": "2016-06-12T12:42:56.042729",
     "start_time": "2016-06-12T12:42:56.027580"
    },
    "collapsed": true
   },
   "outputs": [],
   "source": [
    "topdir, _, files = next(os.walk('../clean_dssp_csv/'))"
   ]
  },
  {
   "cell_type": "code",
   "execution_count": null,
   "metadata": {
    "collapsed": true
   },
   "outputs": [],
   "source": [
    "n = len(files)\n",
    "\n",
    "for i, fi in enumerate(files):\n",
    "    per = int((i+1)*100.0/n)\n",
    "    \n",
    "    # print progress\n",
    "    print('\\r progress: '+str(per)+'%', end='')\n",
    "    \n",
    "    # get the data\n",
    "    df = pd.read_csv(topdir+fi)\n",
    "    \n",
    "    # get labels\n",
    "    labels = df[['SS']]\n",
    "    \n",
    "    # one hot\n",
    "    one_hot = construct_one_hot(labels)\n",
    "    \n",
    "    # write out\n",
    "    one_hot.to_csv('../one_hot_labels/'+fi, index=False)"
   ]
  },
  {
   "cell_type": "markdown",
   "metadata": {
    "run_control": {
     "frozen": false,
     "read_only": false
    }
   },
   "source": [
    " "
   ]
  }
 ],
 "metadata": {
  "kernelspec": {
   "display_name": "Python 2",
   "language": "python",
   "name": "python2"
  },
  "language_info": {
   "codemirror_mode": {
    "name": "ipython",
    "version": 2
   },
   "file_extension": ".py",
   "mimetype": "text/x-python",
   "name": "python",
   "nbconvert_exporter": "python",
   "pygments_lexer": "ipython2",
   "version": "2.7.11"
  }
 },
 "nbformat": 4,
 "nbformat_minor": 0
}
