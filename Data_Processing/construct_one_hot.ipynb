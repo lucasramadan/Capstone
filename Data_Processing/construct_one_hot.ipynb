{
 "cells": [
  {
   "cell_type": "markdown",
   "metadata": {},
   "source": [
    "### Imports"
   ]
  },
  {
   "cell_type": "code",
   "execution_count": 1,
   "metadata": {
    "ExecuteTime": {
     "end_time": "2016-06-02T17:34:55.449613",
     "start_time": "2016-06-02T17:34:45.858797"
    },
    "collapsed": true,
    "run_control": {
     "frozen": false,
     "read_only": false
    }
   },
   "outputs": [],
   "source": [
    "from __future__ import print_function\n",
    "import pandas as pd\n",
    "import numpy as np\n",
    "import os"
   ]
  },
  {
   "cell_type": "markdown",
   "metadata": {},
   "source": [
    "### On a single file"
   ]
  },
  {
   "cell_type": "code",
   "execution_count": 2,
   "metadata": {
    "ExecuteTime": {
     "end_time": "2016-06-02T17:35:31.576793",
     "start_time": "2016-06-02T17:35:31.536090"
    },
    "collapsed": false,
    "run_control": {
     "frozen": false,
     "read_only": false
    }
   },
   "outputs": [
    {
     "data": {
      "text/plain": [
       "['1a3n.csv',\n",
       " '1b3n.csv',\n",
       " '1c3n.csv',\n",
       " '1d3n.csv',\n",
       " '1g3n.csv',\n",
       " '1h3n.csv',\n",
       " '1i3n.csv',\n",
       " '1j3n.csv',\n",
       " '1k3n.csv',\n",
       " '1l3n.csv']"
      ]
     },
     "execution_count": 2,
     "metadata": {},
     "output_type": "execute_result"
    }
   ],
   "source": [
    "topdir, _, files = next(os.walk('../clean_dssp_csv/'))"
   ]
  },
  {
   "cell_type": "code",
   "execution_count": 3,
   "metadata": {
    "ExecuteTime": {
     "end_time": "2016-06-02T17:37:38.719900",
     "start_time": "2016-06-02T17:37:38.612744"
    },
    "collapsed": false,
    "run_control": {
     "frozen": false,
     "read_only": false
    }
   },
   "outputs": [
    {
     "data": {
      "text/html": [
       "<div>\n",
       "<table border=\"1\" class=\"dataframe\">\n",
       "  <thead>\n",
       "    <tr style=\"text-align: right;\">\n",
       "      <th></th>\n",
       "      <th>DSSP</th>\n",
       "      <th>PDB</th>\n",
       "      <th>CHAIN</th>\n",
       "      <th>AA</th>\n",
       "      <th>SS</th>\n",
       "      <th>3H</th>\n",
       "      <th>4H</th>\n",
       "      <th>5H</th>\n",
       "      <th>BEND</th>\n",
       "      <th>CHIR</th>\n",
       "      <th>...</th>\n",
       "      <th>ON2I</th>\n",
       "      <th>ON2E</th>\n",
       "      <th>TCO</th>\n",
       "      <th>KAPPA</th>\n",
       "      <th>ALPHA</th>\n",
       "      <th>PHI</th>\n",
       "      <th>PSI</th>\n",
       "      <th>X-CA</th>\n",
       "      <th>Y-CA</th>\n",
       "      <th>Z-CA</th>\n",
       "    </tr>\n",
       "  </thead>\n",
       "  <tbody>\n",
       "    <tr>\n",
       "      <th>0</th>\n",
       "      <td>1</td>\n",
       "      <td>1.0</td>\n",
       "      <td>A</td>\n",
       "      <td>V</td>\n",
       "      <td>C</td>\n",
       "      <td>?</td>\n",
       "      <td>?</td>\n",
       "      <td>?</td>\n",
       "      <td>?</td>\n",
       "      <td>?</td>\n",
       "      <td>...</td>\n",
       "      <td>428</td>\n",
       "      <td>-0.0</td>\n",
       "      <td>0.000</td>\n",
       "      <td>360.0</td>\n",
       "      <td>360.0</td>\n",
       "      <td>360.0</td>\n",
       "      <td>157.5</td>\n",
       "      <td>10.2</td>\n",
       "      <td>20.8</td>\n",
       "      <td>6.8</td>\n",
       "    </tr>\n",
       "    <tr>\n",
       "      <th>1</th>\n",
       "      <td>2</td>\n",
       "      <td>2.0</td>\n",
       "      <td>A</td>\n",
       "      <td>L</td>\n",
       "      <td>C</td>\n",
       "      <td>?</td>\n",
       "      <td>?</td>\n",
       "      <td>?</td>\n",
       "      <td>?</td>\n",
       "      <td>-</td>\n",
       "      <td>...</td>\n",
       "      <td>0</td>\n",
       "      <td>0.0</td>\n",
       "      <td>-0.785</td>\n",
       "      <td>360.0</td>\n",
       "      <td>-142.6</td>\n",
       "      <td>-89.6</td>\n",
       "      <td>124.7</td>\n",
       "      <td>6.6</td>\n",
       "      <td>21.5</td>\n",
       "      <td>7.8</td>\n",
       "    </tr>\n",
       "    <tr>\n",
       "      <th>2</th>\n",
       "      <td>3</td>\n",
       "      <td>3.0</td>\n",
       "      <td>A</td>\n",
       "      <td>S</td>\n",
       "      <td>C</td>\n",
       "      <td>?</td>\n",
       "      <td>&gt;</td>\n",
       "      <td>?</td>\n",
       "      <td>?</td>\n",
       "      <td>-</td>\n",
       "      <td>...</td>\n",
       "      <td>5</td>\n",
       "      <td>-0.3</td>\n",
       "      <td>-0.260</td>\n",
       "      <td>26.2</td>\n",
       "      <td>-103.3</td>\n",
       "      <td>-75.8</td>\n",
       "      <td>167.2</td>\n",
       "      <td>4.8</td>\n",
       "      <td>23.2</td>\n",
       "      <td>4.9</td>\n",
       "    </tr>\n",
       "    <tr>\n",
       "      <th>3</th>\n",
       "      <td>4</td>\n",
       "      <td>4.0</td>\n",
       "      <td>A</td>\n",
       "      <td>P</td>\n",
       "      <td>H</td>\n",
       "      <td>?</td>\n",
       "      <td>&gt;</td>\n",
       "      <td>?</td>\n",
       "      <td>S</td>\n",
       "      <td>+</td>\n",
       "      <td>...</td>\n",
       "      <td>5</td>\n",
       "      <td>-0.2</td>\n",
       "      <td>0.929</td>\n",
       "      <td>126.4</td>\n",
       "      <td>49.2</td>\n",
       "      <td>-56.6</td>\n",
       "      <td>-43.6</td>\n",
       "      <td>2.3</td>\n",
       "      <td>26.0</td>\n",
       "      <td>5.3</td>\n",
       "    </tr>\n",
       "    <tr>\n",
       "      <th>4</th>\n",
       "      <td>5</td>\n",
       "      <td>5.0</td>\n",
       "      <td>A</td>\n",
       "      <td>A</td>\n",
       "      <td>H</td>\n",
       "      <td>?</td>\n",
       "      <td>&gt;</td>\n",
       "      <td>?</td>\n",
       "      <td>S</td>\n",
       "      <td>+</td>\n",
       "      <td>...</td>\n",
       "      <td>5</td>\n",
       "      <td>-0.2</td>\n",
       "      <td>0.920</td>\n",
       "      <td>109.3</td>\n",
       "      <td>52.7</td>\n",
       "      <td>-66.7</td>\n",
       "      <td>-37.7</td>\n",
       "      <td>-0.5</td>\n",
       "      <td>23.4</td>\n",
       "      <td>4.5</td>\n",
       "    </tr>\n",
       "  </tbody>\n",
       "</table>\n",
       "<p>5 rows × 32 columns</p>\n",
       "</div>"
      ],
      "text/plain": [
       "   DSSP  PDB CHAIN AA SS 3H 4H 5H BEND CHIR  ...  ON2I ON2E    TCO  KAPPA  \\\n",
       "0     1  1.0     A  V  C  ?  ?  ?    ?    ?  ...   428 -0.0  0.000  360.0   \n",
       "1     2  2.0     A  L  C  ?  ?  ?    ?    -  ...     0  0.0 -0.785  360.0   \n",
       "2     3  3.0     A  S  C  ?  >  ?    ?    -  ...     5 -0.3 -0.260   26.2   \n",
       "3     4  4.0     A  P  H  ?  >  ?    S    +  ...     5 -0.2  0.929  126.4   \n",
       "4     5  5.0     A  A  H  ?  >  ?    S    +  ...     5 -0.2  0.920  109.3   \n",
       "\n",
       "   ALPHA    PHI    PSI  X-CA  Y-CA  Z-CA  \n",
       "0  360.0  360.0  157.5  10.2  20.8   6.8  \n",
       "1 -142.6  -89.6  124.7   6.6  21.5   7.8  \n",
       "2 -103.3  -75.8  167.2   4.8  23.2   4.9  \n",
       "3   49.2  -56.6  -43.6   2.3  26.0   5.3  \n",
       "4   52.7  -66.7  -37.7  -0.5  23.4   4.5  \n",
       "\n",
       "[5 rows x 32 columns]"
      ]
     },
     "execution_count": 3,
     "metadata": {},
     "output_type": "execute_result"
    }
   ],
   "source": [
    "ex_df = pd.read_csv(topdir+files[0])\n",
    "ex_df.head()"
   ]
  },
  {
   "cell_type": "code",
   "execution_count": 6,
   "metadata": {
    "ExecuteTime": {
     "end_time": "2016-06-02T17:38:19.482215",
     "start_time": "2016-06-02T17:38:19.465955"
    },
    "collapsed": false,
    "run_control": {
     "frozen": false,
     "read_only": false
    }
   },
   "outputs": [
    {
     "data": {
      "text/html": [
       "<div>\n",
       "<table border=\"1\" class=\"dataframe\">\n",
       "  <thead>\n",
       "    <tr style=\"text-align: right;\">\n",
       "      <th></th>\n",
       "      <th>SS</th>\n",
       "    </tr>\n",
       "  </thead>\n",
       "  <tbody>\n",
       "    <tr>\n",
       "      <th>0</th>\n",
       "      <td>C</td>\n",
       "    </tr>\n",
       "    <tr>\n",
       "      <th>1</th>\n",
       "      <td>C</td>\n",
       "    </tr>\n",
       "    <tr>\n",
       "      <th>2</th>\n",
       "      <td>C</td>\n",
       "    </tr>\n",
       "    <tr>\n",
       "      <th>3</th>\n",
       "      <td>H</td>\n",
       "    </tr>\n",
       "    <tr>\n",
       "      <th>4</th>\n",
       "      <td>H</td>\n",
       "    </tr>\n",
       "  </tbody>\n",
       "</table>\n",
       "</div>"
      ],
      "text/plain": [
       "  SS\n",
       "0  C\n",
       "1  C\n",
       "2  C\n",
       "3  H\n",
       "4  H"
      ]
     },
     "execution_count": 6,
     "metadata": {},
     "output_type": "execute_result"
    }
   ],
   "source": [
    "ex_ss = ex_df[['SS']]\n",
    "ex_ss.head()"
   ]
  },
  {
   "cell_type": "code",
   "execution_count": 9,
   "metadata": {
    "ExecuteTime": {
     "end_time": "2016-06-02T17:40:57.071045",
     "start_time": "2016-06-02T17:40:57.037898"
    },
    "collapsed": false,
    "run_control": {
     "frozen": false,
     "read_only": false
    }
   },
   "outputs": [
    {
     "data": {
      "text/html": [
       "<div>\n",
       "<table border=\"1\" class=\"dataframe\">\n",
       "  <thead>\n",
       "    <tr style=\"text-align: right;\">\n",
       "      <th></th>\n",
       "      <th>SS_C</th>\n",
       "      <th>SS_G</th>\n",
       "      <th>SS_H</th>\n",
       "      <th>SS_I</th>\n",
       "      <th>SS_S</th>\n",
       "      <th>SS_T</th>\n",
       "    </tr>\n",
       "  </thead>\n",
       "  <tbody>\n",
       "    <tr>\n",
       "      <th>0</th>\n",
       "      <td>1</td>\n",
       "      <td>0</td>\n",
       "      <td>0</td>\n",
       "      <td>0</td>\n",
       "      <td>0</td>\n",
       "      <td>0</td>\n",
       "    </tr>\n",
       "    <tr>\n",
       "      <th>1</th>\n",
       "      <td>1</td>\n",
       "      <td>0</td>\n",
       "      <td>0</td>\n",
       "      <td>0</td>\n",
       "      <td>0</td>\n",
       "      <td>0</td>\n",
       "    </tr>\n",
       "    <tr>\n",
       "      <th>2</th>\n",
       "      <td>1</td>\n",
       "      <td>0</td>\n",
       "      <td>0</td>\n",
       "      <td>0</td>\n",
       "      <td>0</td>\n",
       "      <td>0</td>\n",
       "    </tr>\n",
       "    <tr>\n",
       "      <th>3</th>\n",
       "      <td>0</td>\n",
       "      <td>0</td>\n",
       "      <td>1</td>\n",
       "      <td>0</td>\n",
       "      <td>0</td>\n",
       "      <td>0</td>\n",
       "    </tr>\n",
       "    <tr>\n",
       "      <th>4</th>\n",
       "      <td>0</td>\n",
       "      <td>0</td>\n",
       "      <td>1</td>\n",
       "      <td>0</td>\n",
       "      <td>0</td>\n",
       "      <td>0</td>\n",
       "    </tr>\n",
       "  </tbody>\n",
       "</table>\n",
       "</div>"
      ],
      "text/plain": [
       "   SS_C  SS_G  SS_H  SS_I  SS_S  SS_T\n",
       "0     1     0     0     0     0     0\n",
       "1     1     0     0     0     0     0\n",
       "2     1     0     0     0     0     0\n",
       "3     0     0     1     0     0     0\n",
       "4     0     0     1     0     0     0"
      ]
     },
     "execution_count": 9,
     "metadata": {},
     "output_type": "execute_result"
    }
   ],
   "source": [
    "# without forcing the columns --- we end up losing B, because it never appears\n",
    "one_hot = pd.get_dummies(ex_ss)\n",
    "one_hot[one_hot.columns] = one_hot[one_hot.columns].astype(int)\n",
    "one_hot.head()"
   ]
  },
  {
   "cell_type": "code",
   "execution_count": 43,
   "metadata": {
    "ExecuteTime": {
     "end_time": "2016-06-06T10:40:50.687330",
     "start_time": "2016-06-06T10:40:50.671484"
    },
    "collapsed": true,
    "run_control": {
     "frozen": false,
     "read_only": false
    }
   },
   "outputs": [],
   "source": [
    "def create_dummies(labels, ):\n",
    "    \"\"\"\n",
    "    INPUT: labels is a single column DataFrame\n",
    "    OUTPUT: data as a dummitized DataFrame\n",
    "    \"\"\"\n",
    "    # initial variables\n",
    "    cols = ['B', 'C', 'E', 'G', 'H', 'I', 'S', 'T']\n",
    "    n = len(cols)\n",
    "    data = []\n",
    "    \n",
    "    # have to reshape\n",
    "    labels = labels.values.reshape(-1, )\n",
    "    \n",
    "    \n",
    "    for l in labels:\n",
    "        row = np.zeros(n, dtype=int)\n",
    "        i = cols.index(l)\n",
    "        row[i] = 1\n",
    "        data.append(row)\n",
    "    \n",
    "    data = np.asarray(data)\n",
    "    df = pd.DataFrame(data, columns=cols)\n",
    "    \n",
    "    return df"
   ]
  },
  {
   "cell_type": "code",
   "execution_count": 44,
   "metadata": {
    "ExecuteTime": {
     "end_time": "2016-06-06T10:40:56.678812",
     "start_time": "2016-06-06T10:40:56.648494"
    },
    "collapsed": false,
    "run_control": {
     "frozen": false,
     "read_only": false
    }
   },
   "outputs": [
    {
     "data": {
      "text/html": [
       "<div>\n",
       "<table border=\"1\" class=\"dataframe\">\n",
       "  <thead>\n",
       "    <tr style=\"text-align: right;\">\n",
       "      <th></th>\n",
       "      <th>B</th>\n",
       "      <th>C</th>\n",
       "      <th>E</th>\n",
       "      <th>G</th>\n",
       "      <th>H</th>\n",
       "      <th>I</th>\n",
       "      <th>S</th>\n",
       "      <th>T</th>\n",
       "    </tr>\n",
       "  </thead>\n",
       "  <tbody>\n",
       "    <tr>\n",
       "      <th>0</th>\n",
       "      <td>0</td>\n",
       "      <td>1</td>\n",
       "      <td>0</td>\n",
       "      <td>0</td>\n",
       "      <td>0</td>\n",
       "      <td>0</td>\n",
       "      <td>0</td>\n",
       "      <td>0</td>\n",
       "    </tr>\n",
       "    <tr>\n",
       "      <th>1</th>\n",
       "      <td>0</td>\n",
       "      <td>1</td>\n",
       "      <td>0</td>\n",
       "      <td>0</td>\n",
       "      <td>0</td>\n",
       "      <td>0</td>\n",
       "      <td>0</td>\n",
       "      <td>0</td>\n",
       "    </tr>\n",
       "    <tr>\n",
       "      <th>2</th>\n",
       "      <td>0</td>\n",
       "      <td>1</td>\n",
       "      <td>0</td>\n",
       "      <td>0</td>\n",
       "      <td>0</td>\n",
       "      <td>0</td>\n",
       "      <td>0</td>\n",
       "      <td>0</td>\n",
       "    </tr>\n",
       "    <tr>\n",
       "      <th>3</th>\n",
       "      <td>0</td>\n",
       "      <td>0</td>\n",
       "      <td>0</td>\n",
       "      <td>0</td>\n",
       "      <td>1</td>\n",
       "      <td>0</td>\n",
       "      <td>0</td>\n",
       "      <td>0</td>\n",
       "    </tr>\n",
       "    <tr>\n",
       "      <th>4</th>\n",
       "      <td>0</td>\n",
       "      <td>0</td>\n",
       "      <td>0</td>\n",
       "      <td>0</td>\n",
       "      <td>1</td>\n",
       "      <td>0</td>\n",
       "      <td>0</td>\n",
       "      <td>0</td>\n",
       "    </tr>\n",
       "  </tbody>\n",
       "</table>\n",
       "</div>"
      ],
      "text/plain": [
       "   B  C  E  G  H  I  S  T\n",
       "0  0  1  0  0  0  0  0  0\n",
       "1  0  1  0  0  0  0  0  0\n",
       "2  0  1  0  0  0  0  0  0\n",
       "3  0  0  0  0  1  0  0  0\n",
       "4  0  0  0  0  1  0  0  0"
      ]
     },
     "execution_count": 44,
     "metadata": {},
     "output_type": "execute_result"
    }
   ],
   "source": [
    "# correct now, keeps B even though never appears in file\n",
    "one_hot_fix = create_dummies(ex_ss)\n",
    "one_hot_fix.head()"
   ]
  },
  {
   "cell_type": "markdown",
   "metadata": {},
   "source": [
    "### On all files"
   ]
  },
  {
   "cell_type": "code",
   "execution_count": 46,
   "metadata": {
    "ExecuteTime": {
     "end_time": "2016-06-06T10:49:51.754089",
     "start_time": "2016-06-06T10:49:45.521860"
    },
    "collapsed": false,
    "run_control": {
     "frozen": false,
     "read_only": false
    }
   },
   "outputs": [
    {
     "name": "stdout",
     "output_type": "stream",
     "text": [
      " progress: 100%"
     ]
    }
   ],
   "source": [
    "n = len(files)\n",
    "\n",
    "for i, fi in enumerate(files):\n",
    "    per = int((i+1)*100.0/n)\n",
    "    \n",
    "    # print progress\n",
    "    print('\\r progress: '+str(per)+'%', end='')\n",
    "    \n",
    "    # get the data\n",
    "    df = pd.read_csv(topdir+fi)\n",
    "    \n",
    "    # get labels\n",
    "    labels = df[['SS']]\n",
    "    \n",
    "    # one hot\n",
    "    one_hot = create_dummies(labels)\n",
    "    \n",
    "    # write out\n",
    "    one_hot.to_csv('../one_hot_labels/'+fi, index=False)"
   ]
  },
  {
   "cell_type": "code",
   "execution_count": 50,
   "metadata": {
    "ExecuteTime": {
     "end_time": "2016-06-06T10:51:32.173522",
     "start_time": "2016-06-06T10:51:32.142030"
    },
    "collapsed": false,
    "run_control": {
     "frozen": false,
     "read_only": false
    }
   },
   "outputs": [
    {
     "data": {
      "text/html": [
       "<div>\n",
       "<table border=\"1\" class=\"dataframe\">\n",
       "  <thead>\n",
       "    <tr style=\"text-align: right;\">\n",
       "      <th></th>\n",
       "      <th>B</th>\n",
       "      <th>C</th>\n",
       "      <th>E</th>\n",
       "      <th>G</th>\n",
       "      <th>H</th>\n",
       "      <th>I</th>\n",
       "      <th>S</th>\n",
       "      <th>T</th>\n",
       "    </tr>\n",
       "  </thead>\n",
       "  <tbody>\n",
       "    <tr>\n",
       "      <th>0</th>\n",
       "      <td>0</td>\n",
       "      <td>1</td>\n",
       "      <td>0</td>\n",
       "      <td>0</td>\n",
       "      <td>0</td>\n",
       "      <td>0</td>\n",
       "      <td>0</td>\n",
       "      <td>0</td>\n",
       "    </tr>\n",
       "    <tr>\n",
       "      <th>1</th>\n",
       "      <td>0</td>\n",
       "      <td>1</td>\n",
       "      <td>0</td>\n",
       "      <td>0</td>\n",
       "      <td>0</td>\n",
       "      <td>0</td>\n",
       "      <td>0</td>\n",
       "      <td>0</td>\n",
       "    </tr>\n",
       "    <tr>\n",
       "      <th>2</th>\n",
       "      <td>0</td>\n",
       "      <td>0</td>\n",
       "      <td>1</td>\n",
       "      <td>0</td>\n",
       "      <td>0</td>\n",
       "      <td>0</td>\n",
       "      <td>0</td>\n",
       "      <td>0</td>\n",
       "    </tr>\n",
       "    <tr>\n",
       "      <th>3</th>\n",
       "      <td>0</td>\n",
       "      <td>0</td>\n",
       "      <td>1</td>\n",
       "      <td>0</td>\n",
       "      <td>0</td>\n",
       "      <td>0</td>\n",
       "      <td>0</td>\n",
       "      <td>0</td>\n",
       "    </tr>\n",
       "    <tr>\n",
       "      <th>4</th>\n",
       "      <td>0</td>\n",
       "      <td>0</td>\n",
       "      <td>1</td>\n",
       "      <td>0</td>\n",
       "      <td>0</td>\n",
       "      <td>0</td>\n",
       "      <td>0</td>\n",
       "      <td>0</td>\n",
       "    </tr>\n",
       "  </tbody>\n",
       "</table>\n",
       "</div>"
      ],
      "text/plain": [
       "   B  C  E  G  H  I  S  T\n",
       "0  0  1  0  0  0  0  0  0\n",
       "1  0  1  0  0  0  0  0  0\n",
       "2  0  0  1  0  0  0  0  0\n",
       "3  0  0  1  0  0  0  0  0\n",
       "4  0  0  1  0  0  0  0  0"
      ]
     },
     "execution_count": 50,
     "metadata": {},
     "output_type": "execute_result"
    }
   ],
   "source": [
    "ex_df = pd.read_csv('../one_hot_labels/1i3n.csv')\n",
    "ex_df.head()"
   ]
  },
  {
   "cell_type": "code",
   "execution_count": 49,
   "metadata": {
    "ExecuteTime": {
     "end_time": "2016-06-06T10:51:25.282665",
     "start_time": "2016-06-06T10:51:25.254452"
    },
    "collapsed": false,
    "run_control": {
     "frozen": false,
     "read_only": false
    }
   },
   "outputs": [
    {
     "data": {
      "text/html": [
       "<div>\n",
       "<table border=\"1\" class=\"dataframe\">\n",
       "  <thead>\n",
       "    <tr style=\"text-align: right;\">\n",
       "      <th></th>\n",
       "      <th>B</th>\n",
       "      <th>C</th>\n",
       "      <th>E</th>\n",
       "      <th>G</th>\n",
       "      <th>H</th>\n",
       "      <th>I</th>\n",
       "      <th>S</th>\n",
       "      <th>T</th>\n",
       "    </tr>\n",
       "  </thead>\n",
       "  <tbody>\n",
       "    <tr>\n",
       "      <th>0</th>\n",
       "      <td>0</td>\n",
       "      <td>1</td>\n",
       "      <td>0</td>\n",
       "      <td>0</td>\n",
       "      <td>0</td>\n",
       "      <td>0</td>\n",
       "      <td>0</td>\n",
       "      <td>0</td>\n",
       "    </tr>\n",
       "    <tr>\n",
       "      <th>1</th>\n",
       "      <td>0</td>\n",
       "      <td>1</td>\n",
       "      <td>0</td>\n",
       "      <td>0</td>\n",
       "      <td>0</td>\n",
       "      <td>0</td>\n",
       "      <td>0</td>\n",
       "      <td>0</td>\n",
       "    </tr>\n",
       "    <tr>\n",
       "      <th>2</th>\n",
       "      <td>0</td>\n",
       "      <td>1</td>\n",
       "      <td>0</td>\n",
       "      <td>0</td>\n",
       "      <td>0</td>\n",
       "      <td>0</td>\n",
       "      <td>0</td>\n",
       "      <td>0</td>\n",
       "    </tr>\n",
       "    <tr>\n",
       "      <th>3</th>\n",
       "      <td>0</td>\n",
       "      <td>0</td>\n",
       "      <td>0</td>\n",
       "      <td>0</td>\n",
       "      <td>1</td>\n",
       "      <td>0</td>\n",
       "      <td>0</td>\n",
       "      <td>0</td>\n",
       "    </tr>\n",
       "    <tr>\n",
       "      <th>4</th>\n",
       "      <td>0</td>\n",
       "      <td>0</td>\n",
       "      <td>0</td>\n",
       "      <td>0</td>\n",
       "      <td>1</td>\n",
       "      <td>0</td>\n",
       "      <td>0</td>\n",
       "      <td>0</td>\n",
       "    </tr>\n",
       "  </tbody>\n",
       "</table>\n",
       "</div>"
      ],
      "text/plain": [
       "   B  C  E  G  H  I  S  T\n",
       "0  0  1  0  0  0  0  0  0\n",
       "1  0  1  0  0  0  0  0  0\n",
       "2  0  1  0  0  0  0  0  0\n",
       "3  0  0  0  0  1  0  0  0\n",
       "4  0  0  0  0  1  0  0  0"
      ]
     },
     "execution_count": 49,
     "metadata": {},
     "output_type": "execute_result"
    }
   ],
   "source": [
    "ex2_df = pd.read_csv('../one_hot_labels/'+files[0])\n",
    "ex2_df.head()"
   ]
  },
  {
   "cell_type": "markdown",
   "metadata": {},
   "source": [
    " "
   ]
  }
 ],
 "metadata": {
  "kernelspec": {
   "display_name": "Python 2",
   "language": "python",
   "name": "python2"
  },
  "language_info": {
   "codemirror_mode": {
    "name": "ipython",
    "version": 2
   },
   "file_extension": ".py",
   "mimetype": "text/x-python",
   "name": "python",
   "nbconvert_exporter": "python",
   "pygments_lexer": "ipython2",
   "version": "2.7.11"
  }
 },
 "nbformat": 4,
 "nbformat_minor": 0
}
