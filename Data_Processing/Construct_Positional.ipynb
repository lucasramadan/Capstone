{
 "cells": [
  {
   "cell_type": "markdown",
   "metadata": {},
   "source": [
    "### Imports"
   ]
  },
  {
   "cell_type": "code",
   "execution_count": 1,
   "metadata": {
    "ExecuteTime": {
     "end_time": "2016-06-12T11:07:46.737870",
     "start_time": "2016-06-12T11:07:33.796371"
    },
    "collapsed": true,
    "run_control": {
     "frozen": false,
     "read_only": false
    }
   },
   "outputs": [],
   "source": [
    "from __future__ import print_function\n",
    "import pandas as pd\n",
    "import numpy as np\n",
    "import os"
   ]
  },
  {
   "cell_type": "markdown",
   "metadata": {},
   "source": [
    "### Example file"
   ]
  },
  {
   "cell_type": "code",
   "execution_count": 2,
   "metadata": {
    "ExecuteTime": {
     "end_time": "2016-06-12T11:07:46.861909",
     "start_time": "2016-06-12T11:07:46.741337"
    },
    "collapsed": false,
    "run_control": {
     "frozen": false,
     "read_only": false
    }
   },
   "outputs": [
    {
     "data": {
      "text/html": [
       "<div>\n",
       "<table border=\"1\" class=\"dataframe\">\n",
       "  <thead>\n",
       "    <tr style=\"text-align: right;\">\n",
       "      <th></th>\n",
       "      <th>DSSP</th>\n",
       "      <th>PDB</th>\n",
       "      <th>CHAIN</th>\n",
       "      <th>AA</th>\n",
       "      <th>SS</th>\n",
       "      <th>3H</th>\n",
       "      <th>4H</th>\n",
       "      <th>5H</th>\n",
       "      <th>BEND</th>\n",
       "      <th>CHIR</th>\n",
       "      <th>...</th>\n",
       "      <th>ON2I</th>\n",
       "      <th>ON2E</th>\n",
       "      <th>TCO</th>\n",
       "      <th>KAPPA</th>\n",
       "      <th>ALPHA</th>\n",
       "      <th>PHI</th>\n",
       "      <th>PSI</th>\n",
       "      <th>X-CA</th>\n",
       "      <th>Y-CA</th>\n",
       "      <th>Z-CA</th>\n",
       "    </tr>\n",
       "  </thead>\n",
       "  <tbody>\n",
       "    <tr>\n",
       "      <th>0</th>\n",
       "      <td>1</td>\n",
       "      <td>2.0</td>\n",
       "      <td>A</td>\n",
       "      <td>A</td>\n",
       "      <td>C</td>\n",
       "      <td>?</td>\n",
       "      <td>?</td>\n",
       "      <td>?</td>\n",
       "      <td>?</td>\n",
       "      <td>?</td>\n",
       "      <td>...</td>\n",
       "      <td>79</td>\n",
       "      <td>-0.2</td>\n",
       "      <td>0.000</td>\n",
       "      <td>360.0</td>\n",
       "      <td>360.0</td>\n",
       "      <td>360.0</td>\n",
       "      <td>-1.4</td>\n",
       "      <td>-4.8</td>\n",
       "      <td>7.2</td>\n",
       "      <td>22.5</td>\n",
       "    </tr>\n",
       "    <tr>\n",
       "      <th>1</th>\n",
       "      <td>2</td>\n",
       "      <td>3.0</td>\n",
       "      <td>A</td>\n",
       "      <td>E</td>\n",
       "      <td>C</td>\n",
       "      <td>?</td>\n",
       "      <td>?</td>\n",
       "      <td>?</td>\n",
       "      <td>?</td>\n",
       "      <td>-</td>\n",
       "      <td>...</td>\n",
       "      <td>79</td>\n",
       "      <td>-0.2</td>\n",
       "      <td>-0.681</td>\n",
       "      <td>360.0</td>\n",
       "      <td>-126.5</td>\n",
       "      <td>-88.8</td>\n",
       "      <td>145.6</td>\n",
       "      <td>-1.4</td>\n",
       "      <td>8.7</td>\n",
       "      <td>21.7</td>\n",
       "    </tr>\n",
       "    <tr>\n",
       "      <th>2</th>\n",
       "      <td>3</td>\n",
       "      <td>4.0</td>\n",
       "      <td>A</td>\n",
       "      <td>K</td>\n",
       "      <td>E</td>\n",
       "      <td>?</td>\n",
       "      <td>?</td>\n",
       "      <td>?</td>\n",
       "      <td>?</td>\n",
       "      <td>-</td>\n",
       "      <td>...</td>\n",
       "      <td>80</td>\n",
       "      <td>-0.9</td>\n",
       "      <td>-0.300</td>\n",
       "      <td>2.4</td>\n",
       "      <td>-131.5</td>\n",
       "      <td>-88.8</td>\n",
       "      <td>174.4</td>\n",
       "      <td>1.3</td>\n",
       "      <td>7.7</td>\n",
       "      <td>24.2</td>\n",
       "    </tr>\n",
       "    <tr>\n",
       "      <th>3</th>\n",
       "      <td>4</td>\n",
       "      <td>5.0</td>\n",
       "      <td>A</td>\n",
       "      <td>V</td>\n",
       "      <td>E</td>\n",
       "      <td>?</td>\n",
       "      <td>?</td>\n",
       "      <td>?</td>\n",
       "      <td>?</td>\n",
       "      <td>-</td>\n",
       "      <td>...</td>\n",
       "      <td>2</td>\n",
       "      <td>-0.4</td>\n",
       "      <td>-0.993</td>\n",
       "      <td>20.7</td>\n",
       "      <td>-141.5</td>\n",
       "      <td>-123.8</td>\n",
       "      <td>122.5</td>\n",
       "      <td>3.8</td>\n",
       "      <td>9.6</td>\n",
       "      <td>26.3</td>\n",
       "    </tr>\n",
       "    <tr>\n",
       "      <th>4</th>\n",
       "      <td>5</td>\n",
       "      <td>6.0</td>\n",
       "      <td>A</td>\n",
       "      <td>L</td>\n",
       "      <td>E</td>\n",
       "      <td>?</td>\n",
       "      <td>?</td>\n",
       "      <td>?</td>\n",
       "      <td>?</td>\n",
       "      <td>-</td>\n",
       "      <td>...</td>\n",
       "      <td>2</td>\n",
       "      <td>-0.5</td>\n",
       "      <td>-0.735</td>\n",
       "      <td>14.2</td>\n",
       "      <td>-164.6</td>\n",
       "      <td>-85.6</td>\n",
       "      <td>131.1</td>\n",
       "      <td>7.4</td>\n",
       "      <td>8.4</td>\n",
       "      <td>26.1</td>\n",
       "    </tr>\n",
       "    <tr>\n",
       "      <th>5</th>\n",
       "      <td>6</td>\n",
       "      <td>7.0</td>\n",
       "      <td>A</td>\n",
       "      <td>V</td>\n",
       "      <td>E</td>\n",
       "      <td>&gt;</td>\n",
       "      <td>?</td>\n",
       "      <td>?</td>\n",
       "      <td>?</td>\n",
       "      <td>-</td>\n",
       "      <td>...</td>\n",
       "      <td>3</td>\n",
       "      <td>-0.8</td>\n",
       "      <td>-0.945</td>\n",
       "      <td>3.6</td>\n",
       "      <td>-159.8</td>\n",
       "      <td>-118.7</td>\n",
       "      <td>106.8</td>\n",
       "      <td>9.2</td>\n",
       "      <td>8.5</td>\n",
       "      <td>29.5</td>\n",
       "    </tr>\n",
       "    <tr>\n",
       "      <th>6</th>\n",
       "      <td>7</td>\n",
       "      <td>8.0</td>\n",
       "      <td>A</td>\n",
       "      <td>T</td>\n",
       "      <td>E</td>\n",
       "      <td>3</td>\n",
       "      <td>?</td>\n",
       "      <td>?</td>\n",
       "      <td>S</td>\n",
       "      <td>+</td>\n",
       "      <td>...</td>\n",
       "      <td>25</td>\n",
       "      <td>-0.2</td>\n",
       "      <td>-0.651</td>\n",
       "      <td>79.5</td>\n",
       "      <td>12.3</td>\n",
       "      <td>-85.0</td>\n",
       "      <td>145.9</td>\n",
       "      <td>13.0</td>\n",
       "      <td>8.2</td>\n",
       "      <td>29.3</td>\n",
       "    </tr>\n",
       "    <tr>\n",
       "      <th>7</th>\n",
       "      <td>8</td>\n",
       "      <td>9.0</td>\n",
       "      <td>A</td>\n",
       "      <td>G</td>\n",
       "      <td>T</td>\n",
       "      <td>&gt;</td>\n",
       "      <td>?</td>\n",
       "      <td>?</td>\n",
       "      <td>S</td>\n",
       "      <td>+</td>\n",
       "      <td>...</td>\n",
       "      <td>6</td>\n",
       "      <td>-0.4</td>\n",
       "      <td>0.792</td>\n",
       "      <td>83.3</td>\n",
       "      <td>153.9</td>\n",
       "      <td>62.7</td>\n",
       "      <td>25.1</td>\n",
       "      <td>14.9</td>\n",
       "      <td>7.1</td>\n",
       "      <td>32.4</td>\n",
       "    </tr>\n",
       "    <tr>\n",
       "      <th>8</th>\n",
       "      <td>9</td>\n",
       "      <td>10.0</td>\n",
       "      <td>A</td>\n",
       "      <td>G</td>\n",
       "      <td>T</td>\n",
       "      <td>&lt;</td>\n",
       "      <td>?</td>\n",
       "      <td>?</td>\n",
       "      <td>?</td>\n",
       "      <td>+</td>\n",
       "      <td>...</td>\n",
       "      <td>23</td>\n",
       "      <td>-0.1</td>\n",
       "      <td>0.541</td>\n",
       "      <td>56.7</td>\n",
       "      <td>65.3</td>\n",
       "      <td>-66.2</td>\n",
       "      <td>-9.4</td>\n",
       "      <td>11.4</td>\n",
       "      <td>6.1</td>\n",
       "      <td>33.8</td>\n",
       "    </tr>\n",
       "    <tr>\n",
       "      <th>9</th>\n",
       "      <td>10</td>\n",
       "      <td>11.0</td>\n",
       "      <td>A</td>\n",
       "      <td>A</td>\n",
       "      <td>T</td>\n",
       "      <td>3</td>\n",
       "      <td>?</td>\n",
       "      <td>?</td>\n",
       "      <td>S</td>\n",
       "      <td>+</td>\n",
       "      <td>...</td>\n",
       "      <td>28</td>\n",
       "      <td>-0.2</td>\n",
       "      <td>0.578</td>\n",
       "      <td>88.6</td>\n",
       "      <td>88.7</td>\n",
       "      <td>-89.4</td>\n",
       "      <td>-9.4</td>\n",
       "      <td>12.8</td>\n",
       "      <td>3.4</td>\n",
       "      <td>36.1</td>\n",
       "    </tr>\n",
       "  </tbody>\n",
       "</table>\n",
       "<p>10 rows × 32 columns</p>\n",
       "</div>"
      ],
      "text/plain": [
       "   DSSP   PDB CHAIN AA SS 3H 4H 5H BEND CHIR  ...  ON2I ON2E    TCO  KAPPA  \\\n",
       "0     1   2.0     A  A  C  ?  ?  ?    ?    ?  ...    79 -0.2  0.000  360.0   \n",
       "1     2   3.0     A  E  C  ?  ?  ?    ?    -  ...    79 -0.2 -0.681  360.0   \n",
       "2     3   4.0     A  K  E  ?  ?  ?    ?    -  ...    80 -0.9 -0.300    2.4   \n",
       "3     4   5.0     A  V  E  ?  ?  ?    ?    -  ...     2 -0.4 -0.993   20.7   \n",
       "4     5   6.0     A  L  E  ?  ?  ?    ?    -  ...     2 -0.5 -0.735   14.2   \n",
       "5     6   7.0     A  V  E  >  ?  ?    ?    -  ...     3 -0.8 -0.945    3.6   \n",
       "6     7   8.0     A  T  E  3  ?  ?    S    +  ...    25 -0.2 -0.651   79.5   \n",
       "7     8   9.0     A  G  T  >  ?  ?    S    +  ...     6 -0.4  0.792   83.3   \n",
       "8     9  10.0     A  G  T  <  ?  ?    ?    +  ...    23 -0.1  0.541   56.7   \n",
       "9    10  11.0     A  A  T  3  ?  ?    S    +  ...    28 -0.2  0.578   88.6   \n",
       "\n",
       "   ALPHA    PHI    PSI  X-CA  Y-CA  Z-CA  \n",
       "0  360.0  360.0   -1.4  -4.8   7.2  22.5  \n",
       "1 -126.5  -88.8  145.6  -1.4   8.7  21.7  \n",
       "2 -131.5  -88.8  174.4   1.3   7.7  24.2  \n",
       "3 -141.5 -123.8  122.5   3.8   9.6  26.3  \n",
       "4 -164.6  -85.6  131.1   7.4   8.4  26.1  \n",
       "5 -159.8 -118.7  106.8   9.2   8.5  29.5  \n",
       "6   12.3  -85.0  145.9  13.0   8.2  29.3  \n",
       "7  153.9   62.7   25.1  14.9   7.1  32.4  \n",
       "8   65.3  -66.2   -9.4  11.4   6.1  33.8  \n",
       "9   88.7  -89.4   -9.4  12.8   3.4  36.1  \n",
       "\n",
       "[10 rows x 32 columns]"
      ]
     },
     "execution_count": 2,
     "metadata": {},
     "output_type": "execute_result"
    }
   ],
   "source": [
    "df = pd.read_csv('../clean_dssp_csv/1i3n.csv')\n",
    "df.head(10)"
   ]
  },
  {
   "cell_type": "code",
   "execution_count": 3,
   "metadata": {
    "ExecuteTime": {
     "end_time": "2016-06-12T11:07:46.897002",
     "start_time": "2016-06-12T11:07:46.873285"
    },
    "collapsed": false,
    "run_control": {
     "frozen": false,
     "read_only": false
    }
   },
   "outputs": [
    {
     "data": {
      "text/html": [
       "<div>\n",
       "<table border=\"1\" class=\"dataframe\">\n",
       "  <thead>\n",
       "    <tr style=\"text-align: right;\">\n",
       "      <th></th>\n",
       "      <th>AA</th>\n",
       "      <th>SS</th>\n",
       "    </tr>\n",
       "  </thead>\n",
       "  <tbody>\n",
       "    <tr>\n",
       "      <th>0</th>\n",
       "      <td>A</td>\n",
       "      <td>C</td>\n",
       "    </tr>\n",
       "    <tr>\n",
       "      <th>1</th>\n",
       "      <td>E</td>\n",
       "      <td>C</td>\n",
       "    </tr>\n",
       "    <tr>\n",
       "      <th>2</th>\n",
       "      <td>K</td>\n",
       "      <td>E</td>\n",
       "    </tr>\n",
       "    <tr>\n",
       "      <th>3</th>\n",
       "      <td>V</td>\n",
       "      <td>E</td>\n",
       "    </tr>\n",
       "    <tr>\n",
       "      <th>4</th>\n",
       "      <td>L</td>\n",
       "      <td>E</td>\n",
       "    </tr>\n",
       "  </tbody>\n",
       "</table>\n",
       "</div>"
      ],
      "text/plain": [
       "  AA SS\n",
       "0  A  C\n",
       "1  E  C\n",
       "2  K  E\n",
       "3  V  E\n",
       "4  L  E"
      ]
     },
     "execution_count": 3,
     "metadata": {},
     "output_type": "execute_result"
    }
   ],
   "source": [
    "# key columns\n",
    "data = df[['AA', 'SS']]\n",
    "data.head()"
   ]
  },
  {
   "cell_type": "code",
   "execution_count": 4,
   "metadata": {
    "ExecuteTime": {
     "end_time": "2016-06-12T11:07:46.914373",
     "start_time": "2016-06-12T11:07:46.900229"
    },
    "collapsed": false,
    "run_control": {
     "frozen": false,
     "read_only": false
    },
    "scrolled": true
   },
   "outputs": [
    {
     "data": {
      "text/plain": [
       "array(['A', 'E', 'K', 'V', 'L', 'V', 'T', 'G', 'G', 'A', 'G', 'Y', 'I',\n",
       "       'G', 'S', 'H', 'T', 'V', 'L', 'E', 'L', 'L', 'E', 'A', 'G', 'Y',\n",
       "       'L', 'P', 'V', 'V', 'I', 'D', 'N', 'F', 'H', 'N', 'A', 'F', 'R',\n",
       "       'G', 'G', 'G', 'S', 'L', 'P', 'E', 'S', 'L', 'R', 'R', 'V', 'Q',\n",
       "       'E', 'L', 'T', 'G', 'R', 'S', 'V', 'E', 'F', 'E', 'E', 'M', 'D',\n",
       "       'I', 'L', 'D', 'Q', 'G', 'A', 'L', 'Q', 'R', 'L', 'F', 'K', 'K',\n",
       "       'Y', 'S', 'F', 'M', 'A', 'V', 'I', 'H', 'F', 'A', 'G', 'L', 'K',\n",
       "       'A', 'M', 'G', 'E', 'S', 'V', 'Q', 'K', 'P', 'L', 'D', 'Y', 'Y',\n",
       "       'R', 'V', 'N', 'L', 'T', 'G', 'T', 'I', 'Q', 'L', 'L', 'E', 'I',\n",
       "       'M', 'K', 'A', 'H', 'G', 'V', 'K', 'N', 'L', 'V', 'F', 'S', 'S',\n",
       "       'S', 'A', 'T', 'V', 'Y', 'G', 'N', 'P', 'Q', 'Y', 'L', 'P', 'L',\n",
       "       'D', 'E', 'A', 'H', 'P', 'T', 'G', 'G', 'C', 'T', 'N', 'P', 'Y',\n",
       "       'G', 'K', 'S', 'K', 'F', 'F', 'I', 'E', 'E', 'M', 'I', 'R', 'D',\n",
       "       'L', 'C', 'Q', 'A', 'D', 'K', 'T', 'W', 'N', 'V', 'V', 'L', 'L',\n",
       "       'R', 'Y', 'F', 'N', 'P', 'T', 'G', 'A', 'H', 'A', 'S', 'G', 'C',\n",
       "       'I', 'G', 'E', 'D', 'P', 'Q', 'G', 'I', 'P', 'N', 'N', 'L', 'M',\n",
       "       'P', 'Y', 'V', 'S', 'Q', 'V', 'A', 'I', 'G', 'R', 'R', 'E', 'A',\n",
       "       'L', 'N', 'V', 'F', 'G', 'N', 'D', 'Y', 'D', 'T', 'E', 'D', 'G',\n",
       "       'T', 'G', 'V', 'R', 'D', 'Y', 'I', 'H', 'V', 'V', 'D', 'L', 'A',\n",
       "       'K', 'G', 'H', 'I', 'A', 'A', 'L', 'R', 'K', 'L', 'K', 'E', 'Q',\n",
       "       'C', 'G', 'C', 'R', 'I', 'Y', 'N', 'L', 'G', 'T', 'G', 'T', 'G',\n",
       "       'Y', 'S', 'V', 'L', 'Q', 'M', 'V', 'Q', 'A', 'M', 'E', 'K', 'A',\n",
       "       'S', 'G', 'K', 'K', 'I', 'P', 'Y', 'K', 'V', 'V', 'A', 'R', 'R',\n",
       "       'E', 'G', 'D', 'V', 'A', 'A', 'C', 'Y', 'A', 'N', 'P', 'S', 'L',\n",
       "       'A', 'Q', 'E', 'E', 'L', 'G', 'W', 'T', 'A', 'A', 'L', 'G', 'L',\n",
       "       'D', 'R', 'M', 'C', 'E', 'D', 'L', 'W', 'R', 'W', 'Q', 'K', 'Q',\n",
       "       'N', 'P', 'S', 'G', 'F', 'G', 'T', 'Q', 'A', 'A', 'E', 'K', 'V',\n",
       "       'L', 'V', 'T', 'G', 'G', 'A', 'G', 'Y', 'I', 'G', 'S', 'H', 'T',\n",
       "       'V', 'L', 'E', 'L', 'L', 'E', 'A', 'G', 'Y', 'L', 'P', 'V', 'V',\n",
       "       'I', 'D', 'N', 'F', 'H', 'N', 'A', 'F', 'R', 'G', 'G', 'G', 'S',\n",
       "       'L', 'P', 'E', 'S', 'L', 'R', 'R', 'V', 'Q', 'E', 'L', 'T', 'G',\n",
       "       'R', 'S', 'V', 'E', 'F', 'E', 'E', 'M', 'D', 'I', 'L', 'D', 'Q',\n",
       "       'G', 'A', 'L', 'Q', 'R', 'L', 'F', 'K', 'K', 'Y', 'S', 'F', 'M',\n",
       "       'A', 'V', 'I', 'H', 'F', 'A', 'G', 'L', 'K', 'A', 'M', 'G', 'E',\n",
       "       'S', 'V', 'Q', 'K', 'P', 'L', 'D', 'Y', 'Y', 'R', 'V', 'N', 'L',\n",
       "       'T', 'G', 'T', 'I', 'Q', 'L', 'L', 'E', 'I', 'M', 'K', 'A', 'H',\n",
       "       'G', 'V', 'K', 'N', 'L', 'V', 'F', 'S', 'S', 'S', 'A', 'T', 'V',\n",
       "       'Y', 'G', 'N', 'P', 'Q', 'Y', 'L', 'P', 'L', 'D', 'E', 'A', 'H',\n",
       "       'P', 'T', 'G', 'G', 'C', 'T', 'N', 'P', 'Y', 'G', 'K', 'S', 'K',\n",
       "       'F', 'F', 'I', 'E', 'E', 'M', 'I', 'R', 'D', 'L', 'C', 'Q', 'A',\n",
       "       'D', 'K', 'T', 'W', 'N', 'V', 'V', 'L', 'L', 'R', 'Y', 'F', 'N',\n",
       "       'P', 'T', 'G', 'A', 'H', 'A', 'S', 'G', 'C', 'I', 'G', 'E', 'D',\n",
       "       'P', 'Q', 'G', 'I', 'P', 'N', 'N', 'L', 'M', 'P', 'Y', 'V', 'S',\n",
       "       'Q', 'V', 'A', 'I', 'G', 'R', 'R', 'E', 'A', 'L', 'N', 'V', 'F',\n",
       "       'G', 'N', 'D', 'Y', 'D', 'T', 'E', 'D', 'G', 'T', 'G', 'V', 'R',\n",
       "       'D', 'Y', 'I', 'H', 'V', 'V', 'D', 'L', 'A', 'K', 'G', 'H', 'I',\n",
       "       'A', 'A', 'L', 'R', 'K', 'L', 'K', 'E', 'Q', 'C', 'G', 'C', 'R',\n",
       "       'I', 'Y', 'N', 'L', 'G', 'T', 'G', 'T', 'G', 'Y', 'S', 'V', 'L',\n",
       "       'Q', 'M', 'V', 'Q', 'A', 'M', 'E', 'K', 'A', 'S', 'G', 'K', 'K',\n",
       "       'I', 'P', 'Y', 'K', 'V', 'V', 'A', 'R', 'R', 'E', 'G', 'D', 'V',\n",
       "       'A', 'A', 'C', 'Y', 'A', 'N', 'P', 'S', 'L', 'A', 'Q', 'E', 'E',\n",
       "       'L', 'G', 'W', 'T', 'A', 'A', 'L', 'G', 'L', 'D', 'R', 'M', 'C',\n",
       "       'E', 'D', 'L', 'W', 'R', 'W', 'Q', 'K', 'Q', 'N', 'P', 'S', 'G',\n",
       "       'F', 'G', 'T'], dtype=object)"
      ]
     },
     "execution_count": 4,
     "metadata": {},
     "output_type": "execute_result"
    }
   ],
   "source": [
    "# look at just the AA sequence\n",
    "seq = data['AA'].values\n",
    "seq"
   ]
  },
  {
   "cell_type": "code",
   "execution_count": 5,
   "metadata": {
    "ExecuteTime": {
     "end_time": "2016-06-12T11:07:46.938584",
     "start_time": "2016-06-12T11:07:46.918570"
    },
    "collapsed": true,
    "run_control": {
     "frozen": false,
     "read_only": false
    }
   },
   "outputs": [],
   "source": [
    "def construct_positional(seq, w=5, header=True):\n",
    "    \"\"\"\n",
    "    INPUT: sequence of amino acids (seq)\n",
    "    OUTPUT: 2D numpy array, known as a positional protein\n",
    "    \n",
    "    Given an sequence (array) of amino acids\n",
    "    construct a windowed representation of each amino acid. \n",
    "    Default window size (w) of 5, includes a header row\n",
    "    \n",
    "    Contains helper function (construct_positional_header) to make header row\n",
    "    \"\"\"    \n",
    "    \n",
    "    s = w//2\n",
    "    pad = ['-']*s + list(seq) + ['-']*s\n",
    "    n = len(seq)\n",
    "    rows = []\n",
    "    \n",
    "    def construct_positional_header():\n",
    "        return np.asarray(['AA'+str(i) for i in xrange(-s, s+1)])\n",
    "    \n",
    "    if header:\n",
    "        rows.append(construct_positional_header())\n",
    "    \n",
    "    for i in xrange(s, n+s):\n",
    "        row = pad[i-s:i+s+1]\n",
    "        rows.append(row)    \n",
    "    \n",
    "    return np.asarray(rows)"
   ]
  },
  {
   "cell_type": "code",
   "execution_count": 6,
   "metadata": {
    "ExecuteTime": {
     "end_time": "2016-06-12T11:07:46.950758",
     "start_time": "2016-06-12T11:07:46.942529"
    },
    "collapsed": false,
    "run_control": {
     "frozen": false,
     "read_only": false
    }
   },
   "outputs": [],
   "source": [
    "positional = construct_positional(seq)"
   ]
  },
  {
   "cell_type": "code",
   "execution_count": 7,
   "metadata": {
    "ExecuteTime": {
     "end_time": "2016-06-12T11:07:46.963488",
     "start_time": "2016-06-12T11:07:46.955016"
    },
    "collapsed": false,
    "run_control": {
     "frozen": false,
     "read_only": false
    }
   },
   "outputs": [
    {
     "data": {
      "text/plain": [
       "array([['AA-2', 'AA-1', 'AA0', 'AA1', 'AA2'],\n",
       "       ['-', '-', 'A', 'E', 'K'],\n",
       "       ['-', 'A', 'E', 'K', 'V'],\n",
       "       ['A', 'E', 'K', 'V', 'L'],\n",
       "       ['E', 'K', 'V', 'L', 'V'],\n",
       "       ['K', 'V', 'L', 'V', 'T'],\n",
       "       ['V', 'L', 'V', 'T', 'G'],\n",
       "       ['L', 'V', 'T', 'G', 'G'],\n",
       "       ['V', 'T', 'G', 'G', 'A'],\n",
       "       ['T', 'G', 'G', 'A', 'G']], \n",
       "      dtype='|S4')"
      ]
     },
     "execution_count": 7,
     "metadata": {},
     "output_type": "execute_result"
    }
   ],
   "source": [
    "# ie head\n",
    "positional[:10]"
   ]
  },
  {
   "cell_type": "code",
   "execution_count": 8,
   "metadata": {
    "ExecuteTime": {
     "end_time": "2016-06-12T11:07:46.974587",
     "start_time": "2016-06-12T11:07:46.966227"
    },
    "collapsed": false,
    "run_control": {
     "frozen": false,
     "read_only": false
    }
   },
   "outputs": [
    {
     "data": {
      "text/plain": [
       "array([['W', 'R', 'W', 'Q', 'K'],\n",
       "       ['R', 'W', 'Q', 'K', 'Q'],\n",
       "       ['W', 'Q', 'K', 'Q', 'N'],\n",
       "       ['Q', 'K', 'Q', 'N', 'P'],\n",
       "       ['K', 'Q', 'N', 'P', 'S'],\n",
       "       ['Q', 'N', 'P', 'S', 'G'],\n",
       "       ['N', 'P', 'S', 'G', 'F'],\n",
       "       ['P', 'S', 'G', 'F', 'G'],\n",
       "       ['S', 'G', 'F', 'G', 'T'],\n",
       "       ['G', 'F', 'G', 'T', '-'],\n",
       "       ['F', 'G', 'T', '-', '-']], \n",
       "      dtype='|S4')"
      ]
     },
     "execution_count": 8,
     "metadata": {},
     "output_type": "execute_result"
    }
   ],
   "source": [
    "# ie tail\n",
    "positional[-11:]"
   ]
  },
  {
   "cell_type": "code",
   "execution_count": 9,
   "metadata": {
    "ExecuteTime": {
     "end_time": "2016-06-12T11:07:47.021181",
     "start_time": "2016-06-12T11:07:46.978592"
    },
    "collapsed": false,
    "run_control": {
     "frozen": false,
     "read_only": false
    }
   },
   "outputs": [
    {
     "data": {
      "text/html": [
       "<div>\n",
       "<table border=\"1\" class=\"dataframe\">\n",
       "  <thead>\n",
       "    <tr style=\"text-align: right;\">\n",
       "      <th></th>\n",
       "      <th>AA-2</th>\n",
       "      <th>AA-1</th>\n",
       "      <th>AA0</th>\n",
       "      <th>AA1</th>\n",
       "      <th>AA2</th>\n",
       "    </tr>\n",
       "  </thead>\n",
       "  <tbody>\n",
       "    <tr>\n",
       "      <th>0</th>\n",
       "      <td>-</td>\n",
       "      <td>-</td>\n",
       "      <td>A</td>\n",
       "      <td>E</td>\n",
       "      <td>K</td>\n",
       "    </tr>\n",
       "    <tr>\n",
       "      <th>1</th>\n",
       "      <td>-</td>\n",
       "      <td>A</td>\n",
       "      <td>E</td>\n",
       "      <td>K</td>\n",
       "      <td>V</td>\n",
       "    </tr>\n",
       "    <tr>\n",
       "      <th>2</th>\n",
       "      <td>A</td>\n",
       "      <td>E</td>\n",
       "      <td>K</td>\n",
       "      <td>V</td>\n",
       "      <td>L</td>\n",
       "    </tr>\n",
       "    <tr>\n",
       "      <th>3</th>\n",
       "      <td>E</td>\n",
       "      <td>K</td>\n",
       "      <td>V</td>\n",
       "      <td>L</td>\n",
       "      <td>V</td>\n",
       "    </tr>\n",
       "    <tr>\n",
       "      <th>4</th>\n",
       "      <td>K</td>\n",
       "      <td>V</td>\n",
       "      <td>L</td>\n",
       "      <td>V</td>\n",
       "      <td>T</td>\n",
       "    </tr>\n",
       "    <tr>\n",
       "      <th>5</th>\n",
       "      <td>V</td>\n",
       "      <td>L</td>\n",
       "      <td>V</td>\n",
       "      <td>T</td>\n",
       "      <td>G</td>\n",
       "    </tr>\n",
       "    <tr>\n",
       "      <th>6</th>\n",
       "      <td>L</td>\n",
       "      <td>V</td>\n",
       "      <td>T</td>\n",
       "      <td>G</td>\n",
       "      <td>G</td>\n",
       "    </tr>\n",
       "    <tr>\n",
       "      <th>7</th>\n",
       "      <td>V</td>\n",
       "      <td>T</td>\n",
       "      <td>G</td>\n",
       "      <td>G</td>\n",
       "      <td>A</td>\n",
       "    </tr>\n",
       "    <tr>\n",
       "      <th>8</th>\n",
       "      <td>T</td>\n",
       "      <td>G</td>\n",
       "      <td>G</td>\n",
       "      <td>A</td>\n",
       "      <td>G</td>\n",
       "    </tr>\n",
       "    <tr>\n",
       "      <th>9</th>\n",
       "      <td>G</td>\n",
       "      <td>G</td>\n",
       "      <td>A</td>\n",
       "      <td>G</td>\n",
       "      <td>Y</td>\n",
       "    </tr>\n",
       "  </tbody>\n",
       "</table>\n",
       "</div>"
      ],
      "text/plain": [
       "  AA-2 AA-1 AA0 AA1 AA2\n",
       "0    -    -   A   E   K\n",
       "1    -    A   E   K   V\n",
       "2    A    E   K   V   L\n",
       "3    E    K   V   L   V\n",
       "4    K    V   L   V   T\n",
       "5    V    L   V   T   G\n",
       "6    L    V   T   G   G\n",
       "7    V    T   G   G   A\n",
       "8    T    G   G   A   G\n",
       "9    G    G   A   G   Y"
      ]
     },
     "execution_count": 9,
     "metadata": {},
     "output_type": "execute_result"
    }
   ],
   "source": [
    "pos_df = pd.DataFrame(positional[1:], columns=positional[0])\n",
    "pos_df.head(10)"
   ]
  },
  {
   "cell_type": "markdown",
   "metadata": {},
   "source": [
    "### Now run over all spacings and proteins"
   ]
  },
  {
   "cell_type": "code",
   "execution_count": 12,
   "metadata": {
    "ExecuteTime": {
     "end_time": "2016-06-12T11:08:28.697705",
     "start_time": "2016-06-12T11:08:28.692897"
    },
    "collapsed": true,
    "run_control": {
     "frozen": false,
     "read_only": false
    }
   },
   "outputs": [],
   "source": [
    "from __future__ import print_function"
   ]
  },
  {
   "cell_type": "code",
   "execution_count": 13,
   "metadata": {
    "ExecuteTime": {
     "end_time": "2016-06-12T11:08:30.739813",
     "start_time": "2016-06-12T11:08:30.701596"
    },
    "collapsed": false,
    "run_control": {
     "frozen": false,
     "read_only": false
    }
   },
   "outputs": [
    {
     "data": {
      "text/plain": [
       "['1a3n.csv',\n",
       " '1b3n.csv',\n",
       " '1c3n.csv',\n",
       " '1d3n.csv',\n",
       " '1g3n.csv',\n",
       " '1h3n.csv',\n",
       " '1i3n.csv',\n",
       " '1j3n.csv',\n",
       " '1k3n.csv',\n",
       " '1l3n.csv']"
      ]
     },
     "execution_count": 13,
     "metadata": {},
     "output_type": "execute_result"
    }
   ],
   "source": [
    "topdir, _, files = next(os.walk('../clean_dssp_csv/'))\n",
    "files[:10]"
   ]
  },
  {
   "cell_type": "code",
   "execution_count": 14,
   "metadata": {
    "ExecuteTime": {
     "end_time": "2016-06-12T11:10:25.904385",
     "start_time": "2016-06-12T11:09:54.977610"
    },
    "collapsed": false,
    "run_control": {
     "frozen": false,
     "read_only": false
    }
   },
   "outputs": [
    {
     "name": "stdout",
     "output_type": "stream",
     "text": [
      "progress: 100%\n",
      "completed\n"
     ]
    }
   ],
   "source": [
    "n = len(files)-1\n",
    "\n",
    "for i, fi in enumerate(files):\n",
    "    # calculate fraction of total\n",
    "    per = int(i*100.0/n)\n",
    "    \n",
    "    # print progress\n",
    "    print('\\rprogress: '+str(per)+'%', end='')\n",
    "    \n",
    "    # get the data\n",
    "    df = pd.read_csv(topdir+fi)\n",
    "    \n",
    "    # get seq\n",
    "    seq = df['AA'].values\n",
    "    \n",
    "    # construct the positional df for each spacing \n",
    "    for spacing in xrange(5, 20, 2):\n",
    "        \n",
    "        # construct positional array\n",
    "        positional = construct_positional(seq, w=spacing, header=True)\n",
    "        \n",
    "        # create new pos df\n",
    "        pos_df = pd.DataFrame(positional[1:], columns=positional[0])\n",
    "\n",
    "        # construct filename\n",
    "        fn = '../positional_dssp_csv/(' + str(spacing) + ')_' + fi\n",
    "        \n",
    "        # write to file\n",
    "        pos_df.to_csv(fn, index=False)\n",
    "\n",
    "print('\\ncompleted')"
   ]
  },
  {
   "cell_type": "code",
   "execution_count": 15,
   "metadata": {
    "ExecuteTime": {
     "end_time": "2016-06-12T11:10:32.829036",
     "start_time": "2016-06-12T11:10:32.780838"
    },
    "collapsed": false,
    "run_control": {
     "frozen": false,
     "read_only": false
    }
   },
   "outputs": [
    {
     "data": {
      "text/html": [
       "<div>\n",
       "<table border=\"1\" class=\"dataframe\">\n",
       "  <thead>\n",
       "    <tr style=\"text-align: right;\">\n",
       "      <th></th>\n",
       "      <th>AA-2</th>\n",
       "      <th>AA-1</th>\n",
       "      <th>AA0</th>\n",
       "      <th>AA1</th>\n",
       "      <th>AA2</th>\n",
       "    </tr>\n",
       "  </thead>\n",
       "  <tbody>\n",
       "    <tr>\n",
       "      <th>0</th>\n",
       "      <td>-</td>\n",
       "      <td>-</td>\n",
       "      <td>A</td>\n",
       "      <td>E</td>\n",
       "      <td>K</td>\n",
       "    </tr>\n",
       "    <tr>\n",
       "      <th>1</th>\n",
       "      <td>-</td>\n",
       "      <td>A</td>\n",
       "      <td>E</td>\n",
       "      <td>K</td>\n",
       "      <td>V</td>\n",
       "    </tr>\n",
       "    <tr>\n",
       "      <th>2</th>\n",
       "      <td>A</td>\n",
       "      <td>E</td>\n",
       "      <td>K</td>\n",
       "      <td>V</td>\n",
       "      <td>L</td>\n",
       "    </tr>\n",
       "    <tr>\n",
       "      <th>3</th>\n",
       "      <td>E</td>\n",
       "      <td>K</td>\n",
       "      <td>V</td>\n",
       "      <td>L</td>\n",
       "      <td>V</td>\n",
       "    </tr>\n",
       "    <tr>\n",
       "      <th>4</th>\n",
       "      <td>K</td>\n",
       "      <td>V</td>\n",
       "      <td>L</td>\n",
       "      <td>V</td>\n",
       "      <td>T</td>\n",
       "    </tr>\n",
       "    <tr>\n",
       "      <th>5</th>\n",
       "      <td>V</td>\n",
       "      <td>L</td>\n",
       "      <td>V</td>\n",
       "      <td>T</td>\n",
       "      <td>G</td>\n",
       "    </tr>\n",
       "    <tr>\n",
       "      <th>6</th>\n",
       "      <td>L</td>\n",
       "      <td>V</td>\n",
       "      <td>T</td>\n",
       "      <td>G</td>\n",
       "      <td>G</td>\n",
       "    </tr>\n",
       "    <tr>\n",
       "      <th>7</th>\n",
       "      <td>V</td>\n",
       "      <td>T</td>\n",
       "      <td>G</td>\n",
       "      <td>G</td>\n",
       "      <td>A</td>\n",
       "    </tr>\n",
       "    <tr>\n",
       "      <th>8</th>\n",
       "      <td>T</td>\n",
       "      <td>G</td>\n",
       "      <td>G</td>\n",
       "      <td>A</td>\n",
       "      <td>G</td>\n",
       "    </tr>\n",
       "    <tr>\n",
       "      <th>9</th>\n",
       "      <td>G</td>\n",
       "      <td>G</td>\n",
       "      <td>A</td>\n",
       "      <td>G</td>\n",
       "      <td>Y</td>\n",
       "    </tr>\n",
       "  </tbody>\n",
       "</table>\n",
       "</div>"
      ],
      "text/plain": [
       "  AA-2 AA-1 AA0 AA1 AA2\n",
       "0    -    -   A   E   K\n",
       "1    -    A   E   K   V\n",
       "2    A    E   K   V   L\n",
       "3    E    K   V   L   V\n",
       "4    K    V   L   V   T\n",
       "5    V    L   V   T   G\n",
       "6    L    V   T   G   G\n",
       "7    V    T   G   G   A\n",
       "8    T    G   G   A   G\n",
       "9    G    G   A   G   Y"
      ]
     },
     "execution_count": 15,
     "metadata": {},
     "output_type": "execute_result"
    }
   ],
   "source": [
    "# check\n",
    "ex_pos_df = pd.read_csv('../positional_dssp_csv/(5)_1i3n.csv')\n",
    "ex_pos_df.head(10)"
   ]
  },
  {
   "cell_type": "code",
   "execution_count": 16,
   "metadata": {
    "ExecuteTime": {
     "end_time": "2016-06-12T11:10:35.198016",
     "start_time": "2016-06-12T11:10:35.159913"
    },
    "collapsed": false,
    "run_control": {
     "frozen": false,
     "read_only": false
    }
   },
   "outputs": [
    {
     "data": {
      "text/html": [
       "<div>\n",
       "<table border=\"1\" class=\"dataframe\">\n",
       "  <thead>\n",
       "    <tr style=\"text-align: right;\">\n",
       "      <th></th>\n",
       "      <th>AA-2</th>\n",
       "      <th>AA-1</th>\n",
       "      <th>AA0</th>\n",
       "      <th>AA1</th>\n",
       "      <th>AA2</th>\n",
       "    </tr>\n",
       "  </thead>\n",
       "  <tbody>\n",
       "    <tr>\n",
       "      <th>682</th>\n",
       "      <td>R</td>\n",
       "      <td>W</td>\n",
       "      <td>Q</td>\n",
       "      <td>K</td>\n",
       "      <td>Q</td>\n",
       "    </tr>\n",
       "    <tr>\n",
       "      <th>683</th>\n",
       "      <td>W</td>\n",
       "      <td>Q</td>\n",
       "      <td>K</td>\n",
       "      <td>Q</td>\n",
       "      <td>N</td>\n",
       "    </tr>\n",
       "    <tr>\n",
       "      <th>684</th>\n",
       "      <td>Q</td>\n",
       "      <td>K</td>\n",
       "      <td>Q</td>\n",
       "      <td>N</td>\n",
       "      <td>P</td>\n",
       "    </tr>\n",
       "    <tr>\n",
       "      <th>685</th>\n",
       "      <td>K</td>\n",
       "      <td>Q</td>\n",
       "      <td>N</td>\n",
       "      <td>P</td>\n",
       "      <td>S</td>\n",
       "    </tr>\n",
       "    <tr>\n",
       "      <th>686</th>\n",
       "      <td>Q</td>\n",
       "      <td>N</td>\n",
       "      <td>P</td>\n",
       "      <td>S</td>\n",
       "      <td>G</td>\n",
       "    </tr>\n",
       "    <tr>\n",
       "      <th>687</th>\n",
       "      <td>N</td>\n",
       "      <td>P</td>\n",
       "      <td>S</td>\n",
       "      <td>G</td>\n",
       "      <td>F</td>\n",
       "    </tr>\n",
       "    <tr>\n",
       "      <th>688</th>\n",
       "      <td>P</td>\n",
       "      <td>S</td>\n",
       "      <td>G</td>\n",
       "      <td>F</td>\n",
       "      <td>G</td>\n",
       "    </tr>\n",
       "    <tr>\n",
       "      <th>689</th>\n",
       "      <td>S</td>\n",
       "      <td>G</td>\n",
       "      <td>F</td>\n",
       "      <td>G</td>\n",
       "      <td>T</td>\n",
       "    </tr>\n",
       "    <tr>\n",
       "      <th>690</th>\n",
       "      <td>G</td>\n",
       "      <td>F</td>\n",
       "      <td>G</td>\n",
       "      <td>T</td>\n",
       "      <td>-</td>\n",
       "    </tr>\n",
       "    <tr>\n",
       "      <th>691</th>\n",
       "      <td>F</td>\n",
       "      <td>G</td>\n",
       "      <td>T</td>\n",
       "      <td>-</td>\n",
       "      <td>-</td>\n",
       "    </tr>\n",
       "  </tbody>\n",
       "</table>\n",
       "</div>"
      ],
      "text/plain": [
       "    AA-2 AA-1 AA0 AA1 AA2\n",
       "682    R    W   Q   K   Q\n",
       "683    W    Q   K   Q   N\n",
       "684    Q    K   Q   N   P\n",
       "685    K    Q   N   P   S\n",
       "686    Q    N   P   S   G\n",
       "687    N    P   S   G   F\n",
       "688    P    S   G   F   G\n",
       "689    S    G   F   G   T\n",
       "690    G    F   G   T   -\n",
       "691    F    G   T   -   -"
      ]
     },
     "execution_count": 16,
     "metadata": {},
     "output_type": "execute_result"
    }
   ],
   "source": [
    "ex_pos_df.tail(10)"
   ]
  },
  {
   "cell_type": "markdown",
   "metadata": {
    "collapsed": true,
    "run_control": {
     "frozen": false,
     "read_only": false
    }
   },
   "source": [
    " "
   ]
  }
 ],
 "metadata": {
  "kernelspec": {
   "display_name": "Python 2",
   "language": "python",
   "name": "python2"
  },
  "language_info": {
   "codemirror_mode": {
    "name": "ipython",
    "version": 2
   },
   "file_extension": ".py",
   "mimetype": "text/x-python",
   "name": "python",
   "nbconvert_exporter": "python",
   "pygments_lexer": "ipython2",
   "version": "2.7.11"
  }
 },
 "nbformat": 4,
 "nbformat_minor": 0
}
