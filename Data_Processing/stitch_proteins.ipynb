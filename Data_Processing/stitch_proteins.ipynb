{
 "cells": [
  {
   "cell_type": "code",
   "execution_count": 1,
   "metadata": {
    "ExecuteTime": {
     "end_time": "2016-06-07T12:06:21.571278",
     "start_time": "2016-06-07T12:06:08.925563"
    },
    "collapsed": true,
    "run_control": {
     "frozen": false,
     "read_only": false
    }
   },
   "outputs": [],
   "source": [
    "import pandas as pd\n",
    "import numpy as np\n",
    "import os"
   ]
  },
  {
   "cell_type": "code",
   "execution_count": 54,
   "metadata": {
    "ExecuteTime": {
     "end_time": "2016-06-07T17:16:30.537749",
     "start_time": "2016-06-07T17:16:30.327838"
    },
    "collapsed": false
   },
   "outputs": [
    {
     "name": "stdout",
     "output_type": "stream",
     "text": [
      "['(11)_1a3n.csv', '(11)_1b3n.csv', '(11)_1c3n.csv', '(11)_1d3n.csv', '(11)_1g3n.csv']\n"
     ]
    }
   ],
   "source": [
    "# will do this for each data directory\n",
    "topdir, _, files = next(os.walk('../verbose_dssp_csv/'))\n",
    "print(files[:5])"
   ]
  },
  {
   "cell_type": "code",
   "execution_count": 43,
   "metadata": {
    "ExecuteTime": {
     "end_time": "2016-06-07T12:48:28.060496",
     "start_time": "2016-06-07T12:48:28.055646"
    },
    "collapsed": false
   },
   "outputs": [],
   "source": [
    "spacing = [11, 13, 15, 17, 19, 5, 7, 9]"
   ]
  },
  {
   "cell_type": "code",
   "execution_count": 44,
   "metadata": {
    "ExecuteTime": {
     "end_time": "2016-06-07T12:49:59.190573",
     "start_time": "2016-06-07T12:49:59.186004"
    },
    "collapsed": true
   },
   "outputs": [],
   "source": [
    "from __future__ import print_function"
   ]
  },
  {
   "cell_type": "code",
   "execution_count": 55,
   "metadata": {
    "ExecuteTime": {
     "end_time": "2016-06-07T17:26:15.072879",
     "start_time": "2016-06-07T17:18:03.193844"
    },
    "collapsed": false
   },
   "outputs": [
    {
     "name": "stdout",
     "output_type": "stream",
     "text": [
      "progress: 100%"
     ]
    }
   ],
   "source": [
    "n = len(files)-1\n",
    "\n",
    "# outer for each spacing\n",
    "for i, s in enumerate(spacing):\n",
    "\n",
    "    rel_files = files[(347*i):(347*(i+1))]\n",
    "    \n",
    "    # for matrices\n",
    "    combo = pd.read_csv(topdir+rel_files[0])\n",
    "    \n",
    "#     for tensors\n",
    "#     combo = np.load(topdir+rel_files[0])\n",
    "    \n",
    "    # inner for each file after\n",
    "    for ii, rf in enumerate(rel_files[1:]):\n",
    "        \n",
    "        prog = (ii+1) + (i*347)\n",
    "        print('\\rprogress: ' + str(int(prog*100.0/n)) + '%', end='')\n",
    "        \n",
    "        # for matrices\n",
    "        df = pd.read_csv(topdir+rf)\n",
    "        combo.append(df, ignore_index=True)\n",
    "\n",
    "#         # for tensors\n",
    "#         d = np.load(topdir+rf)\n",
    "#         combo = np.append(combo, d, axis=0)\n",
    "\n",
    "    # for matrices, write the combo\n",
    "    fn = '../combined_verbose_dssp_csv/(' + str(s) + ')_combined_verbose.csv'\n",
    "    combo.to_csv(fn, index=False)\n",
    "\n",
    "#     # for tensors write the combo\n",
    "#     fn = '../combined_scaled_tensor_dssp_npy/(' + str(s) + ')_combined_scaled.npy'\n",
    "#     np.save(fn, combo)"
   ]
  },
  {
   "cell_type": "code",
   "execution_count": null,
   "metadata": {
    "collapsed": true
   },
   "outputs": [],
   "source": []
  }
 ],
 "metadata": {
  "kernelspec": {
   "display_name": "Python 2",
   "language": "python",
   "name": "python2"
  },
  "language_info": {
   "codemirror_mode": {
    "name": "ipython",
    "version": 2
   },
   "file_extension": ".py",
   "mimetype": "text/x-python",
   "name": "python",
   "nbconvert_exporter": "python",
   "pygments_lexer": "ipython2",
   "version": "2.7.11"
  }
 },
 "nbformat": 4,
 "nbformat_minor": 0
}
