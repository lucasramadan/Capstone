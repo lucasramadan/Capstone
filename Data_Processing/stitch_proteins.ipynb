{
 "cells": [
  {
   "cell_type": "markdown",
   "metadata": {},
   "source": [
    "### Imports"
   ]
  },
  {
   "cell_type": "code",
   "execution_count": 1,
   "metadata": {
    "ExecuteTime": {
     "end_time": "2016-06-08T11:12:58.836698",
     "start_time": "2016-06-08T11:12:47.266456"
    },
    "collapsed": true,
    "run_control": {
     "frozen": false,
     "read_only": false
    }
   },
   "outputs": [],
   "source": [
    "import pandas as pd\n",
    "import numpy as np\n",
    "import os"
   ]
  },
  {
   "cell_type": "markdown",
   "metadata": {},
   "source": [
    "### Run on files"
   ]
  },
  {
   "cell_type": "code",
   "execution_count": 18,
   "metadata": {
    "ExecuteTime": {
     "end_time": "2016-06-08T11:37:15.247919",
     "start_time": "2016-06-08T11:37:15.057145"
    },
    "collapsed": false,
    "run_control": {
     "frozen": false,
     "read_only": false
    }
   },
   "outputs": [
    {
     "name": "stdout",
     "output_type": "stream",
     "text": [
      "['(11)_1a3n.csv', '(11)_1b3n.csv', '(11)_1c3n.csv', '(11)_1d3n.csv', '(11)_1g3n.csv']\n"
     ]
    }
   ],
   "source": [
    "# will do this for each data directory\n",
    "topdir, _, files = next(os.walk('../verbose_dssp_csv/'))\n",
    "print(files[:5])"
   ]
  },
  {
   "cell_type": "code",
   "execution_count": 14,
   "metadata": {
    "ExecuteTime": {
     "end_time": "2016-06-08T11:30:30.249463",
     "start_time": "2016-06-08T11:30:30.245091"
    },
    "collapsed": false,
    "run_control": {
     "frozen": false,
     "read_only": false
    }
   },
   "outputs": [],
   "source": [
    "spacing = [11, 13, 15, 17, 19, 5, 7, 9]"
   ]
  },
  {
   "cell_type": "code",
   "execution_count": 4,
   "metadata": {
    "ExecuteTime": {
     "end_time": "2016-06-08T11:13:19.764519",
     "start_time": "2016-06-08T11:13:19.760455"
    },
    "collapsed": true,
    "run_control": {
     "frozen": false,
     "read_only": false
    }
   },
   "outputs": [],
   "source": [
    "from __future__ import print_function"
   ]
  },
  {
   "cell_type": "markdown",
   "metadata": {},
   "source": [
    "### Labels"
   ]
  },
  {
   "cell_type": "code",
   "execution_count": 10,
   "metadata": {
    "ExecuteTime": {
     "end_time": "2016-06-08T11:22:09.923032",
     "start_time": "2016-06-08T11:22:03.768781"
    },
    "collapsed": false,
    "hide_input": true,
    "run_control": {
     "frozen": false,
     "read_only": false
    }
   },
   "outputs": [
    {
     "name": "stdout",
     "output_type": "stream",
     "text": [
      "(572, 8)\n",
      "progress: 99%\n",
      "(268675, 8)\n"
     ]
    }
   ],
   "source": [
    "# for labels\n",
    "\n",
    "n = len(files) - 1\n",
    "\n",
    "combo = pd.read_csv(topdir+files[0])\n",
    "\n",
    "print(combo.shape)\n",
    "\n",
    "for i, f in enumerate(files[1:]):\n",
    "        \n",
    "    prog = int(i+1*100.0/n)\n",
    "    print('\\rprogress: ' + str(prog) + '%', end='')\n",
    "\n",
    "    df = pd.read_csv(topdir+f)\n",
    "    combo = combo.append(df, ignore_index=True)\n",
    "\n",
    "print()\n",
    "print(combo.shape)\n",
    "    \n",
    "fn = '../combined_labels/one_hot_labels.csv'\n",
    "combo.to_csv(fn, index=False)"
   ]
  },
  {
   "cell_type": "markdown",
   "metadata": {},
   "source": [
    "### Data"
   ]
  },
  {
   "cell_type": "code",
   "execution_count": 19,
   "metadata": {
    "ExecuteTime": {
     "end_time": "2016-06-08T12:26:46.162548",
     "start_time": "2016-06-08T11:37:22.481741"
    },
    "collapsed": false,
    "run_control": {
     "frozen": false,
     "read_only": false
    }
   },
   "outputs": [
    {
     "name": "stdout",
     "output_type": "stream",
     "text": [
      "progress: 100%"
     ]
    }
   ],
   "source": [
    "n = len(files)-1\n",
    "\n",
    "# outer for each spacing\n",
    "for i, s in enumerate(spacing):\n",
    "\n",
    "    rel_files = files[(347*i):(347*(i+1))]\n",
    "    \n",
    "    # for matrices\n",
    "    combo = pd.read_csv(topdir+rel_files[0])\n",
    "    \n",
    "#     for tensors\n",
    "#     combo = np.load(topdir+rel_files[0])\n",
    "    \n",
    "    # inner for each file after\n",
    "    for ii, rf in enumerate(rel_files[1:]):\n",
    "        \n",
    "        prog = (ii+1) + (i*347)\n",
    "        print('\\rprogress: ' + str(int(prog*100.0/n)) + '%', end='')\n",
    "        \n",
    "        # for matrices\n",
    "        df = pd.read_csv(topdir+rf)\n",
    "        combo = combo.append(df, ignore_index=True)\n",
    "\n",
    "#         # for tensors\n",
    "#         d = np.load(topdir+rf)\n",
    "#         combo = np.append(combo, d, axis=0)\n",
    "\n",
    "    # for matrices, write the combo\n",
    "    fn = '../combined_verbose_dssp_csv/(' + str(s) + ')_combined_verbose.csv'\n",
    "#     fn = '../combined_positional_dssp_csv/(' + str(s) + ')_combined_positional.csv'\n",
    "    combo.to_csv(fn, index=False)\n",
    "\n",
    "#     # for tensors write the combo\n",
    "#     fn = '../combined_scaled_tensor_dssp_npy/(' + str(s) + ')_combined_scaled.npy'\n",
    "#     np.save(fn, combo)"
   ]
  },
  {
   "cell_type": "code",
   "execution_count": null,
   "metadata": {
    "collapsed": true,
    "run_control": {
     "frozen": false,
     "read_only": false
    }
   },
   "outputs": [],
   "source": []
  }
 ],
 "metadata": {
  "kernelspec": {
   "display_name": "Python 3",
   "language": "python",
   "name": "python3"
  },
  "language_info": {
   "codemirror_mode": {
    "name": "ipython",
    "version": 3
   },
   "file_extension": ".py",
   "mimetype": "text/x-python",
   "name": "python",
   "nbconvert_exporter": "python",
   "pygments_lexer": "ipython3",
   "version": "3.5.1"
  }
 },
 "nbformat": 4,
 "nbformat_minor": 0
}
