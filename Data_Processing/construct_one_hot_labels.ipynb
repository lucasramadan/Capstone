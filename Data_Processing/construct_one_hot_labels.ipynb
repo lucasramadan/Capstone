{
 "cells": [
  {
   "cell_type": "code",
   "execution_count": 1,
   "metadata": {
    "ExecuteTime": {
     "end_time": "2016-06-27T17:20:12.830812",
     "start_time": "2016-06-27T17:20:01.418407"
    },
    "collapsed": true,
    "run_control": {
     "frozen": false,
     "read_only": false
    }
   },
   "outputs": [],
   "source": [
    "import pandas as pd\n",
    "import numpy as np\n",
    "import os\n",
    "from collections import Counter"
   ]
  },
  {
   "cell_type": "code",
   "execution_count": 2,
   "metadata": {
    "ExecuteTime": {
     "end_time": "2016-06-27T17:20:13.008587",
     "start_time": "2016-06-27T17:20:12.833382"
    },
    "collapsed": false
   },
   "outputs": [
    {
     "name": "stdout",
     "output_type": "stream",
     "text": [
      "total 24368792\r\n",
      "3403080 -rw-r--r--      1 LucasRamadan  staff   1.6G Jun 21 16:44 (19)_spaced.zip\r\n",
      "      0 drwxr-xr-x     26 LucasRamadan  staff   884B Jun 27 17:19 \u001b[34m.\u001b[m\u001b[m/\r\n",
      "      0 drwxrwxr-x@    12 LucasRamadan  staff   476B Jun 27 16:15 \u001b[34m..\u001b[m\u001b[m/\r\n",
      "     32 -rw-r--r--@     1 LucasRamadan  staff    14K Jun 27 17:20 .DS_Store\r\n",
      "      0 drwxr-xr-x      4 LucasRamadan  staff   136B Jun 27 17:19 \u001b[34m.ipynb_checkpoints\u001b[m\u001b[m/\r\n",
      "      0 drwxr-xr-x  50640 LucasRamadan  staff   3.8M Jun 27 16:18 \u001b[34mclean_dssp_csv\u001b[m\u001b[m/\r\n",
      "5806096 -rw-r--r--      1 LucasRamadan  staff   2.8G Jun 10 17:00 clean_dssp_csv.zip\r\n",
      "  30768 -rw-r--r--      1 LucasRamadan  staff    15M Jun 19 20:37 completed_verbose.csv\r\n",
      "      8 -rw-r--r--@     1 LucasRamadan  staff    18B Jun 27 16:30 corrupt_files.txt\r\n",
      "      8 -rw-r--r--      1 LucasRamadan  staff   538B Jun 27 16:29 corrupt_positional.txt\r\n",
      "      8 -rw-r--r--      1 LucasRamadan  staff   676B Jun 27 17:18 corrupt_verbose.txt\r\n",
      "      8 -rw-r--r--      1 LucasRamadan  staff   3.1K Jun 27 12:46 data_generator.ipynb\r\n",
      "      8 -rw-r--r--      1 LucasRamadan  staff   228B Jun 20 23:15 done_files.py\r\n",
      "      0 drwxr-xr-x  50642 LucasRamadan  staff   3.8M Jun  8 11:26 \u001b[34mdssp\u001b[m\u001b[m/\r\n",
      "6599112 -rw-r--r--      1 LucasRamadan  staff   3.1G Jun  8 16:39 dssp.zip\r\n",
      "   5680 -rw-r--r--      1 LucasRamadan  staff   2.8M Jun 21 18:28 file_lengths.txt\r\n",
      "     32 -rw-r--r--      1 LucasRamadan  staff    13K Jun 27 12:41 generate_labels.ipynb\r\n",
      "      0 drwxr-xr-x  50640 LucasRamadan  staff   3.8M Jun 27 16:19 \u001b[34mlabels\u001b[m\u001b[m/\r\n",
      "  70112 -rw-r--r--      1 LucasRamadan  staff    34M Jun 27 13:39 labels.zip\r\n",
      "      0 drwxr-xr-x  10689 LucasRamadan  staff   2.5M Jun 27 12:40 \u001b[34mone_hot_labels\u001b[m\u001b[m/\r\n",
      "      0 drwxr-xr-x  11890 LucasRamadan  staff    30M Jun 27 16:31 \u001b[34mpositional_dssp_csv\u001b[m\u001b[m/\r\n",
      "2703216 -rw-r--r--      1 LucasRamadan  staff   1.3G Jun 14 15:24 positional_dssp_csv.zip\r\n",
      "      0 drwxr-xr-x  50640 LucasRamadan  staff   3.8M Jun 27 16:18 \u001b[34mraw_dssp_csv\u001b[m\u001b[m/\r\n",
      "5750616 -rw-r--r--      1 LucasRamadan  staff   2.7G Jun  9 14:41 raw_dssp_csv.zip\r\n",
      "      8 -rwxr-xr-x      1 LucasRamadan  staff   631B Jun 20 23:36 \u001b[31mreorder_verbose.sh\u001b[m\u001b[m*\r\n",
      "      0 drwxrwxr-x     10 LucasRamadan  staff   340B Jun 21 10:40 \u001b[34mverbose_dssp_csv\u001b[m\u001b[m/\r\n"
     ]
    }
   ],
   "source": [
    "! ls -GFlash"
   ]
  },
  {
   "cell_type": "code",
   "execution_count": 3,
   "metadata": {
    "ExecuteTime": {
     "end_time": "2016-06-27T17:20:32.101750",
     "start_time": "2016-06-27T17:20:20.217485"
    },
    "collapsed": true,
    "run_control": {
     "frozen": false,
     "read_only": false
    }
   },
   "outputs": [],
   "source": [
    "top, inner, files = os.walk('labels/').next()"
   ]
  },
  {
   "cell_type": "code",
   "execution_count": 4,
   "metadata": {
    "ExecuteTime": {
     "end_time": "2016-06-27T17:20:32.135308",
     "start_time": "2016-06-27T17:20:32.104420"
    },
    "collapsed": false,
    "run_control": {
     "frozen": false,
     "read_only": false
    }
   },
   "outputs": [
    {
     "name": "stdout",
     "output_type": "stream",
     "text": [
      "116174\n"
     ]
    },
    {
     "data": {
      "text/plain": [
       "['101m.csv', '102l.csv', '102m.csv', '103l.csv', '103m.csv']"
      ]
     },
     "execution_count": 4,
     "metadata": {},
     "output_type": "execute_result"
    }
   ],
   "source": [
    "print len(files)\n",
    "files[:5]"
   ]
  },
  {
   "cell_type": "code",
   "execution_count": 5,
   "metadata": {
    "ExecuteTime": {
     "end_time": "2016-06-27T17:20:43.297040",
     "start_time": "2016-06-27T17:20:43.244824"
    },
    "collapsed": false,
    "run_control": {
     "frozen": false,
     "read_only": false
    }
   },
   "outputs": [
    {
     "data": {
      "text/html": [
       "<div>\n",
       "<table border=\"1\" class=\"dataframe\">\n",
       "  <thead>\n",
       "    <tr style=\"text-align: right;\">\n",
       "      <th></th>\n",
       "      <th>SS</th>\n",
       "    </tr>\n",
       "  </thead>\n",
       "  <tbody>\n",
       "    <tr>\n",
       "      <th>0</th>\n",
       "      <td>C</td>\n",
       "    </tr>\n",
       "    <tr>\n",
       "      <th>1</th>\n",
       "      <td>C</td>\n",
       "    </tr>\n",
       "    <tr>\n",
       "      <th>2</th>\n",
       "      <td>H</td>\n",
       "    </tr>\n",
       "    <tr>\n",
       "      <th>3</th>\n",
       "      <td>H</td>\n",
       "    </tr>\n",
       "    <tr>\n",
       "      <th>4</th>\n",
       "      <td>H</td>\n",
       "    </tr>\n",
       "  </tbody>\n",
       "</table>\n",
       "</div>"
      ],
      "text/plain": [
       "  SS\n",
       "0  C\n",
       "1  C\n",
       "2  H\n",
       "3  H\n",
       "4  H"
      ]
     },
     "execution_count": 5,
     "metadata": {},
     "output_type": "execute_result"
    }
   ],
   "source": [
    "# ex\n",
    "df = pd.read_csv(top+files[1], usecols=['SS'])\n",
    "df.head()"
   ]
  },
  {
   "cell_type": "code",
   "execution_count": 6,
   "metadata": {
    "ExecuteTime": {
     "end_time": "2016-06-27T17:20:47.030113",
     "start_time": "2016-06-27T17:20:47.018998"
    },
    "collapsed": false
   },
   "outputs": [
    {
     "data": {
      "text/plain": [
       "array(['C', 'C', 'H', 'H', 'H', 'H', 'H', 'H', 'H', 'H', 'H', 'C', 'C',\n",
       "       'E', 'E', 'E', 'E', 'E', 'E', 'C', 'T', 'T', 'S', 'C', 'E', 'E',\n",
       "       'E', 'E', 'T', 'T', 'E', 'E', 'E', 'E', 'S', 'S', 'S', 'C', 'I',\n",
       "       'I', 'I', 'I', 'I', 'H', 'H', 'H', 'H', 'H', 'H', 'H', 'H', 'T',\n",
       "       'S', 'C', 'C', 'T', 'T', 'B', 'C', 'C', 'H', 'H', 'H', 'H', 'H',\n",
       "       'H', 'H', 'H', 'H', 'H', 'H', 'H', 'H', 'H', 'H', 'H', 'H', 'H',\n",
       "       'H', 'H', 'H', 'C', 'T', 'T', 'H', 'H', 'H', 'H', 'H', 'H', 'H',\n",
       "       'S', 'C', 'H', 'H', 'H', 'H', 'H', 'H', 'H', 'H', 'H', 'H', 'H',\n",
       "       'H', 'H', 'H', 'H', 'H', 'H', 'H', 'H', 'H', 'T', 'C', 'H', 'H',\n",
       "       'H', 'H', 'H', 'H', 'H', 'H', 'T', 'T', 'C', 'H', 'H', 'H', 'H',\n",
       "       'H', 'H', 'H', 'H', 'H', 'S', 'S', 'H', 'H', 'H', 'H', 'H', 'S',\n",
       "       'H', 'H', 'H', 'H', 'H', 'H', 'H', 'H', 'H', 'H', 'H', 'H', 'H',\n",
       "       'S', 'S', 'S', 'G', 'G', 'G', 'C'], dtype=object)"
      ]
     },
     "execution_count": 6,
     "metadata": {},
     "output_type": "execute_result"
    }
   ],
   "source": [
    "d1 = df.values.reshape(-1, )\n",
    "d1"
   ]
  },
  {
   "cell_type": "code",
   "execution_count": 8,
   "metadata": {
    "ExecuteTime": {
     "end_time": "2016-06-27T17:20:58.477147",
     "start_time": "2016-06-27T17:20:58.467719"
    },
    "collapsed": false
   },
   "outputs": [
    {
     "data": {
      "text/plain": [
       "['B', 'C', 'E', 'G', 'H', 'I', 'S', 'T']"
      ]
     },
     "execution_count": 8,
     "metadata": {},
     "output_type": "execute_result"
    }
   ],
   "source": [
    "header = sorted(Counter(df.values.reshape(-1, )).keys())\n",
    "n_header = len(header)\n",
    "header"
   ]
  },
  {
   "cell_type": "code",
   "execution_count": 9,
   "metadata": {
    "ExecuteTime": {
     "end_time": "2016-06-27T17:20:59.998343",
     "start_time": "2016-06-27T17:20:59.987623"
    },
    "collapsed": false
   },
   "outputs": [
    {
     "data": {
      "text/plain": [
       "array([[0, 1, 0, ..., 0, 0, 0],\n",
       "       [0, 1, 0, ..., 0, 0, 0],\n",
       "       [0, 0, 0, ..., 0, 0, 0],\n",
       "       ..., \n",
       "       [0, 0, 0, ..., 0, 0, 0],\n",
       "       [0, 0, 0, ..., 0, 0, 0],\n",
       "       [0, 1, 0, ..., 0, 0, 0]])"
      ]
     },
     "execution_count": 9,
     "metadata": {},
     "output_type": "execute_result"
    }
   ],
   "source": [
    "d1_m = np.zeros((len(d1), len(header)), dtype=int)\n",
    "\n",
    "for i, l in enumerate(d1):\n",
    "    ind = header.index(l)\n",
    "    d1_m[i][ind] = 1\n",
    "\n",
    "d1_m"
   ]
  },
  {
   "cell_type": "markdown",
   "metadata": {},
   "source": [
    "### On all files"
   ]
  },
  {
   "cell_type": "code",
   "execution_count": 10,
   "metadata": {
    "ExecuteTime": {
     "end_time": "2016-06-27T17:21:02.887288",
     "start_time": "2016-06-27T17:21:02.882850"
    },
    "collapsed": true,
    "run_control": {
     "frozen": false,
     "read_only": false
    }
   },
   "outputs": [],
   "source": [
    "from __future__ import print_function"
   ]
  },
  {
   "cell_type": "code",
   "execution_count": 12,
   "metadata": {
    "ExecuteTime": {
     "end_time": "2016-06-27T17:47:46.273277",
     "start_time": "2016-06-27T17:21:50.327282"
    },
    "collapsed": false,
    "run_control": {
     "frozen": false,
     "read_only": false
    }
   },
   "outputs": [
    {
     "name": "stdout",
     "output_type": "stream",
     "text": [
      "progress: 100.0%"
     ]
    }
   ],
   "source": [
    "n_files = len(files)-1\n",
    "\n",
    "for i, fi in enumerate(files):\n",
    "    # showing progress\n",
    "    prog = round(i*100.0/n_files, 2)\n",
    "    print('\\rprogress: '+str(prog)+'%', end='')\n",
    "    \n",
    "    # getting data in \n",
    "    inp = pd.read_csv(top+fi, usecols=['SS']).values.reshape(-1, )\n",
    "    n_inp = len(inp)\n",
    "    \n",
    "    # match each SS to the header \n",
    "    one_hot = np.zeros((n_inp, n_header), dtype=int)\n",
    "    \n",
    "    for n, v in enumerate(inp):\n",
    "        ind = header.index(v)\n",
    "        one_hot[n][ind] = 1\n",
    "    \n",
    "    one_hot_df = pd.DataFrame(one_hot, columns=header)\n",
    "    one_hot_df.to_csv('one_hot_labels/'+fi, index=False)"
   ]
  },
  {
   "cell_type": "code",
   "execution_count": null,
   "metadata": {
    "collapsed": true,
    "run_control": {
     "frozen": false,
     "read_only": false
    }
   },
   "outputs": [],
   "source": []
  }
 ],
 "metadata": {
  "kernelspec": {
   "display_name": "Python 2",
   "language": "python",
   "name": "python2"
  },
  "language_info": {
   "codemirror_mode": {
    "name": "ipython",
    "version": 2
   },
   "file_extension": ".py",
   "mimetype": "text/x-python",
   "name": "python",
   "nbconvert_exporter": "python",
   "pygments_lexer": "ipython2",
   "version": "2.7.11"
  }
 },
 "nbformat": 4,
 "nbformat_minor": 0
}
