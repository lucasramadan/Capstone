{
 "cells": [
  {
   "cell_type": "markdown",
   "metadata": {},
   "source": [
    "### Imports"
   ]
  },
  {
   "cell_type": "code",
   "execution_count": 1,
   "metadata": {
    "ExecuteTime": {
     "end_time": "2016-06-06T14:34:47.890665",
     "start_time": "2016-06-06T14:34:37.926256"
    },
    "collapsed": true,
    "run_control": {
     "frozen": false,
     "read_only": false
    }
   },
   "outputs": [],
   "source": [
    "import pandas as pd\n",
    "import numpy as np\n",
    "import os\n",
    "import string # need this for the amino acid feature space"
   ]
  },
  {
   "cell_type": "markdown",
   "metadata": {},
   "source": [
    "### Single file example"
   ]
  },
  {
   "cell_type": "code",
   "execution_count": 2,
   "metadata": {
    "ExecuteTime": {
     "end_time": "2016-06-06T14:34:47.956046",
     "start_time": "2016-06-06T14:34:47.893378"
    },
    "collapsed": false,
    "run_control": {
     "frozen": false,
     "read_only": false
    }
   },
   "outputs": [
    {
     "data": {
      "text/html": [
       "<div>\n",
       "<table border=\"1\" class=\"dataframe\">\n",
       "  <thead>\n",
       "    <tr style=\"text-align: right;\">\n",
       "      <th></th>\n",
       "      <th>AA-2</th>\n",
       "      <th>AA-1</th>\n",
       "      <th>AA0</th>\n",
       "      <th>AA1</th>\n",
       "      <th>AA2</th>\n",
       "      <th>SS</th>\n",
       "    </tr>\n",
       "  </thead>\n",
       "  <tbody>\n",
       "    <tr>\n",
       "      <th>0</th>\n",
       "      <td>-</td>\n",
       "      <td>-</td>\n",
       "      <td>A</td>\n",
       "      <td>E</td>\n",
       "      <td>K</td>\n",
       "      <td>C</td>\n",
       "    </tr>\n",
       "    <tr>\n",
       "      <th>1</th>\n",
       "      <td>-</td>\n",
       "      <td>A</td>\n",
       "      <td>E</td>\n",
       "      <td>K</td>\n",
       "      <td>V</td>\n",
       "      <td>C</td>\n",
       "    </tr>\n",
       "    <tr>\n",
       "      <th>2</th>\n",
       "      <td>A</td>\n",
       "      <td>E</td>\n",
       "      <td>K</td>\n",
       "      <td>V</td>\n",
       "      <td>L</td>\n",
       "      <td>E</td>\n",
       "    </tr>\n",
       "    <tr>\n",
       "      <th>3</th>\n",
       "      <td>E</td>\n",
       "      <td>K</td>\n",
       "      <td>V</td>\n",
       "      <td>L</td>\n",
       "      <td>V</td>\n",
       "      <td>E</td>\n",
       "    </tr>\n",
       "    <tr>\n",
       "      <th>4</th>\n",
       "      <td>K</td>\n",
       "      <td>V</td>\n",
       "      <td>L</td>\n",
       "      <td>V</td>\n",
       "      <td>T</td>\n",
       "      <td>E</td>\n",
       "    </tr>\n",
       "    <tr>\n",
       "      <th>5</th>\n",
       "      <td>V</td>\n",
       "      <td>L</td>\n",
       "      <td>V</td>\n",
       "      <td>T</td>\n",
       "      <td>G</td>\n",
       "      <td>E</td>\n",
       "    </tr>\n",
       "    <tr>\n",
       "      <th>6</th>\n",
       "      <td>L</td>\n",
       "      <td>V</td>\n",
       "      <td>T</td>\n",
       "      <td>G</td>\n",
       "      <td>G</td>\n",
       "      <td>E</td>\n",
       "    </tr>\n",
       "    <tr>\n",
       "      <th>7</th>\n",
       "      <td>V</td>\n",
       "      <td>T</td>\n",
       "      <td>G</td>\n",
       "      <td>G</td>\n",
       "      <td>A</td>\n",
       "      <td>T</td>\n",
       "    </tr>\n",
       "    <tr>\n",
       "      <th>8</th>\n",
       "      <td>T</td>\n",
       "      <td>G</td>\n",
       "      <td>G</td>\n",
       "      <td>A</td>\n",
       "      <td>G</td>\n",
       "      <td>T</td>\n",
       "    </tr>\n",
       "    <tr>\n",
       "      <th>9</th>\n",
       "      <td>G</td>\n",
       "      <td>G</td>\n",
       "      <td>A</td>\n",
       "      <td>G</td>\n",
       "      <td>Y</td>\n",
       "      <td>T</td>\n",
       "    </tr>\n",
       "  </tbody>\n",
       "</table>\n",
       "</div>"
      ],
      "text/plain": [
       "  AA-2 AA-1 AA0 AA1 AA2 SS\n",
       "0    -    -   A   E   K  C\n",
       "1    -    A   E   K   V  C\n",
       "2    A    E   K   V   L  E\n",
       "3    E    K   V   L   V  E\n",
       "4    K    V   L   V   T  E\n",
       "5    V    L   V   T   G  E\n",
       "6    L    V   T   G   G  E\n",
       "7    V    T   G   G   A  T\n",
       "8    T    G   G   A   G  T\n",
       "9    G    G   A   G   Y  T"
      ]
     },
     "execution_count": 2,
     "metadata": {},
     "output_type": "execute_result"
    }
   ],
   "source": [
    "df = pd.read_csv('../positional_dssp_csv/(5)_1i3n.csv')\n",
    "df.head(10)"
   ]
  },
  {
   "cell_type": "code",
   "execution_count": 3,
   "metadata": {
    "ExecuteTime": {
     "end_time": "2016-06-06T14:34:47.970704",
     "start_time": "2016-06-06T14:34:47.961047"
    },
    "collapsed": true,
    "run_control": {
     "frozen": false,
     "read_only": false
    }
   },
   "outputs": [],
   "source": [
    "ss = df[['SS']]\n",
    "data = df.copy().drop(['SS'], axis=1)"
   ]
  },
  {
   "cell_type": "code",
   "execution_count": 4,
   "metadata": {
    "ExecuteTime": {
     "end_time": "2016-06-06T14:34:48.007855",
     "start_time": "2016-06-06T14:34:47.973950"
    },
    "collapsed": false,
    "run_control": {
     "frozen": false,
     "read_only": false
    }
   },
   "outputs": [
    {
     "data": {
      "text/html": [
       "<div>\n",
       "<table border=\"1\" class=\"dataframe\">\n",
       "  <thead>\n",
       "    <tr style=\"text-align: right;\">\n",
       "      <th></th>\n",
       "      <th>AA-2</th>\n",
       "      <th>AA-1</th>\n",
       "      <th>AA0</th>\n",
       "      <th>AA1</th>\n",
       "      <th>AA2</th>\n",
       "    </tr>\n",
       "  </thead>\n",
       "  <tbody>\n",
       "    <tr>\n",
       "      <th>0</th>\n",
       "      <td>-</td>\n",
       "      <td>-</td>\n",
       "      <td>A</td>\n",
       "      <td>E</td>\n",
       "      <td>K</td>\n",
       "    </tr>\n",
       "    <tr>\n",
       "      <th>1</th>\n",
       "      <td>-</td>\n",
       "      <td>A</td>\n",
       "      <td>E</td>\n",
       "      <td>K</td>\n",
       "      <td>V</td>\n",
       "    </tr>\n",
       "    <tr>\n",
       "      <th>2</th>\n",
       "      <td>A</td>\n",
       "      <td>E</td>\n",
       "      <td>K</td>\n",
       "      <td>V</td>\n",
       "      <td>L</td>\n",
       "    </tr>\n",
       "    <tr>\n",
       "      <th>3</th>\n",
       "      <td>E</td>\n",
       "      <td>K</td>\n",
       "      <td>V</td>\n",
       "      <td>L</td>\n",
       "      <td>V</td>\n",
       "    </tr>\n",
       "    <tr>\n",
       "      <th>4</th>\n",
       "      <td>K</td>\n",
       "      <td>V</td>\n",
       "      <td>L</td>\n",
       "      <td>V</td>\n",
       "      <td>T</td>\n",
       "    </tr>\n",
       "  </tbody>\n",
       "</table>\n",
       "</div>"
      ],
      "text/plain": [
       "  AA-2 AA-1 AA0 AA1 AA2\n",
       "0    -    -   A   E   K\n",
       "1    -    A   E   K   V\n",
       "2    A    E   K   V   L\n",
       "3    E    K   V   L   V\n",
       "4    K    V   L   V   T"
      ]
     },
     "execution_count": 4,
     "metadata": {},
     "output_type": "execute_result"
    }
   ],
   "source": [
    "data.head()"
   ]
  },
  {
   "cell_type": "code",
   "execution_count": 5,
   "metadata": {
    "ExecuteTime": {
     "end_time": "2016-06-06T14:34:48.035117",
     "start_time": "2016-06-06T14:34:48.011701"
    },
    "collapsed": false,
    "run_control": {
     "frozen": false,
     "read_only": false
    }
   },
   "outputs": [
    {
     "data": {
      "text/html": [
       "<div>\n",
       "<table border=\"1\" class=\"dataframe\">\n",
       "  <thead>\n",
       "    <tr style=\"text-align: right;\">\n",
       "      <th></th>\n",
       "      <th>SS</th>\n",
       "    </tr>\n",
       "  </thead>\n",
       "  <tbody>\n",
       "    <tr>\n",
       "      <th>0</th>\n",
       "      <td>C</td>\n",
       "    </tr>\n",
       "    <tr>\n",
       "      <th>1</th>\n",
       "      <td>C</td>\n",
       "    </tr>\n",
       "    <tr>\n",
       "      <th>2</th>\n",
       "      <td>E</td>\n",
       "    </tr>\n",
       "    <tr>\n",
       "      <th>3</th>\n",
       "      <td>E</td>\n",
       "    </tr>\n",
       "    <tr>\n",
       "      <th>4</th>\n",
       "      <td>E</td>\n",
       "    </tr>\n",
       "  </tbody>\n",
       "</table>\n",
       "</div>"
      ],
      "text/plain": [
       "  SS\n",
       "0  C\n",
       "1  C\n",
       "2  E\n",
       "3  E\n",
       "4  E"
      ]
     },
     "execution_count": 5,
     "metadata": {},
     "output_type": "execute_result"
    }
   ],
   "source": [
    "ss.head()"
   ]
  },
  {
   "cell_type": "code",
   "execution_count": 6,
   "metadata": {
    "ExecuteTime": {
     "end_time": "2016-06-06T14:34:48.048729",
     "start_time": "2016-06-06T14:34:48.039622"
    },
    "collapsed": false,
    "run_control": {
     "frozen": false,
     "read_only": false
    }
   },
   "outputs": [
    {
     "name": "stdout",
     "output_type": "stream",
     "text": [
      "['-', 'A', 'C', 'D', 'E', 'F', 'G', 'H', 'I', 'K', 'L', 'M', 'N', 'P', 'Q', 'R', 'S', 'T', 'V', 'W', 'X', 'Y']\n"
     ]
    }
   ],
   "source": [
    "# include 'X' Amino Acid for consistency with DSSP program\n",
    "# since 'X' is the undetermined symbol\n",
    "\n",
    "aminos = sorted(list(set(df['AA-1']))+['X'])\n",
    "print aminos"
   ]
  },
  {
   "cell_type": "markdown",
   "metadata": {},
   "source": [
    "### Single row example"
   ]
  },
  {
   "cell_type": "code",
   "execution_count": 16,
   "metadata": {
    "ExecuteTime": {
     "end_time": "2016-06-06T14:42:35.241568",
     "start_time": "2016-06-06T14:42:35.230796"
    },
    "collapsed": true,
    "run_control": {
     "frozen": false,
     "read_only": false
    }
   },
   "outputs": [],
   "source": [
    "def construct_verbose(row):\n",
    "    \"\"\"\n",
    "    Pass in a positional row\n",
    "    Get back a verbose row\n",
    "    \"\"\"\n",
    "    m = len(row)//2\n",
    "    pos = range(-m, m+1)\n",
    "    verb = []\n",
    "    \n",
    "    for v, p in zip(row, pos):\n",
    "        entry = v + str(p)\n",
    "        verb.append(entry)\n",
    "    \n",
    "    return verb"
   ]
  },
  {
   "cell_type": "code",
   "execution_count": 17,
   "metadata": {
    "ExecuteTime": {
     "end_time": "2016-06-06T14:42:35.472830",
     "start_time": "2016-06-06T14:42:35.461599"
    },
    "collapsed": false,
    "run_control": {
     "frozen": false,
     "read_only": false
    }
   },
   "outputs": [
    {
     "data": {
      "text/plain": [
       "['--2', '--1', 'A0', 'E1', 'K2']"
      ]
     },
     "execution_count": 17,
     "metadata": {},
     "output_type": "execute_result"
    }
   ],
   "source": [
    "p0 = data.ix[0].values\n",
    "vb = construct_verbose(p0)\n",
    "vb"
   ]
  },
  {
   "cell_type": "code",
   "execution_count": 18,
   "metadata": {
    "ExecuteTime": {
     "end_time": "2016-06-06T14:42:36.428141",
     "start_time": "2016-06-06T14:42:36.415402"
    },
    "collapsed": true,
    "run_control": {
     "frozen": false,
     "read_only": false
    }
   },
   "outputs": [],
   "source": [
    "def construct_features(n=5):\n",
    "    m = n//2\n",
    "    pos = range(-m, m+1)\n",
    "    \n",
    "    aminos = ['-', 'A', 'C', 'D', 'E', 'F', 'G', 'H', 'I', 'K', 'L', 'M', \n",
    "              'N', 'P', 'Q', 'R', 'S', 'T', 'V', 'W', 'X', 'Y']\n",
    "\n",
    "    aminos = aminos + list(string.ascii_lowercase)\n",
    "    \n",
    "    # construct feature space\n",
    "    fs = np.asarray([[aa+str(p) for p in pos] for aa in aminos]).ravel()\n",
    "    \n",
    "    return fs"
   ]
  },
  {
   "cell_type": "code",
   "execution_count": 19,
   "metadata": {
    "ExecuteTime": {
     "end_time": "2016-06-06T14:42:37.176004",
     "start_time": "2016-06-06T14:42:37.167365"
    },
    "collapsed": false,
    "run_control": {
     "frozen": false,
     "read_only": false
    }
   },
   "outputs": [
    {
     "name": "stdout",
     "output_type": "stream",
     "text": [
      "240\n",
      "['--2' '--1' '-0' '-1' '-2' 'A-2' 'A-1' 'A0' 'A1' 'A2' 'C-2' 'C-1' 'C0'\n",
      " 'C1' 'C2' 'D-2' 'D-1' 'D0' 'D1' 'D2' 'E-2' 'E-1' 'E0' 'E1' 'E2' 'F-2'\n",
      " 'F-1' 'F0' 'F1' 'F2' 'G-2' 'G-1' 'G0' 'G1' 'G2' 'H-2' 'H-1' 'H0' 'H1' 'H2'\n",
      " 'I-2' 'I-1' 'I0' 'I1' 'I2' 'K-2' 'K-1' 'K0' 'K1' 'K2' 'L-2' 'L-1' 'L0'\n",
      " 'L1' 'L2' 'M-2' 'M-1' 'M0' 'M1' 'M2' 'N-2' 'N-1' 'N0' 'N1' 'N2' 'P-2'\n",
      " 'P-1' 'P0' 'P1' 'P2' 'Q-2' 'Q-1' 'Q0' 'Q1' 'Q2' 'R-2' 'R-1' 'R0' 'R1' 'R2'\n",
      " 'S-2' 'S-1' 'S0' 'S1' 'S2' 'T-2' 'T-1' 'T0' 'T1' 'T2' 'V-2' 'V-1' 'V0'\n",
      " 'V1' 'V2' 'W-2' 'W-1' 'W0' 'W1' 'W2' 'X-2' 'X-1' 'X0' 'X1' 'X2' 'Y-2'\n",
      " 'Y-1' 'Y0' 'Y1' 'Y2' 'a-2' 'a-1' 'a0' 'a1' 'a2' 'b-2' 'b-1' 'b0' 'b1' 'b2'\n",
      " 'c-2' 'c-1' 'c0' 'c1' 'c2' 'd-2' 'd-1' 'd0' 'd1' 'd2' 'e-2' 'e-1' 'e0'\n",
      " 'e1' 'e2' 'f-2' 'f-1' 'f0' 'f1' 'f2' 'g-2' 'g-1' 'g0' 'g1' 'g2' 'h-2'\n",
      " 'h-1' 'h0' 'h1' 'h2' 'i-2' 'i-1' 'i0' 'i1' 'i2' 'j-2' 'j-1' 'j0' 'j1' 'j2'\n",
      " 'k-2' 'k-1' 'k0' 'k1' 'k2' 'l-2' 'l-1' 'l0' 'l1' 'l2' 'm-2' 'm-1' 'm0'\n",
      " 'm1' 'm2' 'n-2' 'n-1' 'n0' 'n1' 'n2' 'o-2' 'o-1' 'o0' 'o1' 'o2' 'p-2'\n",
      " 'p-1' 'p0' 'p1' 'p2' 'q-2' 'q-1' 'q0' 'q1' 'q2' 'r-2' 'r-1' 'r0' 'r1' 'r2'\n",
      " 's-2' 's-1' 's0' 's1' 's2' 't-2' 't-1' 't0' 't1' 't2' 'u-2' 'u-1' 'u0'\n",
      " 'u1' 'u2' 'v-2' 'v-1' 'v0' 'v1' 'v2' 'w-2' 'w-1' 'w0' 'w1' 'w2' 'x-2'\n",
      " 'x-1' 'x0' 'x1' 'x2' 'y-2' 'y-1' 'y0' 'y1' 'y2' 'z-2' 'z-1' 'z0' 'z1' 'z2']\n"
     ]
    }
   ],
   "source": [
    "print len(construct_features())\n",
    "fs = construct_features()\n",
    "print fs"
   ]
  },
  {
   "cell_type": "code",
   "execution_count": 24,
   "metadata": {
    "ExecuteTime": {
     "end_time": "2016-06-06T14:42:46.876311",
     "start_time": "2016-06-06T14:42:46.860416"
    },
    "collapsed": false,
    "run_control": {
     "frozen": false,
     "read_only": false
    }
   },
   "outputs": [],
   "source": [
    "def construct_full(verb, fs):\n",
    "        \n",
    "    n = len(verb)\n",
    "    m = n//2\n",
    "    pos = range(-m, m+1)\n",
    "    \n",
    "    # start with empty array\n",
    "    full = np.zeros(len(fs), dtype=int)\n",
    "    \n",
    "    # get the indices where\n",
    "#     ind = []\n",
    "#     for v in verb:\n",
    "#         print(v)\n",
    "#         i = np.where(v == fs)[0][0]\n",
    "#         print(str(v)+':'+str(i))\n",
    "#         ind.append(i)\n",
    "    ind = [np.where(v == fs)[0][0] for v in verb]\n",
    "    \n",
    "    # set the indices where we have an AA\n",
    "    full[ind] = 1\n",
    "    \n",
    "    return full\n",
    "    "
   ]
  },
  {
   "cell_type": "code",
   "execution_count": 25,
   "metadata": {
    "ExecuteTime": {
     "end_time": "2016-06-06T14:42:47.440240",
     "start_time": "2016-06-06T14:42:47.432459"
    },
    "collapsed": false,
    "run_control": {
     "frozen": false,
     "read_only": false
    }
   },
   "outputs": [
    {
     "data": {
      "text/plain": [
       "['--2', '--1', 'A0', 'E1', 'K2']"
      ]
     },
     "execution_count": 25,
     "metadata": {},
     "output_type": "execute_result"
    }
   ],
   "source": [
    "vb"
   ]
  },
  {
   "cell_type": "code",
   "execution_count": 26,
   "metadata": {
    "ExecuteTime": {
     "end_time": "2016-06-06T14:42:47.711026",
     "start_time": "2016-06-06T14:42:47.707306"
    },
    "collapsed": false,
    "run_control": {
     "frozen": false,
     "read_only": false
    }
   },
   "outputs": [],
   "source": [
    "r0 = construct_full(vb, fs)"
   ]
  },
  {
   "cell_type": "code",
   "execution_count": 27,
   "metadata": {
    "ExecuteTime": {
     "end_time": "2016-06-06T14:42:48.785875",
     "start_time": "2016-06-06T14:42:48.775853"
    },
    "collapsed": false,
    "run_control": {
     "frozen": false,
     "read_only": false
    }
   },
   "outputs": [
    {
     "data": {
      "text/plain": [
       "array([1, 1, 0, 0, 0, 0, 0, 1, 0, 0, 0, 0, 0, 0, 0, 0, 0, 0, 0, 0, 0, 0, 0,\n",
       "       1, 0, 0, 0, 0, 0, 0, 0, 0, 0, 0, 0, 0, 0, 0, 0, 0, 0, 0, 0, 0, 0, 0,\n",
       "       0, 0, 0, 1, 0, 0, 0, 0, 0, 0, 0, 0, 0, 0, 0, 0, 0, 0, 0, 0, 0, 0, 0,\n",
       "       0, 0, 0, 0, 0, 0, 0, 0, 0, 0, 0, 0, 0, 0, 0, 0, 0, 0, 0, 0, 0, 0, 0,\n",
       "       0, 0, 0, 0, 0, 0, 0, 0, 0, 0, 0, 0, 0, 0, 0, 0, 0, 0, 0, 0, 0, 0, 0,\n",
       "       0, 0, 0, 0, 0, 0, 0, 0, 0, 0, 0, 0, 0, 0, 0, 0, 0, 0, 0, 0, 0, 0, 0,\n",
       "       0, 0, 0, 0, 0, 0, 0, 0, 0, 0, 0, 0, 0, 0, 0, 0, 0, 0, 0, 0, 0, 0, 0,\n",
       "       0, 0, 0, 0, 0, 0, 0, 0, 0, 0, 0, 0, 0, 0, 0, 0, 0, 0, 0, 0, 0, 0, 0,\n",
       "       0, 0, 0, 0, 0, 0, 0, 0, 0, 0, 0, 0, 0, 0, 0, 0, 0, 0, 0, 0, 0, 0, 0,\n",
       "       0, 0, 0, 0, 0, 0, 0, 0, 0, 0, 0, 0, 0, 0, 0, 0, 0, 0, 0, 0, 0, 0, 0,\n",
       "       0, 0, 0, 0, 0, 0, 0, 0, 0, 0])"
      ]
     },
     "execution_count": 27,
     "metadata": {},
     "output_type": "execute_result"
    }
   ],
   "source": [
    "r0"
   ]
  },
  {
   "cell_type": "markdown",
   "metadata": {},
   "source": [
    "### Run over all rows "
   ]
  },
  {
   "cell_type": "code",
   "execution_count": 28,
   "metadata": {
    "ExecuteTime": {
     "end_time": "2016-06-06T14:42:50.330206",
     "start_time": "2016-06-06T14:42:50.318991"
    },
    "collapsed": false,
    "run_control": {
     "frozen": false,
     "read_only": false
    }
   },
   "outputs": [],
   "source": [
    "def construct_verbose_df(data, n=5):\n",
    "    fs = construct_features(n=n)\n",
    "\n",
    "    full_ar = []\n",
    "\n",
    "    for row in data.values:\n",
    "        vb = construct_verbose(row)\n",
    "        full = construct_full(vb, fs)\n",
    "        full_ar.append(full)\n",
    "\n",
    "    full_df = pd.DataFrame(full_ar, columns=fs)\n",
    "    \n",
    "    return full_df"
   ]
  },
  {
   "cell_type": "code",
   "execution_count": 29,
   "metadata": {
    "ExecuteTime": {
     "end_time": "2016-06-06T14:42:51.135505",
     "start_time": "2016-06-06T14:42:50.927073"
    },
    "collapsed": false,
    "run_control": {
     "frozen": false,
     "read_only": false
    }
   },
   "outputs": [
    {
     "data": {
      "text/html": [
       "<div>\n",
       "<table border=\"1\" class=\"dataframe\">\n",
       "  <thead>\n",
       "    <tr style=\"text-align: right;\">\n",
       "      <th></th>\n",
       "      <th>--2</th>\n",
       "      <th>--1</th>\n",
       "      <th>-0</th>\n",
       "      <th>-1</th>\n",
       "      <th>-2</th>\n",
       "      <th>A-2</th>\n",
       "      <th>A-1</th>\n",
       "      <th>A0</th>\n",
       "      <th>A1</th>\n",
       "      <th>A2</th>\n",
       "      <th>...</th>\n",
       "      <th>y-2</th>\n",
       "      <th>y-1</th>\n",
       "      <th>y0</th>\n",
       "      <th>y1</th>\n",
       "      <th>y2</th>\n",
       "      <th>z-2</th>\n",
       "      <th>z-1</th>\n",
       "      <th>z0</th>\n",
       "      <th>z1</th>\n",
       "      <th>z2</th>\n",
       "    </tr>\n",
       "  </thead>\n",
       "  <tbody>\n",
       "    <tr>\n",
       "      <th>0</th>\n",
       "      <td>1</td>\n",
       "      <td>1</td>\n",
       "      <td>0</td>\n",
       "      <td>0</td>\n",
       "      <td>0</td>\n",
       "      <td>0</td>\n",
       "      <td>0</td>\n",
       "      <td>1</td>\n",
       "      <td>0</td>\n",
       "      <td>0</td>\n",
       "      <td>...</td>\n",
       "      <td>0</td>\n",
       "      <td>0</td>\n",
       "      <td>0</td>\n",
       "      <td>0</td>\n",
       "      <td>0</td>\n",
       "      <td>0</td>\n",
       "      <td>0</td>\n",
       "      <td>0</td>\n",
       "      <td>0</td>\n",
       "      <td>0</td>\n",
       "    </tr>\n",
       "    <tr>\n",
       "      <th>1</th>\n",
       "      <td>1</td>\n",
       "      <td>0</td>\n",
       "      <td>0</td>\n",
       "      <td>0</td>\n",
       "      <td>0</td>\n",
       "      <td>0</td>\n",
       "      <td>1</td>\n",
       "      <td>0</td>\n",
       "      <td>0</td>\n",
       "      <td>0</td>\n",
       "      <td>...</td>\n",
       "      <td>0</td>\n",
       "      <td>0</td>\n",
       "      <td>0</td>\n",
       "      <td>0</td>\n",
       "      <td>0</td>\n",
       "      <td>0</td>\n",
       "      <td>0</td>\n",
       "      <td>0</td>\n",
       "      <td>0</td>\n",
       "      <td>0</td>\n",
       "    </tr>\n",
       "    <tr>\n",
       "      <th>2</th>\n",
       "      <td>0</td>\n",
       "      <td>0</td>\n",
       "      <td>0</td>\n",
       "      <td>0</td>\n",
       "      <td>0</td>\n",
       "      <td>1</td>\n",
       "      <td>0</td>\n",
       "      <td>0</td>\n",
       "      <td>0</td>\n",
       "      <td>0</td>\n",
       "      <td>...</td>\n",
       "      <td>0</td>\n",
       "      <td>0</td>\n",
       "      <td>0</td>\n",
       "      <td>0</td>\n",
       "      <td>0</td>\n",
       "      <td>0</td>\n",
       "      <td>0</td>\n",
       "      <td>0</td>\n",
       "      <td>0</td>\n",
       "      <td>0</td>\n",
       "    </tr>\n",
       "    <tr>\n",
       "      <th>3</th>\n",
       "      <td>0</td>\n",
       "      <td>0</td>\n",
       "      <td>0</td>\n",
       "      <td>0</td>\n",
       "      <td>0</td>\n",
       "      <td>0</td>\n",
       "      <td>0</td>\n",
       "      <td>0</td>\n",
       "      <td>0</td>\n",
       "      <td>0</td>\n",
       "      <td>...</td>\n",
       "      <td>0</td>\n",
       "      <td>0</td>\n",
       "      <td>0</td>\n",
       "      <td>0</td>\n",
       "      <td>0</td>\n",
       "      <td>0</td>\n",
       "      <td>0</td>\n",
       "      <td>0</td>\n",
       "      <td>0</td>\n",
       "      <td>0</td>\n",
       "    </tr>\n",
       "    <tr>\n",
       "      <th>4</th>\n",
       "      <td>0</td>\n",
       "      <td>0</td>\n",
       "      <td>0</td>\n",
       "      <td>0</td>\n",
       "      <td>0</td>\n",
       "      <td>0</td>\n",
       "      <td>0</td>\n",
       "      <td>0</td>\n",
       "      <td>0</td>\n",
       "      <td>0</td>\n",
       "      <td>...</td>\n",
       "      <td>0</td>\n",
       "      <td>0</td>\n",
       "      <td>0</td>\n",
       "      <td>0</td>\n",
       "      <td>0</td>\n",
       "      <td>0</td>\n",
       "      <td>0</td>\n",
       "      <td>0</td>\n",
       "      <td>0</td>\n",
       "      <td>0</td>\n",
       "    </tr>\n",
       "    <tr>\n",
       "      <th>5</th>\n",
       "      <td>0</td>\n",
       "      <td>0</td>\n",
       "      <td>0</td>\n",
       "      <td>0</td>\n",
       "      <td>0</td>\n",
       "      <td>0</td>\n",
       "      <td>0</td>\n",
       "      <td>0</td>\n",
       "      <td>0</td>\n",
       "      <td>0</td>\n",
       "      <td>...</td>\n",
       "      <td>0</td>\n",
       "      <td>0</td>\n",
       "      <td>0</td>\n",
       "      <td>0</td>\n",
       "      <td>0</td>\n",
       "      <td>0</td>\n",
       "      <td>0</td>\n",
       "      <td>0</td>\n",
       "      <td>0</td>\n",
       "      <td>0</td>\n",
       "    </tr>\n",
       "    <tr>\n",
       "      <th>6</th>\n",
       "      <td>0</td>\n",
       "      <td>0</td>\n",
       "      <td>0</td>\n",
       "      <td>0</td>\n",
       "      <td>0</td>\n",
       "      <td>0</td>\n",
       "      <td>0</td>\n",
       "      <td>0</td>\n",
       "      <td>0</td>\n",
       "      <td>0</td>\n",
       "      <td>...</td>\n",
       "      <td>0</td>\n",
       "      <td>0</td>\n",
       "      <td>0</td>\n",
       "      <td>0</td>\n",
       "      <td>0</td>\n",
       "      <td>0</td>\n",
       "      <td>0</td>\n",
       "      <td>0</td>\n",
       "      <td>0</td>\n",
       "      <td>0</td>\n",
       "    </tr>\n",
       "    <tr>\n",
       "      <th>7</th>\n",
       "      <td>0</td>\n",
       "      <td>0</td>\n",
       "      <td>0</td>\n",
       "      <td>0</td>\n",
       "      <td>0</td>\n",
       "      <td>0</td>\n",
       "      <td>0</td>\n",
       "      <td>0</td>\n",
       "      <td>0</td>\n",
       "      <td>1</td>\n",
       "      <td>...</td>\n",
       "      <td>0</td>\n",
       "      <td>0</td>\n",
       "      <td>0</td>\n",
       "      <td>0</td>\n",
       "      <td>0</td>\n",
       "      <td>0</td>\n",
       "      <td>0</td>\n",
       "      <td>0</td>\n",
       "      <td>0</td>\n",
       "      <td>0</td>\n",
       "    </tr>\n",
       "    <tr>\n",
       "      <th>8</th>\n",
       "      <td>0</td>\n",
       "      <td>0</td>\n",
       "      <td>0</td>\n",
       "      <td>0</td>\n",
       "      <td>0</td>\n",
       "      <td>0</td>\n",
       "      <td>0</td>\n",
       "      <td>0</td>\n",
       "      <td>1</td>\n",
       "      <td>0</td>\n",
       "      <td>...</td>\n",
       "      <td>0</td>\n",
       "      <td>0</td>\n",
       "      <td>0</td>\n",
       "      <td>0</td>\n",
       "      <td>0</td>\n",
       "      <td>0</td>\n",
       "      <td>0</td>\n",
       "      <td>0</td>\n",
       "      <td>0</td>\n",
       "      <td>0</td>\n",
       "    </tr>\n",
       "    <tr>\n",
       "      <th>9</th>\n",
       "      <td>0</td>\n",
       "      <td>0</td>\n",
       "      <td>0</td>\n",
       "      <td>0</td>\n",
       "      <td>0</td>\n",
       "      <td>0</td>\n",
       "      <td>0</td>\n",
       "      <td>1</td>\n",
       "      <td>0</td>\n",
       "      <td>0</td>\n",
       "      <td>...</td>\n",
       "      <td>0</td>\n",
       "      <td>0</td>\n",
       "      <td>0</td>\n",
       "      <td>0</td>\n",
       "      <td>0</td>\n",
       "      <td>0</td>\n",
       "      <td>0</td>\n",
       "      <td>0</td>\n",
       "      <td>0</td>\n",
       "      <td>0</td>\n",
       "    </tr>\n",
       "  </tbody>\n",
       "</table>\n",
       "<p>10 rows × 240 columns</p>\n",
       "</div>"
      ],
      "text/plain": [
       "   --2  --1  -0  -1  -2  A-2  A-1  A0  A1  A2 ...  y-2  y-1  y0  y1  y2  z-2  \\\n",
       "0    1    1   0   0   0    0    0   1   0   0 ...    0    0   0   0   0    0   \n",
       "1    1    0   0   0   0    0    1   0   0   0 ...    0    0   0   0   0    0   \n",
       "2    0    0   0   0   0    1    0   0   0   0 ...    0    0   0   0   0    0   \n",
       "3    0    0   0   0   0    0    0   0   0   0 ...    0    0   0   0   0    0   \n",
       "4    0    0   0   0   0    0    0   0   0   0 ...    0    0   0   0   0    0   \n",
       "5    0    0   0   0   0    0    0   0   0   0 ...    0    0   0   0   0    0   \n",
       "6    0    0   0   0   0    0    0   0   0   0 ...    0    0   0   0   0    0   \n",
       "7    0    0   0   0   0    0    0   0   0   1 ...    0    0   0   0   0    0   \n",
       "8    0    0   0   0   0    0    0   0   1   0 ...    0    0   0   0   0    0   \n",
       "9    0    0   0   0   0    0    0   1   0   0 ...    0    0   0   0   0    0   \n",
       "\n",
       "   z-1  z0  z1  z2  \n",
       "0    0   0   0   0  \n",
       "1    0   0   0   0  \n",
       "2    0   0   0   0  \n",
       "3    0   0   0   0  \n",
       "4    0   0   0   0  \n",
       "5    0   0   0   0  \n",
       "6    0   0   0   0  \n",
       "7    0   0   0   0  \n",
       "8    0   0   0   0  \n",
       "9    0   0   0   0  \n",
       "\n",
       "[10 rows x 240 columns]"
      ]
     },
     "execution_count": 29,
     "metadata": {},
     "output_type": "execute_result"
    }
   ],
   "source": [
    "full_df = construct_verbose_df(data)\n",
    "full_df.head(10)"
   ]
  },
  {
   "cell_type": "markdown",
   "metadata": {},
   "source": [
    "## Now run over all files"
   ]
  },
  {
   "cell_type": "code",
   "execution_count": 30,
   "metadata": {
    "ExecuteTime": {
     "end_time": "2016-06-06T14:43:30.813783",
     "start_time": "2016-06-06T14:43:30.809072"
    },
    "collapsed": true,
    "run_control": {
     "frozen": false,
     "read_only": false
    }
   },
   "outputs": [],
   "source": [
    "from __future__ import print_function"
   ]
  },
  {
   "cell_type": "code",
   "execution_count": 31,
   "metadata": {
    "ExecuteTime": {
     "end_time": "2016-06-06T14:43:31.115250",
     "start_time": "2016-06-06T14:43:31.047399"
    },
    "collapsed": false,
    "run_control": {
     "frozen": false,
     "read_only": false
    }
   },
   "outputs": [
    {
     "data": {
      "text/plain": [
       "['(11)_1a3n.csv',\n",
       " '(11)_1b3n.csv',\n",
       " '(11)_1c3n.csv',\n",
       " '(11)_1d3n.csv',\n",
       " '(11)_1g3n.csv',\n",
       " '(11)_1h3n.csv',\n",
       " '(11)_1i3n.csv',\n",
       " '(11)_1j3n.csv',\n",
       " '(11)_1k3n.csv',\n",
       " '(11)_1l3n.csv']"
      ]
     },
     "execution_count": 31,
     "metadata": {},
     "output_type": "execute_result"
    }
   ],
   "source": [
    "topdir, _, files = next(os.walk('../positional_dssp_csv/'))\n",
    "files[:10]"
   ]
  },
  {
   "cell_type": "code",
   "execution_count": 32,
   "metadata": {
    "ExecuteTime": {
     "end_time": "2016-06-06T15:11:52.143017",
     "start_time": "2016-06-06T14:43:59.914412"
    },
    "collapsed": false,
    "run_control": {
     "frozen": false,
     "read_only": false
    }
   },
   "outputs": [
    {
     "name": "stdout",
     "output_type": "stream",
     "text": [
      "progress: 100%"
     ]
    }
   ],
   "source": [
    "n = len(files)\n",
    "\n",
    "for i, fi in enumerate(files):\n",
    "    # calculate fraction of total\n",
    "    per = int((i+1)*100.0/n)\n",
    "    \n",
    "    # print progress\n",
    "    print('\\rprogress: '+str(per)+'%', end='')\n",
    "    \n",
    "    # get window spacing\n",
    "    w = int(fi[fi.find('(') + 1: fi.find(')')])\n",
    "    \n",
    "    # get the data\n",
    "    df = pd.read_csv(topdir+fi)\n",
    "    ss = df['SS']\n",
    "    data = df.drop(['SS'], axis=1)\n",
    "    \n",
    "#     print('\\n')\n",
    "#     print(fi)\n",
    "#     print(data.values[:10])\n",
    "#     print('\\n')\n",
    "    \n",
    "    # make the df\n",
    "    full_df = construct_verbose_df(data, n=w)\n",
    "    \n",
    "    # write the df\n",
    "    fn = '../verbose_dssp_csv/' + fi\n",
    "    full_df.to_csv(fn, index=False)"
   ]
  },
  {
   "cell_type": "markdown",
   "metadata": {
    "run_control": {
     "frozen": false,
     "read_only": false
    }
   },
   "source": [
    " "
   ]
  },
  {
   "cell_type": "markdown",
   "metadata": {},
   "source": [
    " "
   ]
  }
 ],
 "metadata": {
  "kernelspec": {
   "display_name": "Python 2",
   "language": "python",
   "name": "python2"
  },
  "language_info": {
   "codemirror_mode": {
    "name": "ipython",
    "version": 2
   },
   "file_extension": ".py",
   "mimetype": "text/x-python",
   "name": "python",
   "nbconvert_exporter": "python",
   "pygments_lexer": "ipython2",
   "version": "2.7.11"
  }
 },
 "nbformat": 4,
 "nbformat_minor": 0
}
