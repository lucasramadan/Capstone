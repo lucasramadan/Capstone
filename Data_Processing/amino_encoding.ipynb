{
 "cells": [
  {
   "cell_type": "code",
   "execution_count": 1,
   "metadata": {
    "ExecuteTime": {
     "end_time": "2016-06-02T16:32:05.715117",
     "start_time": "2016-06-02T16:32:05.707675"
    },
    "collapsed": true,
    "run_control": {
     "frozen": false,
     "read_only": false
    }
   },
   "outputs": [],
   "source": [
    "import json"
   ]
  },
  {
   "cell_type": "code",
   "execution_count": 2,
   "metadata": {
    "ExecuteTime": {
     "end_time": "2016-06-02T16:32:10.634278",
     "start_time": "2016-06-02T16:32:10.619978"
    },
    "collapsed": true
   },
   "outputs": [],
   "source": [
    "aminos = ['-',\n",
    " 'A',\n",
    " 'C',\n",
    " 'D',\n",
    " 'E',\n",
    " 'F',\n",
    " 'G',\n",
    " 'H',\n",
    " 'I',\n",
    " 'K',\n",
    " 'L',\n",
    " 'M',\n",
    " 'N',\n",
    " 'P',\n",
    " 'Q',\n",
    " 'R',\n",
    " 'S',\n",
    " 'T',\n",
    " 'V',\n",
    " 'W',\n",
    " 'Y']"
   ]
  },
  {
   "cell_type": "code",
   "execution_count": 3,
   "metadata": {
    "ExecuteTime": {
     "end_time": "2016-06-02T16:32:17.539920",
     "start_time": "2016-06-02T16:32:17.508694"
    },
    "collapsed": false
   },
   "outputs": [
    {
     "data": {
      "text/plain": [
       "{'-': 0,\n",
       " 'A': 1,\n",
       " 'C': 2,\n",
       " 'D': 3,\n",
       " 'E': 4,\n",
       " 'F': 5,\n",
       " 'G': 6,\n",
       " 'H': 7,\n",
       " 'I': 8,\n",
       " 'K': 9,\n",
       " 'L': 10,\n",
       " 'M': 11,\n",
       " 'N': 12,\n",
       " 'P': 13,\n",
       " 'Q': 14,\n",
       " 'R': 15,\n",
       " 'S': 16,\n",
       " 'T': 17,\n",
       " 'V': 18,\n",
       " 'W': 19,\n",
       " 'Y': 20}"
      ]
     },
     "execution_count": 3,
     "metadata": {},
     "output_type": "execute_result"
    }
   ],
   "source": [
    "amino_encoding = {v:k for k, v in enumerate(aminos)}\n",
    "amino_encoding"
   ]
  },
  {
   "cell_type": "code",
   "execution_count": 4,
   "metadata": {
    "ExecuteTime": {
     "end_time": "2016-06-02T16:32:28.017501",
     "start_time": "2016-06-02T16:32:28.011268"
    },
    "collapsed": true
   },
   "outputs": [],
   "source": [
    "# save encoding as json\n",
    "with open('../amino_encoding.json', 'w') as out:\n",
    "    json.dump(amino_encoding, out)"
   ]
  },
  {
   "cell_type": "code",
   "execution_count": 5,
   "metadata": {
    "ExecuteTime": {
     "end_time": "2016-06-02T16:32:42.435134",
     "start_time": "2016-06-02T16:32:42.428697"
    },
    "collapsed": true
   },
   "outputs": [],
   "source": [
    "# make sure encoding is consistent\n",
    "with open('../amino_encoding.json', 'r') as f:\n",
    "    loaded = json.load(f)"
   ]
  },
  {
   "cell_type": "code",
   "execution_count": 6,
   "metadata": {
    "ExecuteTime": {
     "end_time": "2016-06-02T16:32:44.106207",
     "start_time": "2016-06-02T16:32:44.095404"
    },
    "collapsed": false
   },
   "outputs": [
    {
     "data": {
      "text/plain": [
       "{u'-': 0,\n",
       " u'A': 1,\n",
       " u'C': 2,\n",
       " u'D': 3,\n",
       " u'E': 4,\n",
       " u'F': 5,\n",
       " u'G': 6,\n",
       " u'H': 7,\n",
       " u'I': 8,\n",
       " u'K': 9,\n",
       " u'L': 10,\n",
       " u'M': 11,\n",
       " u'N': 12,\n",
       " u'P': 13,\n",
       " u'Q': 14,\n",
       " u'R': 15,\n",
       " u'S': 16,\n",
       " u'T': 17,\n",
       " u'V': 18,\n",
       " u'W': 19,\n",
       " u'Y': 20}"
      ]
     },
     "execution_count": 6,
     "metadata": {},
     "output_type": "execute_result"
    }
   ],
   "source": [
    "loaded"
   ]
  },
  {
   "cell_type": "markdown",
   "metadata": {},
   "source": [
    " "
   ]
  }
 ],
 "metadata": {
  "kernelspec": {
   "display_name": "Python 2",
   "language": "python",
   "name": "python2"
  },
  "language_info": {
   "codemirror_mode": {
    "name": "ipython",
    "version": 2
   },
   "file_extension": ".py",
   "mimetype": "text/x-python",
   "name": "python",
   "nbconvert_exporter": "python",
   "pygments_lexer": "ipython2",
   "version": "2.7.11"
  }
 },
 "nbformat": 4,
 "nbformat_minor": 0
}
