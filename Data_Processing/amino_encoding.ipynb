{
 "cells": [
  {
   "cell_type": "code",
   "execution_count": 3,
   "metadata": {
    "ExecuteTime": {
     "end_time": "2016-06-06T15:17:03.188840",
     "start_time": "2016-06-06T15:17:03.184983"
    },
    "collapsed": true,
    "run_control": {
     "frozen": false,
     "read_only": false
    }
   },
   "outputs": [],
   "source": [
    "import json\n",
    "import string"
   ]
  },
  {
   "cell_type": "code",
   "execution_count": 4,
   "metadata": {
    "ExecuteTime": {
     "end_time": "2016-06-06T15:17:05.217699",
     "start_time": "2016-06-06T15:17:05.210216"
    },
    "collapsed": true,
    "run_control": {
     "frozen": false,
     "read_only": false
    }
   },
   "outputs": [],
   "source": [
    "aminos = ['-', 'A', 'C', 'D', 'E', 'F', 'G', 'H', 'I', 'K', 'L', 'M', \n",
    "          'N', 'P', 'Q', 'R', 'S', 'T', 'V', 'W', 'X', 'Y']\n",
    "\n",
    "aminos = aminos + list(string.ascii_lowercase)"
   ]
  },
  {
   "cell_type": "code",
   "execution_count": 5,
   "metadata": {
    "ExecuteTime": {
     "end_time": "2016-06-06T15:17:05.677013",
     "start_time": "2016-06-06T15:17:05.649121"
    },
    "collapsed": false,
    "run_control": {
     "frozen": false,
     "read_only": false
    }
   },
   "outputs": [
    {
     "data": {
      "text/plain": [
       "{'-': 0,\n",
       " 'A': 1,\n",
       " 'C': 2,\n",
       " 'D': 3,\n",
       " 'E': 4,\n",
       " 'F': 5,\n",
       " 'G': 6,\n",
       " 'H': 7,\n",
       " 'I': 8,\n",
       " 'K': 9,\n",
       " 'L': 10,\n",
       " 'M': 11,\n",
       " 'N': 12,\n",
       " 'P': 13,\n",
       " 'Q': 14,\n",
       " 'R': 15,\n",
       " 'S': 16,\n",
       " 'T': 17,\n",
       " 'V': 18,\n",
       " 'W': 19,\n",
       " 'X': 20,\n",
       " 'Y': 21,\n",
       " 'a': 22,\n",
       " 'b': 23,\n",
       " 'c': 24,\n",
       " 'd': 25,\n",
       " 'e': 26,\n",
       " 'f': 27,\n",
       " 'g': 28,\n",
       " 'h': 29,\n",
       " 'i': 30,\n",
       " 'j': 31,\n",
       " 'k': 32,\n",
       " 'l': 33,\n",
       " 'm': 34,\n",
       " 'n': 35,\n",
       " 'o': 36,\n",
       " 'p': 37,\n",
       " 'q': 38,\n",
       " 'r': 39,\n",
       " 's': 40,\n",
       " 't': 41,\n",
       " 'u': 42,\n",
       " 'v': 43,\n",
       " 'w': 44,\n",
       " 'x': 45,\n",
       " 'y': 46,\n",
       " 'z': 47}"
      ]
     },
     "execution_count": 5,
     "metadata": {},
     "output_type": "execute_result"
    }
   ],
   "source": [
    "amino_encoding = {v:k for k, v in enumerate(aminos)}\n",
    "amino_encoding"
   ]
  },
  {
   "cell_type": "code",
   "execution_count": 6,
   "metadata": {
    "ExecuteTime": {
     "end_time": "2016-06-06T15:17:23.118290",
     "start_time": "2016-06-06T15:17:23.106651"
    },
    "collapsed": true,
    "run_control": {
     "frozen": false,
     "read_only": false
    }
   },
   "outputs": [],
   "source": [
    "# save encoding as json\n",
    "with open('../amino_encoding.json', 'w') as out:\n",
    "    json.dump(amino_encoding, out)"
   ]
  },
  {
   "cell_type": "code",
   "execution_count": 7,
   "metadata": {
    "ExecuteTime": {
     "end_time": "2016-06-06T15:17:23.673337",
     "start_time": "2016-06-06T15:17:23.666225"
    },
    "collapsed": true,
    "run_control": {
     "frozen": false,
     "read_only": false
    }
   },
   "outputs": [],
   "source": [
    "# make sure encoding is consistent\n",
    "with open('../amino_encoding.json', 'r') as f:\n",
    "    loaded = json.load(f)"
   ]
  },
  {
   "cell_type": "code",
   "execution_count": 8,
   "metadata": {
    "ExecuteTime": {
     "end_time": "2016-06-06T15:17:24.113615",
     "start_time": "2016-06-06T15:17:24.097392"
    },
    "collapsed": false,
    "run_control": {
     "frozen": false,
     "read_only": false
    }
   },
   "outputs": [
    {
     "data": {
      "text/plain": [
       "{u'-': 0,\n",
       " u'A': 1,\n",
       " u'C': 2,\n",
       " u'D': 3,\n",
       " u'E': 4,\n",
       " u'F': 5,\n",
       " u'G': 6,\n",
       " u'H': 7,\n",
       " u'I': 8,\n",
       " u'K': 9,\n",
       " u'L': 10,\n",
       " u'M': 11,\n",
       " u'N': 12,\n",
       " u'P': 13,\n",
       " u'Q': 14,\n",
       " u'R': 15,\n",
       " u'S': 16,\n",
       " u'T': 17,\n",
       " u'V': 18,\n",
       " u'W': 19,\n",
       " u'X': 20,\n",
       " u'Y': 21,\n",
       " u'a': 22,\n",
       " u'b': 23,\n",
       " u'c': 24,\n",
       " u'd': 25,\n",
       " u'e': 26,\n",
       " u'f': 27,\n",
       " u'g': 28,\n",
       " u'h': 29,\n",
       " u'i': 30,\n",
       " u'j': 31,\n",
       " u'k': 32,\n",
       " u'l': 33,\n",
       " u'm': 34,\n",
       " u'n': 35,\n",
       " u'o': 36,\n",
       " u'p': 37,\n",
       " u'q': 38,\n",
       " u'r': 39,\n",
       " u's': 40,\n",
       " u't': 41,\n",
       " u'u': 42,\n",
       " u'v': 43,\n",
       " u'w': 44,\n",
       " u'x': 45,\n",
       " u'y': 46,\n",
       " u'z': 47}"
      ]
     },
     "execution_count": 8,
     "metadata": {},
     "output_type": "execute_result"
    }
   ],
   "source": [
    "loaded"
   ]
  },
  {
   "cell_type": "markdown",
   "metadata": {},
   "source": [
    " "
   ]
  }
 ],
 "metadata": {
  "kernelspec": {
   "display_name": "Python 2",
   "language": "python",
   "name": "python2"
  },
  "language_info": {
   "codemirror_mode": {
    "name": "ipython",
    "version": 2
   },
   "file_extension": ".py",
   "mimetype": "text/x-python",
   "name": "python",
   "nbconvert_exporter": "python",
   "pygments_lexer": "ipython2",
   "version": "2.7.11"
  }
 },
 "nbformat": 4,
 "nbformat_minor": 0
}
