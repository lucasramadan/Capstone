{
 "cells": [
  {
   "cell_type": "markdown",
   "metadata": {},
   "source": [
    "### Making object to handle all processing of dssp files"
   ]
  },
  {
   "cell_type": "code",
   "execution_count": 13,
   "metadata": {
    "ExecuteTime": {
     "end_time": "2016-06-06T11:37:47.869532",
     "start_time": "2016-06-06T11:37:47.863610"
    },
    "collapsed": true
   },
   "outputs": [],
   "source": [
    "from __future__ import print_function\n",
    "import pandas as pd\n",
    "import numpy as np\n",
    "import os"
   ]
  },
  {
   "cell_type": "code",
   "execution_count": 18,
   "metadata": {
    "ExecuteTime": {
     "end_time": "2016-06-06T11:38:50.814264",
     "start_time": "2016-06-06T11:38:50.600537"
    },
    "code_folding": [
     21,
     64
    ],
    "collapsed": false,
    "run_control": {
     "frozen": false,
     "read_only": false
    }
   },
   "outputs": [],
   "source": [
    "class DSSP(object):\n",
    "    def __init__(self):\n",
    "        \n",
    "        self.aminos = ['-', 'A', 'C', 'D', 'E', 'F', 'G', 'H', 'I', 'K', \n",
    "                       'L', 'M', 'N', 'P', 'Q', 'R', 'S', 'T', 'V', 'W', 'Y']\n",
    "        \n",
    "        self.amino_encoding = {v:k for k, v in enumerate(self.aminos)}\n",
    "            \n",
    "    def convert_dssp(self, input_dir, output_dir):\n",
    "        \"\"\"\n",
    "        INPUT: Directory name of .dssp files (string)\n",
    "               Directory name for output csv files (string)\n",
    "        \n",
    "        OUTPUT: None\n",
    "        \n",
    "        This method will run over all of the files in input_dir, \n",
    "        and convert them to .csv files, placed in output_dir\n",
    "        \n",
    "        Contains helper methods row_splitter and make_header_row\n",
    "        \"\"\"\n",
    "        \n",
    "        def row_splitter(l):\n",
    "            ind = [(0, 5),     # known as 'DSSP RESIDUE #'\n",
    "                   (5, 10),    # known as 'PDB RESIDUE #'\n",
    "                   (10, 12),   # known as 'CHAIN ID'\n",
    "                   (12, 14),   # known as 'AA'\n",
    "                   (14, 17),   # known as 'SECONDARY STRUCTURE'\n",
    "                   (17, 19),   # known as '3-HELIX'\n",
    "                   (19, 20),   # known as '4-HELIX'\n",
    "                   (20, 21),   # known as '5-HELIX'\n",
    "                   (21, 22),   # known as 'BEND'\n",
    "                   (22, 23),   # known as 'CHIRALITY'\n",
    "                   (23, 24),   # known as 'BETA BRIDGE 1'\n",
    "                   (24, 25),   # known as 'BETA BRIDGE 2'\n",
    "                   (25, 29),   # known as 'BP1'\n",
    "                   (29, 33),   # known as 'BP2'\n",
    "                   (33, 34),   # known as 'BSL'\n",
    "                   (34, 38),   # known as 'ACC'\n",
    "                   (38, 45),   # known as N-H-->O BF1 I\n",
    "                   (46, 50),   # known as N-H-->O BF1 E\n",
    "                   (50, 56),   # known as O-->H-N BF1 I\n",
    "                   (57, 61),   # known as O-->H-N BF1 E\n",
    "                   (61, 67),   # known as N-H-->O BF2 I\n",
    "                   (68, 72),   # known as N-H-->O BF2 E\n",
    "                   (72, 78),   # known as O-->H-N BF2 I \n",
    "                   (79, 83),   # known as O-->H-N BF2 E\n",
    "                   (83, 91),   # known as TCO\n",
    "                   (91, 97),   # known as KAPPA\n",
    "                   (97, 103),  # known as ALPHA\n",
    "                   (103, 109), # known as PHI\n",
    "                   (109, 115), # known as PSI\n",
    "                   (115, 122), # known as X-CA\n",
    "                   (122, 129), # known as Y-CA\n",
    "                   (129, 136)] # known as Z-CA\n",
    "\n",
    "            row = []\n",
    "\n",
    "            for s, e in ind: \n",
    "                entry = l[s:e]\n",
    "                entry = entry.replace(' ', '')\n",
    "                row.append(entry)\n",
    "\n",
    "            return row\n",
    "        \n",
    "        def make_header_row():\n",
    "            row = []\n",
    "            \n",
    "            row.append('DSSP') # known as 'DSSP RESIDUE #'\n",
    "            row.append('PDB') # known as 'PDB RESIDUE #'\n",
    "            row.append('CHAIN') # known as 'CHAIN ID'\n",
    "            row.append('AA') # known as 'AA'\n",
    "            row.append('SS') # known as 'SECONDARY STRUCTURE'\n",
    "            row.append('3H') # known as '3-HELIX'\n",
    "            row.append('4H') # known as '4-HELIX'\n",
    "            row.append('5H') # known as '5-HELIX'\n",
    "            row.append('BEND') # known as 'BEND'\n",
    "            row.append('CHIR') # known as 'CHIRALITY'\n",
    "            row.append('BB1') # known as 'BETA BRIDGE 1'\n",
    "            row.append('BB2') # known as 'BETA BRIDGE 2'\n",
    "            row.append('BP1') # known as 'BP1'\n",
    "            row.append('BP2') # known as 'BP2'\n",
    "            row.append('BSL') # known as 'BETA SHEET LABEL'\n",
    "            row.append('ACC') # known as 'ACC'\n",
    "            row.append('NO1I') # known as N-H-->O BF1 I\n",
    "            row.append('NO1E') # known as N-H-->O BF1 E\n",
    "            row.append('ON1I') # known as O-->H-N BF1 I\n",
    "            row.append('ON1E') # known as O-->H-N BF1 E\n",
    "            row.append('NO2I') # known as N-H-->O BF2 I\n",
    "            row.append('NO2E') # known as N-H-->O BF2 E\n",
    "            row.append('ON2I') # known as O-->H-N BF2 I\n",
    "            row.append('ON2E') # known as O-->H-N BF2 E\n",
    "            row.append('TCO') # known as TCO\n",
    "            row.append('KAPPA') # known as KAPPA\n",
    "            row.append('ALPHA') # known as ALPHA\n",
    "            row.append('PHI') # known as PHI\n",
    "            row.append('PSI') # known as PSI\n",
    "            row.append('X-CA') # known as X-CA\n",
    "            row.append('Y-CA') # known as Y-CA\n",
    "            row.append('Z-CA') # known as Z-CA \n",
    "            \n",
    "            return row\n",
    "        \n",
    "        topdir, _, files = next(os.walk(input_dir))\n",
    "        \n",
    "        header = make_header_row()\n",
    "\n",
    "        for i, fi in enumerate(files):\n",
    "            # show progress\n",
    "            print('\\r On protein #'+str(i), end='')\n",
    "            \n",
    "            # open the .dssp file\n",
    "            with open(topdir+fi) as f:\n",
    "                data = f.read()\n",
    "            \n",
    "            # find the sequence section\n",
    "            protein = data[data.find('#'):].split('\\n')\n",
    "            \n",
    "            # go through and get each column of the row of data\n",
    "            # skip the first row (old header) and last row (artifact '\\n')\n",
    "            clean_protein = [row_splitter(r) for r in protein[1:-1]]\n",
    "            \n",
    "            # construct the dataframe\n",
    "            protein_df = pd.DataFrame(clean_protein, \n",
    "                                      columns=header, \n",
    "                                      index=range(1, len(clean_protein)+1))\n",
    "           \n",
    "            # construct filename\n",
    "            fn = output_dir + fi[:fi.find('.')] + '.csv'\n",
    "            \n",
    "            # write to csv\n",
    "            protein_df.to_csv(fn, index=False)\n",
    "            \n",
    "    def "
   ]
  },
  {
   "cell_type": "code",
   "execution_count": 19,
   "metadata": {
    "ExecuteTime": {
     "end_time": "2016-06-06T11:38:51.515480",
     "start_time": "2016-06-06T11:38:51.511390"
    },
    "collapsed": false
   },
   "outputs": [],
   "source": [
    "conv = DSSP()"
   ]
  },
  {
   "cell_type": "code",
   "execution_count": 20,
   "metadata": {
    "ExecuteTime": {
     "end_time": "2016-06-06T11:39:11.397260",
     "start_time": "2016-06-06T11:38:51.761261"
    },
    "collapsed": false
   },
   "outputs": [
    {
     "name": "stdout",
     "output_type": "stream",
     "text": [
      " On protein #346"
     ]
    }
   ],
   "source": [
    "conv.convert_dssp('../dssp.data/', 'None')"
   ]
  },
  {
   "cell_type": "code",
   "execution_count": null,
   "metadata": {
    "collapsed": true
   },
   "outputs": [],
   "source": []
  }
 ],
 "metadata": {
  "kernelspec": {
   "display_name": "Python 2",
   "language": "python",
   "name": "python2"
  },
  "language_info": {
   "codemirror_mode": {
    "name": "ipython",
    "version": 2
   },
   "file_extension": ".py",
   "mimetype": "text/x-python",
   "name": "python",
   "nbconvert_exporter": "python",
   "pygments_lexer": "ipython2",
   "version": "2.7.11"
  }
 },
 "nbformat": 4,
 "nbformat_minor": 0
}
