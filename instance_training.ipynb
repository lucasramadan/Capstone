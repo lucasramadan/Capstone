{
 "cells": [
  {
   "cell_type": "markdown",
   "metadata": {},
   "source": [
    "### Imports"
   ]
  },
  {
   "cell_type": "code",
   "execution_count": 1,
   "metadata": {
    "collapsed": false
   },
   "outputs": [
    {
     "name": "stderr",
     "output_type": "stream",
     "text": [
      "Using Theano backend.\n"
     ]
    }
   ],
   "source": [
    "# general imports\n",
    "import pandas as pd\n",
    "import numpy as np\n",
    "from sklearn.cross_validation import train_test_split\n",
    "from collections import Counter\n",
    "\n",
    "# Keras specific imports\n",
    "from keras.models import Sequential\n",
    "from keras.layers.core import Dense, Activation, Dropout\n",
    "from keras.optimizers import SGD, Adadelta, Adagrad, Adam\n",
    "from keras.layers.convolutional import Convolution2D\n",
    "from keras.layers.normalization import BatchNormalization\n",
    "from keras.layers.advanced_activations import SReLU, ELU"
   ]
  },
  {
   "cell_type": "markdown",
   "metadata": {},
   "source": [
    "### Data"
   ]
  },
  {
   "cell_type": "code",
   "execution_count": 2,
   "metadata": {
    "collapsed": false
   },
   "outputs": [
    {
     "data": {
      "text/html": [
       "<div>\n",
       "<table border=\"1\" class=\"dataframe\">\n",
       "  <thead>\n",
       "    <tr style=\"text-align: right;\">\n",
       "      <th></th>\n",
       "      <th>--9</th>\n",
       "      <th>--8</th>\n",
       "      <th>--7</th>\n",
       "      <th>--6</th>\n",
       "      <th>--5</th>\n",
       "      <th>--4</th>\n",
       "      <th>--3</th>\n",
       "      <th>--2</th>\n",
       "      <th>--1</th>\n",
       "      <th>-0</th>\n",
       "      <th>...</th>\n",
       "      <th>z0</th>\n",
       "      <th>z1</th>\n",
       "      <th>z2</th>\n",
       "      <th>z3</th>\n",
       "      <th>z4</th>\n",
       "      <th>z5</th>\n",
       "      <th>z6</th>\n",
       "      <th>z7</th>\n",
       "      <th>z8</th>\n",
       "      <th>z9</th>\n",
       "    </tr>\n",
       "  </thead>\n",
       "  <tbody>\n",
       "    <tr>\n",
       "      <th>0</th>\n",
       "      <td>1</td>\n",
       "      <td>1</td>\n",
       "      <td>1</td>\n",
       "      <td>1</td>\n",
       "      <td>1</td>\n",
       "      <td>1</td>\n",
       "      <td>1</td>\n",
       "      <td>1</td>\n",
       "      <td>1</td>\n",
       "      <td>0</td>\n",
       "      <td>...</td>\n",
       "      <td>0</td>\n",
       "      <td>0</td>\n",
       "      <td>0</td>\n",
       "      <td>0</td>\n",
       "      <td>0</td>\n",
       "      <td>0</td>\n",
       "      <td>0</td>\n",
       "      <td>0</td>\n",
       "      <td>0</td>\n",
       "      <td>0</td>\n",
       "    </tr>\n",
       "    <tr>\n",
       "      <th>1</th>\n",
       "      <td>1</td>\n",
       "      <td>1</td>\n",
       "      <td>1</td>\n",
       "      <td>1</td>\n",
       "      <td>1</td>\n",
       "      <td>1</td>\n",
       "      <td>1</td>\n",
       "      <td>1</td>\n",
       "      <td>0</td>\n",
       "      <td>0</td>\n",
       "      <td>...</td>\n",
       "      <td>0</td>\n",
       "      <td>0</td>\n",
       "      <td>0</td>\n",
       "      <td>0</td>\n",
       "      <td>0</td>\n",
       "      <td>0</td>\n",
       "      <td>0</td>\n",
       "      <td>0</td>\n",
       "      <td>0</td>\n",
       "      <td>0</td>\n",
       "    </tr>\n",
       "    <tr>\n",
       "      <th>2</th>\n",
       "      <td>1</td>\n",
       "      <td>1</td>\n",
       "      <td>1</td>\n",
       "      <td>1</td>\n",
       "      <td>1</td>\n",
       "      <td>1</td>\n",
       "      <td>1</td>\n",
       "      <td>0</td>\n",
       "      <td>0</td>\n",
       "      <td>0</td>\n",
       "      <td>...</td>\n",
       "      <td>0</td>\n",
       "      <td>0</td>\n",
       "      <td>0</td>\n",
       "      <td>0</td>\n",
       "      <td>0</td>\n",
       "      <td>0</td>\n",
       "      <td>0</td>\n",
       "      <td>0</td>\n",
       "      <td>0</td>\n",
       "      <td>0</td>\n",
       "    </tr>\n",
       "    <tr>\n",
       "      <th>3</th>\n",
       "      <td>1</td>\n",
       "      <td>1</td>\n",
       "      <td>1</td>\n",
       "      <td>1</td>\n",
       "      <td>1</td>\n",
       "      <td>1</td>\n",
       "      <td>0</td>\n",
       "      <td>0</td>\n",
       "      <td>0</td>\n",
       "      <td>0</td>\n",
       "      <td>...</td>\n",
       "      <td>0</td>\n",
       "      <td>0</td>\n",
       "      <td>0</td>\n",
       "      <td>0</td>\n",
       "      <td>0</td>\n",
       "      <td>0</td>\n",
       "      <td>0</td>\n",
       "      <td>0</td>\n",
       "      <td>0</td>\n",
       "      <td>0</td>\n",
       "    </tr>\n",
       "    <tr>\n",
       "      <th>4</th>\n",
       "      <td>1</td>\n",
       "      <td>1</td>\n",
       "      <td>1</td>\n",
       "      <td>1</td>\n",
       "      <td>1</td>\n",
       "      <td>0</td>\n",
       "      <td>0</td>\n",
       "      <td>0</td>\n",
       "      <td>0</td>\n",
       "      <td>0</td>\n",
       "      <td>...</td>\n",
       "      <td>0</td>\n",
       "      <td>0</td>\n",
       "      <td>0</td>\n",
       "      <td>0</td>\n",
       "      <td>0</td>\n",
       "      <td>0</td>\n",
       "      <td>0</td>\n",
       "      <td>0</td>\n",
       "      <td>0</td>\n",
       "      <td>0</td>\n",
       "    </tr>\n",
       "  </tbody>\n",
       "</table>\n",
       "<p>5 rows × 912 columns</p>\n",
       "</div>"
      ],
      "text/plain": [
       "   --9  --8  --7  --6  --5  --4  --3  --2  --1  -0 ...  z0  z1  z2  z3  z4  \\\n",
       "0    1    1    1    1    1    1    1    1    1   0 ...   0   0   0   0   0   \n",
       "1    1    1    1    1    1    1    1    1    0   0 ...   0   0   0   0   0   \n",
       "2    1    1    1    1    1    1    1    0    0   0 ...   0   0   0   0   0   \n",
       "3    1    1    1    1    1    1    0    0    0   0 ...   0   0   0   0   0   \n",
       "4    1    1    1    1    1    0    0    0    0   0 ...   0   0   0   0   0   \n",
       "\n",
       "   z5  z6  z7  z8  z9  \n",
       "0   0   0   0   0   0  \n",
       "1   0   0   0   0   0  \n",
       "2   0   0   0   0   0  \n",
       "3   0   0   0   0   0  \n",
       "4   0   0   0   0   0  \n",
       "\n",
       "[5 rows x 912 columns]"
      ]
     },
     "execution_count": 2,
     "metadata": {},
     "output_type": "execute_result"
    }
   ],
   "source": [
    "data = pd.read_csv('(19)_combined_verbose.csv')\n",
    "data.head()"
   ]
  },
  {
   "cell_type": "code",
   "execution_count": 3,
   "metadata": {
    "collapsed": false
   },
   "outputs": [
    {
     "data": {
      "text/html": [
       "<div>\n",
       "<table border=\"1\" class=\"dataframe\">\n",
       "  <thead>\n",
       "    <tr style=\"text-align: right;\">\n",
       "      <th></th>\n",
       "      <th>B</th>\n",
       "      <th>C</th>\n",
       "      <th>E</th>\n",
       "      <th>G</th>\n",
       "      <th>H</th>\n",
       "      <th>I</th>\n",
       "      <th>S</th>\n",
       "      <th>T</th>\n",
       "    </tr>\n",
       "  </thead>\n",
       "  <tbody>\n",
       "    <tr>\n",
       "      <th>0</th>\n",
       "      <td>0</td>\n",
       "      <td>1</td>\n",
       "      <td>0</td>\n",
       "      <td>0</td>\n",
       "      <td>0</td>\n",
       "      <td>0</td>\n",
       "      <td>0</td>\n",
       "      <td>0</td>\n",
       "    </tr>\n",
       "    <tr>\n",
       "      <th>1</th>\n",
       "      <td>0</td>\n",
       "      <td>1</td>\n",
       "      <td>0</td>\n",
       "      <td>0</td>\n",
       "      <td>0</td>\n",
       "      <td>0</td>\n",
       "      <td>0</td>\n",
       "      <td>0</td>\n",
       "    </tr>\n",
       "    <tr>\n",
       "      <th>2</th>\n",
       "      <td>0</td>\n",
       "      <td>1</td>\n",
       "      <td>0</td>\n",
       "      <td>0</td>\n",
       "      <td>0</td>\n",
       "      <td>0</td>\n",
       "      <td>0</td>\n",
       "      <td>0</td>\n",
       "    </tr>\n",
       "    <tr>\n",
       "      <th>3</th>\n",
       "      <td>0</td>\n",
       "      <td>0</td>\n",
       "      <td>0</td>\n",
       "      <td>0</td>\n",
       "      <td>1</td>\n",
       "      <td>0</td>\n",
       "      <td>0</td>\n",
       "      <td>0</td>\n",
       "    </tr>\n",
       "    <tr>\n",
       "      <th>4</th>\n",
       "      <td>0</td>\n",
       "      <td>0</td>\n",
       "      <td>0</td>\n",
       "      <td>0</td>\n",
       "      <td>1</td>\n",
       "      <td>0</td>\n",
       "      <td>0</td>\n",
       "      <td>0</td>\n",
       "    </tr>\n",
       "  </tbody>\n",
       "</table>\n",
       "</div>"
      ],
      "text/plain": [
       "   B  C  E  G  H  I  S  T\n",
       "0  0  1  0  0  0  0  0  0\n",
       "1  0  1  0  0  0  0  0  0\n",
       "2  0  1  0  0  0  0  0  0\n",
       "3  0  0  0  0  1  0  0  0\n",
       "4  0  0  0  0  1  0  0  0"
      ]
     },
     "execution_count": 3,
     "metadata": {},
     "output_type": "execute_result"
    }
   ],
   "source": [
    "labels = pd.read_csv('one_hot_labels.csv')\n",
    "labels.head()"
   ]
  },
  {
   "cell_type": "code",
   "execution_count": 4,
   "metadata": {
    "collapsed": false
   },
   "outputs": [],
   "source": [
    "# remove 'C' labels for hold-out validation set\n",
    "ind = [i for i, l in enumerate(labels['C'].values) if l==1]\n",
    "\n",
    "holdout_data = data.copy().values[ind]\n",
    "holdout_labels = labels.copy().values[ind] # these aren't really labels "
   ]
  },
  {
   "cell_type": "code",
   "execution_count": 5,
   "metadata": {
    "collapsed": false
   },
   "outputs": [
    {
     "name": "stdout",
     "output_type": "stream",
     "text": [
      "(268675, 912) (268675, 8)\n",
      "(215217, 912) (215217, 8)\n"
     ]
    }
   ],
   "source": [
    "print data.shape, labels.shape\n",
    "data.drop(ind, inplace=True)\n",
    "labels.drop(ind, inplace=True)\n",
    "print data.shape, labels.shape"
   ]
  },
  {
   "cell_type": "code",
   "execution_count": 14,
   "metadata": {
    "collapsed": true
   },
   "outputs": [],
   "source": [
    "# now drop the 'C' class\n",
    "labels.drop('C', axis=1, inplace=True)"
   ]
  },
  {
   "cell_type": "markdown",
   "metadata": {},
   "source": [
    "### Validation Splits"
   ]
  },
  {
   "cell_type": "code",
   "execution_count": 15,
   "metadata": {
    "collapsed": true
   },
   "outputs": [],
   "source": [
    "X_train, X_test, y_train, y_test = train_test_split(data.values, labels.values)"
   ]
  },
  {
   "cell_type": "code",
   "execution_count": 16,
   "metadata": {
    "collapsed": false
   },
   "outputs": [
    {
     "name": "stdout",
     "output_type": "stream",
     "text": [
      "912 7\n"
     ]
    }
   ],
   "source": [
    "# dimensions for models\n",
    "n_input = data.shape[1]\n",
    "n_output = labels.shape[1]\n",
    "\n",
    "print n_input, n_output"
   ]
  },
  {
   "cell_type": "markdown",
   "metadata": {},
   "source": [
    "### Simple Feed-Forward"
   ]
  },
  {
   "cell_type": "code",
   "execution_count": 33,
   "metadata": {
    "collapsed": true
   },
   "outputs": [],
   "source": [
    "model_1L = Sequential()\n",
    "\n",
    "# 1st layer\n",
    "model_1L.add(Dense(output_dim=500, input_dim=n_input))\n",
    "model_1L.add(Activation('sigmoid'))\n",
    "\n",
    "# 2nd layer\n",
    "model_1L.add(Dense(input_dim=500, output_dim=n_output))\n",
    "model_1L.add(Activation(\"softmax\"))"
   ]
  },
  {
   "cell_type": "code",
   "execution_count": 34,
   "metadata": {
    "collapsed": true
   },
   "outputs": [],
   "source": [
    "model_1L.compile(optimizer='rmsprop', loss='categorical_crossentropy', metrics=['accuracy'])"
   ]
  },
  {
   "cell_type": "code",
   "execution_count": 35,
   "metadata": {
    "collapsed": false
   },
   "outputs": [
    {
     "name": "stdout",
     "output_type": "stream",
     "text": [
      "Epoch 1/5\n",
      "161412/161412 [==============================] - 72s - loss: 1.2131 - acc: 0.5552    \n",
      "Epoch 2/5\n",
      "161412/161412 [==============================] - 89s - loss: 1.1762 - acc: 0.5663    \n",
      "Epoch 3/5\n",
      "161412/161412 [==============================] - 89s - loss: 1.1450 - acc: 0.5775    \n",
      "Epoch 4/5\n",
      "161412/161412 [==============================] - 92s - loss: 1.0907 - acc: 0.6020    \n",
      "Epoch 5/5\n",
      "161412/161412 [==============================] - 91s - loss: 1.0144 - acc: 0.6377    \n"
     ]
    },
    {
     "data": {
      "text/plain": [
       "<keras.callbacks.History at 0x7f9339bf8c10>"
      ]
     },
     "execution_count": 35,
     "metadata": {},
     "output_type": "execute_result"
    }
   ],
   "source": [
    "model_1L.fit(X_train, y_train, validation_split=(X_test, y_test), nb_epoch=5)"
   ]
  },
  {
   "cell_type": "code",
   "execution_count": 36,
   "metadata": {
    "collapsed": false
   },
   "outputs": [
    {
     "name": "stdout",
     "output_type": "stream",
     "text": [
      "____________________________________________________________________________________________________\n",
      "Layer (type)                     Output Shape          Param #     Connected to                     \n",
      "====================================================================================================\n",
      "dense_15 (Dense)                 (None, 500)           456500      dense_input_6[0][0]              \n",
      "____________________________________________________________________________________________________\n",
      "activation_6 (Activation)        (None, 500)           0           dense_15[0][0]                   \n",
      "____________________________________________________________________________________________________\n",
      "dense_16 (Dense)                 (None, 7)             3507        activation_6[0][0]               \n",
      "____________________________________________________________________________________________________\n",
      "activation_7 (Activation)        (None, 7)             0           dense_16[0][0]                   \n",
      "====================================================================================================\n",
      "Total params: 460007\n",
      "____________________________________________________________________________________________________\n"
     ]
    }
   ],
   "source": [
    "model_1L.summary()"
   ]
  },
  {
   "cell_type": "markdown",
   "metadata": {},
   "source": [
    "#### Two Layer"
   ]
  },
  {
   "cell_type": "code",
   "execution_count": 8,
   "metadata": {
    "collapsed": false
   },
   "outputs": [],
   "source": [
    "model_2L = Sequential()\n",
    "\n",
    "# first layer, 500 nodes, BatchNormalized, ELU and Dropout\n",
    "model_2L.add(Dense(output_dim=500, input_dim=n_input))\n",
    "model_2L.add(BatchNormalization())\n",
    "model_2L.add(ELU(alpha=0.9))\n",
    "model_2L.add(Dropout(0.5))\n",
    "\n",
    "# second layer, 6 nodes, BatchNormalized, SoftMax\n",
    "model_2L.add(Dense(input_dim=500, output_dim=n_output))\n",
    "model_2L.add(BatchNormalization())\n",
    "model_2L.add(Activation(\"softmax\"))"
   ]
  },
  {
   "cell_type": "code",
   "execution_count": 9,
   "metadata": {
    "collapsed": false
   },
   "outputs": [],
   "source": [
    "model_2L.compile(optimizer='rmsprop', loss='categorical_crossentropy', metrics=['accuracy'])"
   ]
  },
  {
   "cell_type": "code",
   "execution_count": 10,
   "metadata": {
    "collapsed": false
   },
   "outputs": [
    {
     "name": "stdout",
     "output_type": "stream",
     "text": [
      "Epoch 1/5\n",
      "161412/161412 [==============================] - 84s - loss: 1.2625 - acc: 0.5514    \n",
      "Epoch 2/5\n",
      "161412/161412 [==============================] - 101s - loss: 1.1485 - acc: 0.5788   \n",
      "Epoch 3/5\n",
      "161412/161412 [==============================] - 103s - loss: 1.1006 - acc: 0.6012   \n",
      "Epoch 4/5\n",
      "161412/161412 [==============================] - 101s - loss: 1.0464 - acc: 0.6269   \n",
      "Epoch 5/5\n",
      "161412/161412 [==============================] - 102s - loss: 0.9947 - acc: 0.6508   \n"
     ]
    },
    {
     "data": {
      "text/plain": [
       "<keras.callbacks.History at 0x7f92ed32ac90>"
      ]
     },
     "execution_count": 10,
     "metadata": {},
     "output_type": "execute_result"
    }
   ],
   "source": [
    "model_2L.fit(X_train, y_train, validation_split=(X_test, y_test), nb_epoch=5)"
   ]
  },
  {
   "cell_type": "code",
   "execution_count": 13,
   "metadata": {
    "collapsed": false
   },
   "outputs": [
    {
     "name": "stdout",
     "output_type": "stream",
     "text": [
      "____________________________________________________________________________________________________\n",
      "Layer (type)                     Output Shape          Param #     Connected to                     \n",
      "====================================================================================================\n",
      "dense_1 (Dense)                  (None, 500)           456500      dense_input_1[0][0]              \n",
      "____________________________________________________________________________________________________\n",
      "batchnormalization_1 (BatchNormal(None, 500)           1000        dense_1[0][0]                    \n",
      "____________________________________________________________________________________________________\n",
      "elu_1 (ELU)                      (None, 500)           0           batchnormalization_1[0][0]       \n",
      "____________________________________________________________________________________________________\n",
      "dropout_1 (Dropout)              (None, 500)           0           elu_1[0][0]                      \n",
      "____________________________________________________________________________________________________\n",
      "dense_2 (Dense)                  (None, 8)             4008        dropout_1[0][0]                  \n",
      "____________________________________________________________________________________________________\n",
      "batchnormalization_2 (BatchNormal(None, 8)             16          dense_2[0][0]                    \n",
      "____________________________________________________________________________________________________\n",
      "activation_1 (Activation)        (None, 8)             0           batchnormalization_2[0][0]       \n",
      "====================================================================================================\n",
      "Total params: 461524\n",
      "____________________________________________________________________________________________________\n"
     ]
    }
   ],
   "source": [
    "model_2L.summary()"
   ]
  },
  {
   "cell_type": "markdown",
   "metadata": {},
   "source": [
    "#### Three Layer"
   ]
  },
  {
   "cell_type": "code",
   "execution_count": 29,
   "metadata": {
    "collapsed": true
   },
   "outputs": [],
   "source": [
    "model_3L = Sequential()\n",
    "\n",
    "# first layer, 200 nodes, BatchNormalized, ELU and Dropout\n",
    "model_3L.add(Dense(input_dim=n_input, output_dim=1000))\n",
    "model_3L.add(BatchNormalization())\n",
    "model_3L.add(ELU(alpha=0.9))\n",
    "model_3L.add(Dropout(0.5))\n",
    "\n",
    "# second layer, 200 nodes, BatchNormalized, ELU and Dropout\n",
    "model_3L.add(Dense(input_dim=1000, output_dim=1000))\n",
    "model_3L.add(BatchNormalization())\n",
    "model_3L.add(ELU(alpha=0.9))\n",
    "model_3L.add(Dropout(0.5))\n",
    "\n",
    "# third layer, 6 nodes, BatchNormalized, SoftMax\n",
    "model_3L.add(Dense(input_dim=1000, output_dim=n_output))\n",
    "model_3L.add(BatchNormalization())\n",
    "model_3L.add(Activation(\"softmax\"))"
   ]
  },
  {
   "cell_type": "code",
   "execution_count": 30,
   "metadata": {
    "collapsed": true
   },
   "outputs": [],
   "source": [
    "model_3L.compile(optimizer='rmsprop', loss='categorical_crossentropy', metrics=['accuracy'])"
   ]
  },
  {
   "cell_type": "code",
   "execution_count": 31,
   "metadata": {
    "collapsed": false
   },
   "outputs": [
    {
     "name": "stdout",
     "output_type": "stream",
     "text": [
      "Epoch 1/10\n",
      "161412/161412 [==============================] - 262s - loss: 1.2384 - acc: 0.5535   \n",
      "Epoch 2/10\n",
      "161412/161412 [==============================] - 295s - loss: 1.1330 - acc: 0.5868   \n",
      "Epoch 3/10\n",
      "161412/161412 [==============================] - 294s - loss: 1.0583 - acc: 0.6223   \n",
      "Epoch 4/10\n",
      "161412/161412 [==============================] - 293s - loss: 0.9790 - acc: 0.6576   \n",
      "Epoch 5/10\n",
      "161412/161412 [==============================] - 294s - loss: 0.9174 - acc: 0.6827   \n",
      "Epoch 6/10\n",
      "161412/161412 [==============================] - 294s - loss: 0.8673 - acc: 0.7032   \n",
      "Epoch 7/10\n",
      "161412/161412 [==============================] - 290s - loss: 0.8251 - acc: 0.7195   \n",
      "Epoch 8/10\n",
      "161412/161412 [==============================] - 292s - loss: 0.7912 - acc: 0.7316   \n",
      "Epoch 9/10\n",
      "161412/161412 [==============================] - 295s - loss: 0.7635 - acc: 0.7422   \n",
      "Epoch 10/10\n",
      "161412/161412 [==============================] - 291s - loss: 0.7366 - acc: 0.7533   \n"
     ]
    },
    {
     "data": {
      "text/plain": [
       "<keras.callbacks.History at 0x7f933a62d250>"
      ]
     },
     "execution_count": 31,
     "metadata": {},
     "output_type": "execute_result"
    }
   ],
   "source": [
    "model_3L.fit(X_train, y_train, validation_split=(X_test, y_test), nb_epoch=10)"
   ]
  },
  {
   "cell_type": "code",
   "execution_count": 32,
   "metadata": {
    "collapsed": false
   },
   "outputs": [
    {
     "name": "stdout",
     "output_type": "stream",
     "text": [
      "____________________________________________________________________________________________________\n",
      "Layer (type)                     Output Shape          Param #     Connected to                     \n",
      "====================================================================================================\n",
      "dense_12 (Dense)                 (None, 1000)          913000      dense_input_5[0][0]              \n",
      "____________________________________________________________________________________________________\n",
      "batchnormalization_12 (BatchNorma(None, 1000)          2000        dense_12[0][0]                   \n",
      "____________________________________________________________________________________________________\n",
      "elu_8 (ELU)                      (None, 1000)          0           batchnormalization_12[0][0]      \n",
      "____________________________________________________________________________________________________\n",
      "dropout_8 (Dropout)              (None, 1000)          0           elu_8[0][0]                      \n",
      "____________________________________________________________________________________________________\n",
      "dense_13 (Dense)                 (None, 1000)          1001000     dropout_8[0][0]                  \n",
      "____________________________________________________________________________________________________\n",
      "batchnormalization_13 (BatchNorma(None, 1000)          2000        dense_13[0][0]                   \n",
      "____________________________________________________________________________________________________\n",
      "elu_9 (ELU)                      (None, 1000)          0           batchnormalization_13[0][0]      \n",
      "____________________________________________________________________________________________________\n",
      "dropout_9 (Dropout)              (None, 1000)          0           elu_9[0][0]                      \n",
      "____________________________________________________________________________________________________\n",
      "dense_14 (Dense)                 (None, 7)             7007        dropout_9[0][0]                  \n",
      "____________________________________________________________________________________________________\n",
      "batchnormalization_14 (BatchNorma(None, 7)             14          dense_14[0][0]                   \n",
      "____________________________________________________________________________________________________\n",
      "activation_5 (Activation)        (None, 7)             0           batchnormalization_14[0][0]      \n",
      "====================================================================================================\n",
      "Total params: 1925021\n",
      "____________________________________________________________________________________________________\n"
     ]
    }
   ],
   "source": [
    "model_3L.summary()"
   ]
  },
  {
   "cell_type": "markdown",
   "metadata": {},
   "source": [
    "Thoughts\n",
    "- getting lots of oscillation on accuracy and loss\n",
    "    - consider using an adaptive learning rate\n",
    "        - http://keras.io/callbacks/#learningratescheduler"
   ]
  },
  {
   "cell_type": "markdown",
   "metadata": {},
   "source": [
    " "
   ]
  }
 ],
 "metadata": {
  "kernelspec": {
   "display_name": "Python 2",
   "language": "python",
   "name": "python2"
  },
  "language_info": {
   "codemirror_mode": {
    "name": "ipython",
    "version": 2
   },
   "file_extension": ".py",
   "mimetype": "text/x-python",
   "name": "python",
   "nbconvert_exporter": "python",
   "pygments_lexer": "ipython2",
   "version": "2.7.11"
  }
 },
 "nbformat": 4,
 "nbformat_minor": 0
}
